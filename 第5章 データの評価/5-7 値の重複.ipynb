{
 "cells": [
  {
   "cell_type": "code",
   "execution_count": 2,
   "metadata": {},
   "outputs": [
    {
     "data": {
      "text/plain": [
       "(152, 11)"
      ]
     },
     "execution_count": 2,
     "metadata": {},
     "output_type": "execute_result"
    }
   ],
   "source": [
    "# 重複の有無の確認\n",
    "import pandas as pd\n",
    "\n",
    "df = pd.read_parquet(\"../result/penguins.parquet\")\n",
    "df_adelie = df.loc[df.loc[:, \"Species_Short\"] == \"Adelie\"]\n",
    "df_adelie.shape"
   ]
  },
  {
   "cell_type": "code",
   "execution_count": 3,
   "metadata": {},
   "outputs": [
    {
     "data": {
      "text/plain": [
       "Species             1\n",
       "Island              3\n",
       "Individual_ID     132\n",
       "Date_Egg           33\n",
       "Culmen_Length      79\n",
       "Culmen_Depth       50\n",
       "Flipper_Length     33\n",
       "Body_Mass          56\n",
       "Sex                 3\n",
       "Comments            8\n",
       "Species_Short       1\n",
       "dtype: int64"
      ]
     },
     "execution_count": 3,
     "metadata": {},
     "output_type": "execute_result"
    }
   ],
   "source": [
    "df_adelie.nunique(dropna=False)"
   ]
  },
  {
   "cell_type": "code",
   "execution_count": 4,
   "metadata": {},
   "outputs": [
    {
     "data": {
      "text/plain": [
       "np.int64(0)"
      ]
     },
     "execution_count": 4,
     "metadata": {},
     "output_type": "execute_result"
    }
   ],
   "source": [
    "df_adelie.duplicated().sum()"
   ]
  },
  {
   "cell_type": "code",
   "execution_count": 7,
   "metadata": {},
   "outputs": [
    {
     "data": {
      "text/plain": [
       "np.int64(20)"
      ]
     },
     "execution_count": 7,
     "metadata": {},
     "output_type": "execute_result"
    }
   ],
   "source": [
    "df_adelie.duplicated(subset=[\"Individual_ID\"]).sum()"
   ]
  },
  {
   "cell_type": "code",
   "execution_count": 33,
   "metadata": {},
   "outputs": [
    {
     "data": {
      "text/plain": [
       "30    True\n",
       "31    True\n",
       "32    True\n",
       "33    True\n",
       "34    True\n",
       "35    True\n",
       "Name: Individual_ID, dtype: bool"
      ]
     },
     "execution_count": 33,
     "metadata": {},
     "output_type": "execute_result"
    }
   ],
   "source": [
    "df_adelie.loc[:, \"Individual_ID\"].duplicated(keep=False).loc[30:35]"
   ]
  },
  {
   "cell_type": "code",
   "execution_count": 31,
   "metadata": {},
   "outputs": [
    {
     "data": {
      "text/plain": [
       "30    False\n",
       "31    False\n",
       "32    False\n",
       "33    False\n",
       "34    False\n",
       "35    False\n",
       "Name: Individual_ID, dtype: bool"
      ]
     },
     "execution_count": 31,
     "metadata": {},
     "output_type": "execute_result"
    }
   ],
   "source": [
    "df_adelie.loc[:, \"Individual_ID\"].duplicated(keep=\"first\").loc[30:35]"
   ]
  },
  {
   "cell_type": "code",
   "execution_count": 34,
   "metadata": {},
   "outputs": [
    {
     "data": {
      "text/plain": [
       "30    True\n",
       "31    True\n",
       "32    True\n",
       "33    True\n",
       "34    True\n",
       "35    True\n",
       "Name: Individual_ID, dtype: bool"
      ]
     },
     "execution_count": 34,
     "metadata": {},
     "output_type": "execute_result"
    }
   ],
   "source": [
    "df_adelie.loc[:, \"Individual_ID\"].duplicated(keep=\"last\").loc[30:35]"
   ]
  },
  {
   "cell_type": "code",
   "execution_count": 35,
   "metadata": {},
   "outputs": [
    {
     "data": {
      "text/plain": [
       "(40, 11)"
      ]
     },
     "execution_count": 35,
     "metadata": {},
     "output_type": "execute_result"
    }
   ],
   "source": [
    "df_adelie.loc[\n",
    "    df_adelie.loc[:, \"Individual_ID\"].duplicated(keep=False)\n",
    "].sort_values(by=\"Individual_ID\").shape"
   ]
  },
  {
   "cell_type": "code",
   "execution_count": 10,
   "metadata": {},
   "outputs": [
    {
     "data": {
      "text/html": [
       "<div>\n",
       "<style scoped>\n",
       "    .dataframe tbody tr th:only-of-type {\n",
       "        vertical-align: middle;\n",
       "    }\n",
       "\n",
       "    .dataframe tbody tr th {\n",
       "        vertical-align: top;\n",
       "    }\n",
       "\n",
       "    .dataframe thead th {\n",
       "        text-align: right;\n",
       "    }\n",
       "</style>\n",
       "<table border=\"1\" class=\"dataframe\">\n",
       "  <thead>\n",
       "    <tr style=\"text-align: right;\">\n",
       "      <th></th>\n",
       "      <th>Species</th>\n",
       "      <th>Island</th>\n",
       "      <th>Individual_ID</th>\n",
       "      <th>Date_Egg</th>\n",
       "      <th>Culmen_Length</th>\n",
       "      <th>Culmen_Depth</th>\n",
       "      <th>Flipper_Length</th>\n",
       "      <th>Body_Mass</th>\n",
       "      <th>Sex</th>\n",
       "      <th>Comments</th>\n",
       "      <th>Species_Short</th>\n",
       "    </tr>\n",
       "  </thead>\n",
       "  <tbody>\n",
       "    <tr>\n",
       "      <th>30</th>\n",
       "      <td>Adelie Penguin (Pygoscelis adeliae)</td>\n",
       "      <td>Dream</td>\n",
       "      <td>N21A1</td>\n",
       "      <td>2007-11-09</td>\n",
       "      <td>39.5</td>\n",
       "      <td>16.7</td>\n",
       "      <td>178.0</td>\n",
       "      <td>3250.0</td>\n",
       "      <td>FEMALE</td>\n",
       "      <td>None</td>\n",
       "      <td>Adelie</td>\n",
       "    </tr>\n",
       "    <tr>\n",
       "      <th>50</th>\n",
       "      <td>Adelie Penguin (Pygoscelis adeliae)</td>\n",
       "      <td>Biscoe</td>\n",
       "      <td>N21A1</td>\n",
       "      <td>2008-11-06</td>\n",
       "      <td>39.6</td>\n",
       "      <td>17.7</td>\n",
       "      <td>186.0</td>\n",
       "      <td>3500.0</td>\n",
       "      <td>FEMALE</td>\n",
       "      <td>None</td>\n",
       "      <td>Adelie</td>\n",
       "    </tr>\n",
       "    <tr>\n",
       "      <th>51</th>\n",
       "      <td>Adelie Penguin (Pygoscelis adeliae)</td>\n",
       "      <td>Biscoe</td>\n",
       "      <td>N21A2</td>\n",
       "      <td>2008-11-06</td>\n",
       "      <td>40.1</td>\n",
       "      <td>18.9</td>\n",
       "      <td>188.0</td>\n",
       "      <td>4300.0</td>\n",
       "      <td>MALE</td>\n",
       "      <td>None</td>\n",
       "      <td>Adelie</td>\n",
       "    </tr>\n",
       "    <tr>\n",
       "      <th>31</th>\n",
       "      <td>Adelie Penguin (Pygoscelis adeliae)</td>\n",
       "      <td>Dream</td>\n",
       "      <td>N21A2</td>\n",
       "      <td>2007-11-09</td>\n",
       "      <td>37.2</td>\n",
       "      <td>18.1</td>\n",
       "      <td>178.0</td>\n",
       "      <td>3900.0</td>\n",
       "      <td>MALE</td>\n",
       "      <td>None</td>\n",
       "      <td>Adelie</td>\n",
       "    </tr>\n",
       "    <tr>\n",
       "      <th>32</th>\n",
       "      <td>Adelie Penguin (Pygoscelis adeliae)</td>\n",
       "      <td>Dream</td>\n",
       "      <td>N22A1</td>\n",
       "      <td>2007-11-09</td>\n",
       "      <td>39.5</td>\n",
       "      <td>17.8</td>\n",
       "      <td>188.0</td>\n",
       "      <td>3300.0</td>\n",
       "      <td>FEMALE</td>\n",
       "      <td>None</td>\n",
       "      <td>Adelie</td>\n",
       "    </tr>\n",
       "  </tbody>\n",
       "</table>\n",
       "</div>"
      ],
      "text/plain": [
       "                                Species  Island Individual_ID   Date_Egg  \\\n",
       "30  Adelie Penguin (Pygoscelis adeliae)   Dream         N21A1 2007-11-09   \n",
       "50  Adelie Penguin (Pygoscelis adeliae)  Biscoe         N21A1 2008-11-06   \n",
       "51  Adelie Penguin (Pygoscelis adeliae)  Biscoe         N21A2 2008-11-06   \n",
       "31  Adelie Penguin (Pygoscelis adeliae)   Dream         N21A2 2007-11-09   \n",
       "32  Adelie Penguin (Pygoscelis adeliae)   Dream         N22A1 2007-11-09   \n",
       "\n",
       "    Culmen_Length  Culmen_Depth  Flipper_Length  Body_Mass     Sex Comments  \\\n",
       "30           39.5          16.7           178.0     3250.0  FEMALE     None   \n",
       "50           39.6          17.7           186.0     3500.0  FEMALE     None   \n",
       "51           40.1          18.9           188.0     4300.0    MALE     None   \n",
       "31           37.2          18.1           178.0     3900.0    MALE     None   \n",
       "32           39.5          17.8           188.0     3300.0  FEMALE     None   \n",
       "\n",
       "   Species_Short  \n",
       "30        Adelie  \n",
       "50        Adelie  \n",
       "51        Adelie  \n",
       "31        Adelie  \n",
       "32        Adelie  "
      ]
     },
     "execution_count": 10,
     "metadata": {},
     "output_type": "execute_result"
    }
   ],
   "source": [
    "df_adelie.loc[\n",
    "    df_adelie.loc[:, \"Individual_ID\"].duplicated(keep=False)\n",
    "].sort_values(by=\"Individual_ID\").head()"
   ]
  },
  {
   "cell_type": "code",
   "execution_count": 38,
   "metadata": {},
   "outputs": [
    {
     "name": "stdout",
     "output_type": "stream",
     "text": [
      "duplicate: (304, 11)\n",
      "droped:    (152, 11)\n"
     ]
    }
   ],
   "source": [
    "# 重複排除 (列全体)\n",
    "df_adelie_duplicated = pd.concat(\n",
    "    [df_adelie, df_adelie],\n",
    ")\n",
    "print(f\"duplicate: {df_adelie_duplicated.shape}\")\n",
    "print(f\"droped:    {df_adelie_duplicated.drop_duplicates().shape}\")"
   ]
  },
  {
   "cell_type": "code",
   "execution_count": 42,
   "metadata": {},
   "outputs": [
    {
     "data": {
      "text/html": [
       "<div>\n",
       "<style scoped>\n",
       "    .dataframe tbody tr th:only-of-type {\n",
       "        vertical-align: middle;\n",
       "    }\n",
       "\n",
       "    .dataframe tbody tr th {\n",
       "        vertical-align: top;\n",
       "    }\n",
       "\n",
       "    .dataframe thead th {\n",
       "        text-align: right;\n",
       "    }\n",
       "</style>\n",
       "<table border=\"1\" class=\"dataframe\">\n",
       "  <thead>\n",
       "    <tr style=\"text-align: right;\">\n",
       "      <th></th>\n",
       "      <th>Species</th>\n",
       "      <th>Island</th>\n",
       "      <th>Individual_ID</th>\n",
       "      <th>Date_Egg</th>\n",
       "      <th>Culmen_Length</th>\n",
       "      <th>Culmen_Depth</th>\n",
       "      <th>Flipper_Length</th>\n",
       "      <th>Body_Mass</th>\n",
       "      <th>Sex</th>\n",
       "      <th>Comments</th>\n",
       "      <th>Species_Short</th>\n",
       "    </tr>\n",
       "  </thead>\n",
       "  <tbody>\n",
       "    <tr>\n",
       "      <th>30</th>\n",
       "      <td>Adelie Penguin (Pygoscelis adeliae)</td>\n",
       "      <td>Dream</td>\n",
       "      <td>N21A1</td>\n",
       "      <td>2007-11-09</td>\n",
       "      <td>39.5</td>\n",
       "      <td>16.7</td>\n",
       "      <td>178.0</td>\n",
       "      <td>3250.0</td>\n",
       "      <td>FEMALE</td>\n",
       "      <td>None</td>\n",
       "      <td>Adelie</td>\n",
       "    </tr>\n",
       "    <tr>\n",
       "      <th>31</th>\n",
       "      <td>Adelie Penguin (Pygoscelis adeliae)</td>\n",
       "      <td>Dream</td>\n",
       "      <td>N21A2</td>\n",
       "      <td>2007-11-09</td>\n",
       "      <td>37.2</td>\n",
       "      <td>18.1</td>\n",
       "      <td>178.0</td>\n",
       "      <td>3900.0</td>\n",
       "      <td>MALE</td>\n",
       "      <td>None</td>\n",
       "      <td>Adelie</td>\n",
       "    </tr>\n",
       "    <tr>\n",
       "      <th>32</th>\n",
       "      <td>Adelie Penguin (Pygoscelis adeliae)</td>\n",
       "      <td>Dream</td>\n",
       "      <td>N22A1</td>\n",
       "      <td>2007-11-09</td>\n",
       "      <td>39.5</td>\n",
       "      <td>17.8</td>\n",
       "      <td>188.0</td>\n",
       "      <td>3300.0</td>\n",
       "      <td>FEMALE</td>\n",
       "      <td>None</td>\n",
       "      <td>Adelie</td>\n",
       "    </tr>\n",
       "    <tr>\n",
       "      <th>33</th>\n",
       "      <td>Adelie Penguin (Pygoscelis adeliae)</td>\n",
       "      <td>Dream</td>\n",
       "      <td>N22A2</td>\n",
       "      <td>2007-11-09</td>\n",
       "      <td>40.9</td>\n",
       "      <td>18.9</td>\n",
       "      <td>184.0</td>\n",
       "      <td>3900.0</td>\n",
       "      <td>MALE</td>\n",
       "      <td>None</td>\n",
       "      <td>Adelie</td>\n",
       "    </tr>\n",
       "    <tr>\n",
       "      <th>34</th>\n",
       "      <td>Adelie Penguin (Pygoscelis adeliae)</td>\n",
       "      <td>Dream</td>\n",
       "      <td>N23A1</td>\n",
       "      <td>2007-11-16</td>\n",
       "      <td>36.4</td>\n",
       "      <td>17.0</td>\n",
       "      <td>195.0</td>\n",
       "      <td>3325.0</td>\n",
       "      <td>FEMALE</td>\n",
       "      <td>None</td>\n",
       "      <td>Adelie</td>\n",
       "    </tr>\n",
       "    <tr>\n",
       "      <th>35</th>\n",
       "      <td>Adelie Penguin (Pygoscelis adeliae)</td>\n",
       "      <td>Dream</td>\n",
       "      <td>N23A2</td>\n",
       "      <td>2007-11-16</td>\n",
       "      <td>39.2</td>\n",
       "      <td>21.1</td>\n",
       "      <td>196.0</td>\n",
       "      <td>4150.0</td>\n",
       "      <td>MALE</td>\n",
       "      <td>None</td>\n",
       "      <td>Adelie</td>\n",
       "    </tr>\n",
       "    <tr>\n",
       "      <th>36</th>\n",
       "      <td>Adelie Penguin (Pygoscelis adeliae)</td>\n",
       "      <td>Dream</td>\n",
       "      <td>N24A1</td>\n",
       "      <td>2007-11-16</td>\n",
       "      <td>38.8</td>\n",
       "      <td>20.0</td>\n",
       "      <td>190.0</td>\n",
       "      <td>3950.0</td>\n",
       "      <td>MALE</td>\n",
       "      <td>None</td>\n",
       "      <td>Adelie</td>\n",
       "    </tr>\n",
       "    <tr>\n",
       "      <th>37</th>\n",
       "      <td>Adelie Penguin (Pygoscelis adeliae)</td>\n",
       "      <td>Dream</td>\n",
       "      <td>N24A2</td>\n",
       "      <td>2007-11-16</td>\n",
       "      <td>42.2</td>\n",
       "      <td>18.5</td>\n",
       "      <td>180.0</td>\n",
       "      <td>3550.0</td>\n",
       "      <td>FEMALE</td>\n",
       "      <td>None</td>\n",
       "      <td>Adelie</td>\n",
       "    </tr>\n",
       "    <tr>\n",
       "      <th>38</th>\n",
       "      <td>Adelie Penguin (Pygoscelis adeliae)</td>\n",
       "      <td>Dream</td>\n",
       "      <td>N25A1</td>\n",
       "      <td>2007-11-13</td>\n",
       "      <td>37.6</td>\n",
       "      <td>19.3</td>\n",
       "      <td>181.0</td>\n",
       "      <td>3300.0</td>\n",
       "      <td>FEMALE</td>\n",
       "      <td>Nest never observed with full clutch.</td>\n",
       "      <td>Adelie</td>\n",
       "    </tr>\n",
       "    <tr>\n",
       "      <th>39</th>\n",
       "      <td>Adelie Penguin (Pygoscelis adeliae)</td>\n",
       "      <td>Dream</td>\n",
       "      <td>N25A2</td>\n",
       "      <td>2007-11-13</td>\n",
       "      <td>39.8</td>\n",
       "      <td>19.1</td>\n",
       "      <td>184.0</td>\n",
       "      <td>4650.0</td>\n",
       "      <td>MALE</td>\n",
       "      <td>Nest never observed with full clutch. Not enou...</td>\n",
       "      <td>Adelie</td>\n",
       "    </tr>\n",
       "    <tr>\n",
       "      <th>40</th>\n",
       "      <td>Adelie Penguin (Pygoscelis adeliae)</td>\n",
       "      <td>Dream</td>\n",
       "      <td>N26A1</td>\n",
       "      <td>2007-11-16</td>\n",
       "      <td>36.5</td>\n",
       "      <td>18.0</td>\n",
       "      <td>182.0</td>\n",
       "      <td>3150.0</td>\n",
       "      <td>FEMALE</td>\n",
       "      <td>None</td>\n",
       "      <td>Adelie</td>\n",
       "    </tr>\n",
       "  </tbody>\n",
       "</table>\n",
       "</div>"
      ],
      "text/plain": [
       "                                Species Island Individual_ID   Date_Egg  \\\n",
       "30  Adelie Penguin (Pygoscelis adeliae)  Dream         N21A1 2007-11-09   \n",
       "31  Adelie Penguin (Pygoscelis adeliae)  Dream         N21A2 2007-11-09   \n",
       "32  Adelie Penguin (Pygoscelis adeliae)  Dream         N22A1 2007-11-09   \n",
       "33  Adelie Penguin (Pygoscelis adeliae)  Dream         N22A2 2007-11-09   \n",
       "34  Adelie Penguin (Pygoscelis adeliae)  Dream         N23A1 2007-11-16   \n",
       "35  Adelie Penguin (Pygoscelis adeliae)  Dream         N23A2 2007-11-16   \n",
       "36  Adelie Penguin (Pygoscelis adeliae)  Dream         N24A1 2007-11-16   \n",
       "37  Adelie Penguin (Pygoscelis adeliae)  Dream         N24A2 2007-11-16   \n",
       "38  Adelie Penguin (Pygoscelis adeliae)  Dream         N25A1 2007-11-13   \n",
       "39  Adelie Penguin (Pygoscelis adeliae)  Dream         N25A2 2007-11-13   \n",
       "40  Adelie Penguin (Pygoscelis adeliae)  Dream         N26A1 2007-11-16   \n",
       "\n",
       "    Culmen_Length  Culmen_Depth  Flipper_Length  Body_Mass     Sex  \\\n",
       "30           39.5          16.7           178.0     3250.0  FEMALE   \n",
       "31           37.2          18.1           178.0     3900.0    MALE   \n",
       "32           39.5          17.8           188.0     3300.0  FEMALE   \n",
       "33           40.9          18.9           184.0     3900.0    MALE   \n",
       "34           36.4          17.0           195.0     3325.0  FEMALE   \n",
       "35           39.2          21.1           196.0     4150.0    MALE   \n",
       "36           38.8          20.0           190.0     3950.0    MALE   \n",
       "37           42.2          18.5           180.0     3550.0  FEMALE   \n",
       "38           37.6          19.3           181.0     3300.0  FEMALE   \n",
       "39           39.8          19.1           184.0     4650.0    MALE   \n",
       "40           36.5          18.0           182.0     3150.0  FEMALE   \n",
       "\n",
       "                                             Comments Species_Short  \n",
       "30                                               None        Adelie  \n",
       "31                                               None        Adelie  \n",
       "32                                               None        Adelie  \n",
       "33                                               None        Adelie  \n",
       "34                                               None        Adelie  \n",
       "35                                               None        Adelie  \n",
       "36                                               None        Adelie  \n",
       "37                                               None        Adelie  \n",
       "38              Nest never observed with full clutch.        Adelie  \n",
       "39  Nest never observed with full clutch. Not enou...        Adelie  \n",
       "40                                               None        Adelie  "
      ]
     },
     "execution_count": 42,
     "metadata": {},
     "output_type": "execute_result"
    }
   ],
   "source": [
    "# 重複排除 (列指定)\n",
    "df_adelie.drop_duplicates(subset=[\"Individual_ID\"], keep=\"first\").loc[30:40]"
   ]
  },
  {
   "cell_type": "code",
   "execution_count": 43,
   "metadata": {},
   "outputs": [
    {
     "data": {
      "text/html": [
       "<div>\n",
       "<style scoped>\n",
       "    .dataframe tbody tr th:only-of-type {\n",
       "        vertical-align: middle;\n",
       "    }\n",
       "\n",
       "    .dataframe tbody tr th {\n",
       "        vertical-align: top;\n",
       "    }\n",
       "\n",
       "    .dataframe thead th {\n",
       "        text-align: right;\n",
       "    }\n",
       "</style>\n",
       "<table border=\"1\" class=\"dataframe\">\n",
       "  <thead>\n",
       "    <tr style=\"text-align: right;\">\n",
       "      <th></th>\n",
       "      <th>Species</th>\n",
       "      <th>Island</th>\n",
       "      <th>Individual_ID</th>\n",
       "      <th>Date_Egg</th>\n",
       "      <th>Culmen_Length</th>\n",
       "      <th>Culmen_Depth</th>\n",
       "      <th>Flipper_Length</th>\n",
       "      <th>Body_Mass</th>\n",
       "      <th>Sex</th>\n",
       "      <th>Comments</th>\n",
       "      <th>Species_Short</th>\n",
       "    </tr>\n",
       "  </thead>\n",
       "  <tbody>\n",
       "    <tr>\n",
       "      <th>40</th>\n",
       "      <td>Adelie Penguin (Pygoscelis adeliae)</td>\n",
       "      <td>Dream</td>\n",
       "      <td>N26A1</td>\n",
       "      <td>2007-11-16</td>\n",
       "      <td>36.5</td>\n",
       "      <td>18.0</td>\n",
       "      <td>182.0</td>\n",
       "      <td>3150.0</td>\n",
       "      <td>FEMALE</td>\n",
       "      <td>None</td>\n",
       "      <td>Adelie</td>\n",
       "    </tr>\n",
       "  </tbody>\n",
       "</table>\n",
       "</div>"
      ],
      "text/plain": [
       "                                Species Island Individual_ID   Date_Egg  \\\n",
       "40  Adelie Penguin (Pygoscelis adeliae)  Dream         N26A1 2007-11-16   \n",
       "\n",
       "    Culmen_Length  Culmen_Depth  Flipper_Length  Body_Mass     Sex Comments  \\\n",
       "40           36.5          18.0           182.0     3150.0  FEMALE     None   \n",
       "\n",
       "   Species_Short  \n",
       "40        Adelie  "
      ]
     },
     "execution_count": 43,
     "metadata": {},
     "output_type": "execute_result"
    }
   ],
   "source": [
    "df_adelie.drop_duplicates(subset=[\"Individual_ID\"], keep=\"last\").loc[30:40]"
   ]
  },
  {
   "cell_type": "code",
   "execution_count": 44,
   "metadata": {},
   "outputs": [
    {
     "data": {
      "text/plain": [
       "(132, 11)"
      ]
     },
     "execution_count": 44,
     "metadata": {},
     "output_type": "execute_result"
    }
   ],
   "source": [
    "df_adelie.drop_duplicates(subset=[\"Individual_ID\"], keep=\"first\").shape"
   ]
  },
  {
   "cell_type": "code",
   "execution_count": 45,
   "metadata": {},
   "outputs": [
    {
     "data": {
      "text/plain": [
       "(132,)"
      ]
     },
     "execution_count": 45,
     "metadata": {},
     "output_type": "execute_result"
    }
   ],
   "source": [
    "df_adelie.groupby(\"Individual_ID\", observed=True)[\"Flipper_Length\"].mean().shape"
   ]
  }
 ],
 "metadata": {
  "kernelspec": {
   "display_name": "Python 3",
   "language": "python",
   "name": "python3"
  },
  "language_info": {
   "codemirror_mode": {
    "name": "ipython",
    "version": 3
   },
   "file_extension": ".py",
   "mimetype": "text/x-python",
   "name": "python",
   "nbconvert_exporter": "python",
   "pygments_lexer": "ipython3",
   "version": "3.12.4"
  }
 },
 "nbformat": 4,
 "nbformat_minor": 2
}
