{
 "cells": [
  {
   "cell_type": "markdown",
   "metadata": {
    "vscode": {
     "languageId": "plaintext"
    }
   },
   "source": [
    "## pandasやNumPyにおける欠損値のデータ型\n",
    "<table>\n",
    "    <thead>\n",
    "        <tr>\n",
    "            <th>表記</th>\n",
    "            <th>データ型</th>\n",
    "            <th>クラス</th>\n",
    "        </tr>\n",
    "    </thead>\n",
    "    <tbody>\n",
    "        <tr>\n",
    "            <td>NaN</td>\n",
    "            <td><m-b>float型</m-b></td>\n",
    "            <td><m-b>numpy.nan</m-b></td>\n",
    "        </tr>\n",
    "        <tr>\n",
    "            <td>NA</td>\n",
    "            <td><m-b>int型</m-b></td>\n",
    "            <td><m-b>pandas.NA</m-b></td>\n",
    "        </tr>\n",
    "        <tr>\n",
    "            <td>NaT</td>\n",
    "            <td><m-b>datetime</m-b></td>\n",
    "            <td><m-b>pandas.NaT</m-b></td>\n",
    "        </tr>\n",
    "    </tbody>\n",
    "</table>"
   ]
  },
  {
   "cell_type": "code",
   "execution_count": 3,
   "metadata": {},
   "outputs": [
    {
     "data": {
      "text/plain": [
       "0    0.511822\n",
       "1         NaN\n",
       "2    0.950464\n",
       "3         NaN\n",
       "dtype: float64"
      ]
     },
     "execution_count": 3,
     "metadata": {},
     "output_type": "execute_result"
    }
   ],
   "source": [
    "# NaNを含むSeries\n",
    "import numpy as np\n",
    "import pandas as pd\n",
    "\n",
    "rng = np.random.default_rng(1)\n",
    "float_ser = pd.Series(rng.random(4), index=range(0, 8, 2)).reindex(range(4))\n",
    "float_ser"
   ]
  },
  {
   "cell_type": "code",
   "execution_count": 5,
   "metadata": {},
   "outputs": [
    {
     "data": {
      "text/plain": [
       "0   2025-02-12\n",
       "1          NaT\n",
       "2   2025-02-13\n",
       "3          NaT\n",
       "dtype: datetime64[ns]"
      ]
     },
     "execution_count": 5,
     "metadata": {},
     "output_type": "execute_result"
    }
   ],
   "source": [
    "# NaTを含むSeries\n",
    "dt_ser = pd.Series(\n",
    "    pd.date_range(\"2025-02-12\", periods=4), index=range(0, 8, 2)\n",
    ").reindex(range(4))\n",
    "dt_ser"
   ]
  },
  {
   "cell_type": "code",
   "execution_count": 10,
   "metadata": {},
   "outputs": [
    {
     "data": {
      "text/plain": [
       "0       4\n",
       "1    <NA>\n",
       "2       5\n",
       "3    <NA>\n",
       "dtype: Int64"
      ]
     },
     "execution_count": 10,
     "metadata": {},
     "output_type": "execute_result"
    }
   ],
   "source": [
    "# NAを含むSeries\n",
    "rng = np.random.default_rng(1)\n",
    "int_ser = pd.Series(\n",
    "    rng.integers(0, 10, 4), index=range(0, 8, 2), dtype=pd.Int64Dtype(),\n",
    ").reindex(range(4))\n",
    "int_ser"
   ]
  },
  {
   "cell_type": "code",
   "execution_count": 12,
   "metadata": {},
   "outputs": [
    {
     "data": {
      "text/plain": [
       "Int64Dtype()"
      ]
     },
     "execution_count": 12,
     "metadata": {},
     "output_type": "execute_result"
    }
   ],
   "source": [
    "int_ser.dtype"
   ]
  },
  {
   "cell_type": "code",
   "execution_count": 17,
   "metadata": {},
   "outputs": [
    {
     "data": {
      "text/plain": [
       "0    1.0\n",
       "1    NaN\n",
       "2    3.0\n",
       "dtype: float64"
      ]
     },
     "metadata": {},
     "output_type": "display_data"
    },
    {
     "data": {
      "text/plain": [
       "0     True\n",
       "1     None\n",
       "2    False\n",
       "dtype: object"
      ]
     },
     "metadata": {},
     "output_type": "display_data"
    },
    {
     "data": {
      "text/plain": [
       "0    1.0\n",
       "1    NaN\n",
       "2    3.0\n",
       "dtype: float64"
      ]
     },
     "metadata": {},
     "output_type": "display_data"
    },
    {
     "data": {
      "text/plain": [
       "0       a\n",
       "1    None\n",
       "2       c\n",
       "dtype: object"
      ]
     },
     "metadata": {},
     "output_type": "display_data"
    },
    {
     "data": {
      "text/plain": [
       "0   2025-12-01\n",
       "1          NaT\n",
       "2   2025-12-03\n",
       "dtype: datetime64[ns]"
      ]
     },
     "metadata": {},
     "output_type": "display_data"
    }
   ],
   "source": [
    "# pandasの型変換\n",
    "from IPython.display import display\n",
    "\n",
    "display(pd.Series([1, None, 3]))\n",
    "display(pd.Series([True, None, False]))\n",
    "display(pd.Series([1.0, None, 3.0]))\n",
    "display(pd.Series([\"a\", None, \"c\"]))\n",
    "display(pd.Series([pd.to_datetime(\"2025-12-01\"), None, pd.to_datetime(\"2025-12-03\")]))"
   ]
  },
  {
   "cell_type": "code",
   "execution_count": 21,
   "metadata": {},
   "outputs": [
    {
     "data": {
      "text/plain": [
       "False"
      ]
     },
     "metadata": {},
     "output_type": "display_data"
    },
    {
     "data": {
      "text/plain": [
       "False"
      ]
     },
     "metadata": {},
     "output_type": "display_data"
    },
    {
     "data": {
      "text/plain": [
       "False"
      ]
     },
     "metadata": {},
     "output_type": "display_data"
    },
    {
     "data": {
      "text/plain": [
       "True"
      ]
     },
     "metadata": {},
     "output_type": "display_data"
    },
    {
     "data": {
      "text/plain": [
       "False"
      ]
     },
     "metadata": {},
     "output_type": "display_data"
    },
    {
     "data": {
      "text/plain": [
       "True"
      ]
     },
     "metadata": {},
     "output_type": "display_data"
    },
    {
     "data": {
      "text/plain": [
       "<NA>"
      ]
     },
     "metadata": {},
     "output_type": "display_data"
    },
    {
     "data": {
      "text/plain": [
       "<NA>"
      ]
     },
     "metadata": {},
     "output_type": "display_data"
    }
   ],
   "source": [
    "# 欠損値を含むデータの評価\n",
    "display(np.nan == np.nan)\n",
    "display(np.nan > np.nan)\n",
    "display(np.nan < np.nan)\n",
    "display(np.nan != np.nan)\n",
    "\n",
    "display(pd.NaT == pd.NaT)\n",
    "display(pd.NaT != pd.NaT)\n",
    "\n",
    "display(pd.NA == pd.NA)\n",
    "display(pd.NA != pd.NA)"
   ]
  },
  {
   "cell_type": "code",
   "execution_count": 23,
   "metadata": {},
   "outputs": [
    {
     "data": {
      "text/plain": [
       "0    0.511822\n",
       "1         NaN\n",
       "2    0.950464\n",
       "3         NaN\n",
       "dtype: float64"
      ]
     },
     "metadata": {},
     "output_type": "display_data"
    },
    {
     "data": {
      "text/plain": [
       "0    False\n",
       "1     True\n",
       "2    False\n",
       "3     True\n",
       "dtype: bool"
      ]
     },
     "metadata": {},
     "output_type": "display_data"
    },
    {
     "data": {
      "text/plain": [
       "0    False\n",
       "1     True\n",
       "2    False\n",
       "3     True\n",
       "dtype: bool"
      ]
     },
     "metadata": {},
     "output_type": "display_data"
    },
    {
     "data": {
      "text/plain": [
       "0    False\n",
       "1     True\n",
       "2    False\n",
       "3     True\n",
       "dtype: bool"
      ]
     },
     "metadata": {},
     "output_type": "display_data"
    },
    {
     "data": {
      "text/plain": [
       "0    False\n",
       "1     True\n",
       "2    False\n",
       "3     True\n",
       "dtype: bool"
      ]
     },
     "metadata": {},
     "output_type": "display_data"
    }
   ],
   "source": [
    "display(float_ser)\n",
    "display(pd.isna(float_ser))\n",
    "display(pd.isnull(float_ser))\n",
    "display(float_ser.isna())\n",
    "display(float_ser.isnull())"
   ]
  },
  {
   "cell_type": "code",
   "execution_count": 24,
   "metadata": {},
   "outputs": [
    {
     "data": {
      "text/plain": [
       "0    False\n",
       "1     True\n",
       "2    False\n",
       "3     True\n",
       "dtype: bool"
      ]
     },
     "execution_count": 24,
     "metadata": {},
     "output_type": "execute_result"
    }
   ],
   "source": [
    "int_ser.isna()"
   ]
  },
  {
   "cell_type": "code",
   "execution_count": 26,
   "metadata": {},
   "outputs": [
    {
     "data": {
      "text/plain": [
       "0    False\n",
       "1     True\n",
       "2    False\n",
       "3     True\n",
       "dtype: bool"
      ]
     },
     "execution_count": 26,
     "metadata": {},
     "output_type": "execute_result"
    }
   ],
   "source": [
    "dt_ser.isnull()"
   ]
  },
  {
   "cell_type": "code",
   "execution_count": 34,
   "metadata": {},
   "outputs": [
    {
     "data": {
      "text/plain": [
       "0       4\n",
       "1    <NA>\n",
       "2       5\n",
       "3    <NA>\n",
       "dtype: Int64"
      ]
     },
     "metadata": {},
     "output_type": "display_data"
    },
    {
     "data": {
      "text/plain": [
       "'size'"
      ]
     },
     "metadata": {},
     "output_type": "display_data"
    },
    {
     "data": {
      "text/plain": [
       "4"
      ]
     },
     "metadata": {},
     "output_type": "display_data"
    },
    {
     "data": {
      "text/plain": [
       "'count()'"
      ]
     },
     "metadata": {},
     "output_type": "display_data"
    },
    {
     "data": {
      "text/plain": [
       "np.int64(2)"
      ]
     },
     "metadata": {},
     "output_type": "display_data"
    },
    {
     "data": {
      "text/plain": [
       "'sum()'"
      ]
     },
     "metadata": {},
     "output_type": "display_data"
    },
    {
     "data": {
      "text/plain": [
       "np.int64(9)"
      ]
     },
     "metadata": {},
     "output_type": "display_data"
    },
    {
     "data": {
      "text/plain": [
       "'sum(skipna=False)'"
      ]
     },
     "metadata": {},
     "output_type": "display_data"
    },
    {
     "data": {
      "text/plain": [
       "<NA>"
      ]
     },
     "metadata": {},
     "output_type": "display_data"
    },
    {
     "data": {
      "text/plain": [
       "'mean()'"
      ]
     },
     "metadata": {},
     "output_type": "display_data"
    },
    {
     "data": {
      "text/plain": [
       "np.float64(4.5)"
      ]
     },
     "metadata": {},
     "output_type": "display_data"
    },
    {
     "data": {
      "text/plain": [
       "'cumsum()'"
      ]
     },
     "metadata": {},
     "output_type": "display_data"
    },
    {
     "data": {
      "text/plain": [
       "0       4\n",
       "1    <NA>\n",
       "2       9\n",
       "3    <NA>\n",
       "dtype: Int64"
      ]
     },
     "metadata": {},
     "output_type": "display_data"
    },
    {
     "data": {
      "text/plain": [
       "'cumprod(skipna=False)'"
      ]
     },
     "metadata": {},
     "output_type": "display_data"
    },
    {
     "data": {
      "text/plain": [
       "0       4\n",
       "1    <NA>\n",
       "2    <NA>\n",
       "3    <NA>\n",
       "dtype: Int64"
      ]
     },
     "metadata": {},
     "output_type": "display_data"
    }
   ],
   "source": [
    "# 欠損値を含む計算\n",
    "display(int_ser)\n",
    "display(\"size\")\n",
    "display(int_ser.size)\n",
    "display(\"count()\")\n",
    "display(int_ser.count())\n",
    "display(\"sum()\")\n",
    "display(int_ser.sum())\n",
    "display(\"sum(skipna=False)\")\n",
    "display(int_ser.sum(skipna=False))\n",
    "display(\"mean()\")\n",
    "display(int_ser.mean())\n",
    "display(\"cumsum()\")\n",
    "display(int_ser.cumsum())\n",
    "display(\"cumprod(skipna=False)\")\n",
    "display(int_ser.cumprod(skipna=False))"
   ]
  },
  {
   "cell_type": "markdown",
   "metadata": {},
   "source": [
    "## 欠損値が発生するパターン\n",
    "\n",
    "### <m-b>MCAR</m-b> (<m-b>Missing Completely At Random</m-b>): 完全にランダムに発生する場合\n",
    "\n",
    "ある列の欠損値の発生が他の列の値に依存しない場合。\n",
    "欠損値は無視できる。\n",
    "\n",
    "### <m-b>MAR</m-b> (<m-b>Missing At Random</m-b>): 条件はあるがランダムに発生する場合\n",
    "その条件についてのみ考える場合に欠損を無視できるが、そうでない場合に無視できない。\n",
    "\n",
    "### <m-b>NMAR</m-b> (<m-b>Not Missing At Random</m-b>): ランダムには発生しない場合\n",
    "系統的に欠損値が発生する場合、欠損値を無視できない。"
   ]
  },
  {
   "cell_type": "code",
   "execution_count": 37,
   "metadata": {},
   "outputs": [
    {
     "data": {
      "text/plain": [
       "Species             0\n",
       "Island              0\n",
       "Individual_ID       0\n",
       "Date_Egg            0\n",
       "Culmen_Length       2\n",
       "Culmen_Depth        2\n",
       "Flipper_Length      2\n",
       "Body_Mass           2\n",
       "Sex                11\n",
       "Comments          290\n",
       "Species_Short       0\n",
       "dtype: int64"
      ]
     },
     "execution_count": 37,
     "metadata": {},
     "output_type": "execute_result"
    }
   ],
   "source": [
    "# 欠損値の確認\n",
    "df = pd.read_parquet(\"../result/penguins.parquet\")\n",
    "df.isna().sum()"
   ]
  },
  {
   "cell_type": "code",
   "execution_count": 39,
   "metadata": {},
   "outputs": [
    {
     "data": {
      "text/plain": [
       "(344, 11)"
      ]
     },
     "execution_count": 39,
     "metadata": {},
     "output_type": "execute_result"
    }
   ],
   "source": [
    "df.shape"
   ]
  },
  {
   "cell_type": "code",
   "execution_count": 38,
   "metadata": {},
   "outputs": [
    {
     "data": {
      "text/plain": [
       "(342, 11)"
      ]
     },
     "execution_count": 38,
     "metadata": {},
     "output_type": "execute_result"
    }
   ],
   "source": [
    "# ペアワイズ: 対象とする列のいずれかに欠損がある行を削除\n",
    "df.dropna(subset=[\"Culmen_Length\"]).shape"
   ]
  },
  {
   "cell_type": "code",
   "execution_count": 40,
   "metadata": {},
   "outputs": [
    {
     "data": {
      "text/plain": [
       "(333, 11)"
      ]
     },
     "execution_count": 40,
     "metadata": {},
     "output_type": "execute_result"
    }
   ],
   "source": [
    "df.dropna(subset=[\"Culmen_Length\", \"Sex\"]).shape"
   ]
  },
  {
   "cell_type": "code",
   "execution_count": 42,
   "metadata": {},
   "outputs": [
    {
     "data": {
      "text/plain": [
       "(43, 11)"
      ]
     },
     "execution_count": 42,
     "metadata": {},
     "output_type": "execute_result"
    }
   ],
   "source": [
    "# 完全セット(リストワイズ): いずれかの列に欠損ががある行を削除\n",
    "df.dropna().shape"
   ]
  },
  {
   "cell_type": "code",
   "execution_count": 45,
   "metadata": {},
   "outputs": [
    {
     "data": {
      "text/plain": [
       "(344, 5)"
      ]
     },
     "execution_count": 45,
     "metadata": {},
     "output_type": "execute_result"
    }
   ],
   "source": [
    "# 欠損値がある列を削除\n",
    "df.dropna(axis=1).shape"
   ]
  },
  {
   "cell_type": "code",
   "execution_count": 47,
   "metadata": {},
   "outputs": [
    {
     "name": "stdout",
     "output_type": "stream",
     "text": [
      "(333, 11)\n",
      "(342, 11)\n"
     ]
    }
   ],
   "source": [
    "# how=\"any\"と\"all\"\n",
    "print(df.dropna(subset=[\"Culmen_Length\", \"Sex\"], how=\"any\").shape)\n",
    "print(df.dropna(subset=[\"Culmen_Length\", \"Sex\"], how=\"all\").shape)"
   ]
  },
  {
   "cell_type": "code",
   "execution_count": 50,
   "metadata": {},
   "outputs": [
    {
     "data": {
      "text/plain": [
       "0                         Not enough blood for isotopes.\n",
       "3                                     Adult not sampled.\n",
       "6                  Nest never observed with full clutch.\n",
       "7                  Nest never observed with full clutch.\n",
       "8                              No blood sample obtained.\n",
       "9                   No blood sample obtained for sexing.\n",
       "10                  No blood sample obtained for sexing.\n",
       "11                             No blood sample obtained.\n",
       "12                        Not enough blood for isotopes.\n",
       "13                        Not enough blood for isotopes.\n",
       "15                        Not enough blood for isotopes.\n",
       "28                 Nest never observed with full clutch.\n",
       "29                 Nest never observed with full clutch.\n",
       "38                 Nest never observed with full clutch.\n",
       "39     Nest never observed with full clutch. Not enou...\n",
       "41                        Not enough blood for isotopes.\n",
       "46                        Not enough blood for isotopes.\n",
       "47     Sexing primers did not amplify. Not enough blo...\n",
       "68                 Nest never observed with full clutch.\n",
       "69                 Nest never observed with full clutch.\n",
       "120                Nest never observed with full clutch.\n",
       "121                Nest never observed with full clutch.\n",
       "130                Nest never observed with full clutch.\n",
       "131                Nest never observed with full clutch.\n",
       "138                Nest never observed with full clutch.\n",
       "139                Nest never observed with full clutch.\n",
       "162                Nest never observed with full clutch.\n",
       "163                Nest never observed with full clutch.\n",
       "178                      Sexing primers did not amplify.\n",
       "182                       Not enough blood for isotopes.\n",
       "192                Nest never observed with full clutch.\n",
       "193                Nest never observed with full clutch.\n",
       "198                Nest never observed with full clutch.\n",
       "199                Nest never observed with full clutch.\n",
       "218                      Sexing primers did not amplify.\n",
       "256                      Sexing primers did not amplify.\n",
       "268                      Sexing primers did not amplify.\n",
       "270                Nest never observed with full clutch.\n",
       "271    Adult not sampled. Nest never observed with fu...\n",
       "276                Nest never observed with full clutch.\n",
       "277                Nest never observed with full clutch.\n",
       "292                Nest never observed with full clutch.\n",
       "293                Nest never observed with full clutch.\n",
       "298                Nest never observed with full clutch.\n",
       "299                Nest never observed with full clutch.\n",
       "300                Nest never observed with full clutch.\n",
       "301                Nest never observed with full clutch.\n",
       "302                Nest never observed with full clutch.\n",
       "303                Nest never observed with full clutch.\n",
       "314                Nest never observed with full clutch.\n",
       "315                Nest never observed with full clutch.\n",
       "336                  No delta15N data received from lab.\n",
       "340                Nest never observed with full clutch.\n",
       "341                Nest never observed with full clutch.\n",
       "Name: Comments, dtype: object"
      ]
     },
     "execution_count": 50,
     "metadata": {},
     "output_type": "execute_result"
    }
   ],
   "source": [
    "# Seriesに対するdropna()\n",
    "df.loc[:, \"Comments\"].dropna()"
   ]
  },
  {
   "cell_type": "code",
   "execution_count": null,
   "metadata": {},
   "outputs": [
    {
     "data": {
      "text/plain": [
       "0      3750.0\n",
       "1      3800.0\n",
       "2      3250.0\n",
       "3         NaN\n",
       "4      3450.0\n",
       "        ...  \n",
       "339    4000.0\n",
       "340    3400.0\n",
       "341    3775.0\n",
       "342    4100.0\n",
       "343    3775.0\n",
       "Name: Body_Mass, Length: 344, dtype: float64"
      ]
     },
     "execution_count": 55,
     "metadata": {},
     "output_type": "execute_result"
    }
   ],
   "source": [
    "# 欠損値の補完 (単変量補完)\n",
    "df.groupby(\"Species_Short\", observed=True)[\"Body_Mass\"].transform(\n",
    "    lambda x: x\n",
    ")"
   ]
  },
  {
   "cell_type": "code",
   "execution_count": 56,
   "metadata": {},
   "outputs": [
    {
     "data": {
      "text/plain": [
       "0      3750.000000\n",
       "1      3800.000000\n",
       "2      3250.000000\n",
       "3      3700.662252\n",
       "4      3450.000000\n",
       "          ...     \n",
       "339    4000.000000\n",
       "340    3400.000000\n",
       "341    3775.000000\n",
       "342    4100.000000\n",
       "343    3775.000000\n",
       "Name: Body_Mass, Length: 344, dtype: float64"
      ]
     },
     "execution_count": 56,
     "metadata": {},
     "output_type": "execute_result"
    }
   ],
   "source": [
    "df.groupby(\"Species_Short\", observed=True)[\"Body_Mass\"].transform(\n",
    "    lambda x: x.fillna(x.mean())\n",
    ")"
   ]
  },
  {
   "cell_type": "code",
   "execution_count": 59,
   "metadata": {},
   "outputs": [
    {
     "data": {
      "text/plain": [
       "0    3750.0\n",
       "1    3800.0\n",
       "2    3250.0\n",
       "3       NaN\n",
       "4    3450.0\n",
       "Name: Body_Mass, dtype: float64"
      ]
     },
     "execution_count": 59,
     "metadata": {},
     "output_type": "execute_result"
    }
   ],
   "source": [
    "# 行同士に順序がある場合の補完\n",
    "df.loc[:, \"Body_Mass\"].head()"
   ]
  },
  {
   "cell_type": "code",
   "execution_count": 60,
   "metadata": {},
   "outputs": [
    {
     "data": {
      "text/plain": [
       "0    3750.0\n",
       "1    3800.0\n",
       "2    3250.0\n",
       "3    3250.0\n",
       "4    3450.0\n",
       "Name: Body_Mass, dtype: float64"
      ]
     },
     "execution_count": 60,
     "metadata": {},
     "output_type": "execute_result"
    }
   ],
   "source": [
    "df.loc[:, \"Body_Mass\"].ffill().head()"
   ]
  },
  {
   "cell_type": "code",
   "execution_count": 62,
   "metadata": {},
   "outputs": [
    {
     "data": {
      "text/plain": [
       "0    3750.0\n",
       "1    3800.0\n",
       "2    3250.0\n",
       "3    3450.0\n",
       "4    3450.0\n",
       "Name: Body_Mass, dtype: float64"
      ]
     },
     "execution_count": 62,
     "metadata": {},
     "output_type": "execute_result"
    }
   ],
   "source": [
    "df.loc[:, \"Body_Mass\"].bfill().head()"
   ]
  },
  {
   "cell_type": "code",
   "execution_count": 64,
   "metadata": {},
   "outputs": [
    {
     "data": {
      "text/plain": [
       "0    3750.0\n",
       "1    3800.0\n",
       "2    3250.0\n",
       "3    3350.0\n",
       "4    3450.0\n",
       "Name: Body_Mass, dtype: float64"
      ]
     },
     "execution_count": 64,
     "metadata": {},
     "output_type": "execute_result"
    }
   ],
   "source": [
    "df.loc[:, \"Body_Mass\"].interpolate(method=\"linear\").head()"
   ]
  },
  {
   "cell_type": "code",
   "execution_count": 65,
   "metadata": {},
   "outputs": [
    {
     "data": {
      "text/plain": [
       "1       1.0\n",
       "10      5.5\n",
       "100    10.0\n",
       "dtype: float64"
      ]
     },
     "execution_count": 65,
     "metadata": {},
     "output_type": "execute_result"
    }
   ],
   "source": [
    "pd.Series([1, None, 10], index=[1, 10, 100]).interpolate()"
   ]
  },
  {
   "cell_type": "code",
   "execution_count": 66,
   "metadata": {},
   "outputs": [
    {
     "data": {
      "text/plain": [
       "1       1.000000\n",
       "10      1.818182\n",
       "100    10.000000\n",
       "dtype: float64"
      ]
     },
     "execution_count": 66,
     "metadata": {},
     "output_type": "execute_result"
    }
   ],
   "source": [
    "pd.Series([1, None, 10], index=[1, 10, 100]).interpolate(method=\"index\")"
   ]
  },
  {
   "cell_type": "code",
   "execution_count": 67,
   "metadata": {},
   "outputs": [
    {
     "data": {
      "text/plain": [
       "1       1.000000\n",
       "10      1.818182\n",
       "100    10.000000\n",
       "dtype: float64"
      ]
     },
     "execution_count": 67,
     "metadata": {},
     "output_type": "execute_result"
    }
   ],
   "source": [
    "pd.Series([1, None, 10], index=[1, 10, 100]).interpolate(method=\"values\")"
   ]
  },
  {
   "cell_type": "code",
   "execution_count": 68,
   "metadata": {},
   "outputs": [
    {
     "data": {
      "text/plain": [
       "2025-02-01     1.000000\n",
       "2025-02-05     2.333333\n",
       "2025-02-28    10.000000\n",
       "dtype: float64"
      ]
     },
     "execution_count": 68,
     "metadata": {},
     "output_type": "execute_result"
    }
   ],
   "source": [
    "pd.Series(\n",
    "    [1, None, 10],\n",
    "    index=[\n",
    "        pd.Timestamp(\"2025-02-01\"),\n",
    "        pd.Timestamp(\"2025-02-05\"),\n",
    "        pd.Timestamp(\"2025-02-28\"),\n",
    "    ],\n",
    ").interpolate(method=\"time\")"
   ]
  }
 ],
 "metadata": {
  "kernelspec": {
   "display_name": "Python 3",
   "language": "python",
   "name": "python3"
  },
  "language_info": {
   "codemirror_mode": {
    "name": "ipython",
    "version": 3
   },
   "file_extension": ".py",
   "mimetype": "text/x-python",
   "name": "python",
   "nbconvert_exporter": "python",
   "pygments_lexer": "ipython3",
   "version": "3.12.4"
  }
 },
 "nbformat": 4,
 "nbformat_minor": 2
}
