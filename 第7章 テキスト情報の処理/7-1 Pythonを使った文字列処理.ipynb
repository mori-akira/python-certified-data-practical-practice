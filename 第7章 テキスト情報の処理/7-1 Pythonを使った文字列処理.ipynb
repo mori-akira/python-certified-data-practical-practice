{
 "cells": [
  {
   "cell_type": "code",
   "execution_count": 1,
   "metadata": {},
   "outputs": [
    {
     "name": "stdout",
     "output_type": "stream",
     "text": [
      "['《ざっとう》', '《あいだ》']\n"
     ]
    }
   ],
   "source": [
    "import re\n",
    "\n",
    "RE_RUBY = re.compile(r\"《.+?》\")\n",
    "text = \"私は実に先生をこの雑沓《ざっとう》の間《あいだ》に見付け出したのである。\"\n",
    "rubies = RE_RUBY.findall(text)\n",
    "print(rubies)"
   ]
  },
  {
   "cell_type": "code",
   "execution_count": 2,
   "metadata": {},
   "outputs": [
    {
     "data": {
      "text/plain": [
       "'私は実に先生をこの雑沓の間に見付け出したのである。'"
      ]
     },
     "execution_count": 2,
     "metadata": {},
     "output_type": "execute_result"
    }
   ],
   "source": [
    "ignored_text = RE_RUBY.sub(\"\", text)\n",
    "ignored_text"
   ]
  },
  {
   "cell_type": "code",
   "execution_count": 9,
   "metadata": {},
   "outputs": [
    {
     "name": "stdout",
     "output_type": "stream",
     "text": [
      "{\n",
      "  \"origin\": \"私《わたくし》はその人を常に先生と呼んでいた。だからここでもただ先生と書く...\",\n",
      "  \"length\": 171,\n",
      "  \"rubies\": [\n",
      "    \"《わたくし》\",\n",
      "    \"《はば》\",\n",
      "    \"《と》\",\n",
      "    \"《かしらもじ》\"\n",
      "  ],\n",
      "  \"ruby-count\": 4,\n",
      "  \"ignored-text\": \"私はその人を常に先生と呼んでいた。だからここでもただ先生と書くだけで本名は...\",\n",
      "  \"ignored-length\": 151\n",
      "}\n",
      "{\n",
      "  \"origin\": \"私が先生と知り合いになったのは鎌倉《かまくら》である。その時私はまだ若々し...\",\n",
      "  \"length\": 474,\n",
      "  \"rubies\": [\n",
      "    \"《かまくら》\",\n",
      "    \"《はがき》\",\n",
      "    \"《くめん》\",\n",
      "    \"《に》\",\n",
      "    \"《さんち》\",\n",
      "    \"《た》\",\n",
      "    \"《すす》\",\n",
      "    \"《し》\",\n",
      "    \"《かんじん》\",\n",
      "    \"《もと》\"\n",
      "  ],\n",
      "  \"ruby-count\": 10,\n",
      "  \"ignored-text\": \"私が先生と知り合いになったのは鎌倉である。その時私はまだ若々しい書生であっ...\",\n",
      "  \"ignored-length\": 430\n",
      "}\n"
     ]
    }
   ],
   "source": [
    "import json\n",
    "\n",
    "\n",
    "def truncate_str(s, max_len):\n",
    "    return s if len(s) <= max_len else s[: max_len - 3] + \"...\"\n",
    "\n",
    "\n",
    "result = []\n",
    "with open(\"../data/kokoro_1.txt\", mode=\"r\", encoding=\"utf-8\") as f:\n",
    "    for line in f:\n",
    "        line = line.strip()\n",
    "        if not line:\n",
    "            continue\n",
    "        rubies = RE_RUBY.findall(line)\n",
    "        ignored_text = RE_RUBY.sub(\"\", line)\n",
    "        result.append(\n",
    "            {\n",
    "                \"origin\": truncate_str(line, 40),\n",
    "                \"length\": len(line),\n",
    "                \"rubies\": rubies,\n",
    "                \"ruby-count\": len(rubies),\n",
    "                \"ignored-text\": truncate_str(ignored_text, 40),\n",
    "                \"ignored-length\": len(ignored_text),\n",
    "            }\n",
    "        )\n",
    "\n",
    "print(json.dumps(result[0], indent=2, ensure_ascii=False))\n",
    "print(json.dumps(result[1], indent=2, ensure_ascii=False))"
   ]
  },
  {
   "cell_type": "code",
   "execution_count": 11,
   "metadata": {},
   "outputs": [
    {
     "data": {
      "text/html": [
       "<div>\n",
       "<style scoped>\n",
       "    .dataframe tbody tr th:only-of-type {\n",
       "        vertical-align: middle;\n",
       "    }\n",
       "\n",
       "    .dataframe tbody tr th {\n",
       "        vertical-align: top;\n",
       "    }\n",
       "\n",
       "    .dataframe thead th {\n",
       "        text-align: right;\n",
       "    }\n",
       "</style>\n",
       "<table border=\"1\" class=\"dataframe\">\n",
       "  <thead>\n",
       "    <tr style=\"text-align: right;\">\n",
       "      <th></th>\n",
       "      <th>origin</th>\n",
       "      <th>length</th>\n",
       "      <th>rubies</th>\n",
       "      <th>ruby-count</th>\n",
       "      <th>ignored-text</th>\n",
       "      <th>ignored-length</th>\n",
       "    </tr>\n",
       "  </thead>\n",
       "  <tbody>\n",
       "    <tr>\n",
       "      <th>0</th>\n",
       "      <td>私《わたくし》はその人を常に先生と呼んでいた。だからここでもただ先生と書く...</td>\n",
       "      <td>171</td>\n",
       "      <td>[《わたくし》, 《はば》, 《と》, 《かしらもじ》]</td>\n",
       "      <td>4</td>\n",
       "      <td>私はその人を常に先生と呼んでいた。だからここでもただ先生と書くだけで本名は...</td>\n",
       "      <td>151</td>\n",
       "    </tr>\n",
       "    <tr>\n",
       "      <th>1</th>\n",
       "      <td>私が先生と知り合いになったのは鎌倉《かまくら》である。その時私はまだ若々し...</td>\n",
       "      <td>474</td>\n",
       "      <td>[《かまくら》, 《はがき》, 《くめん》, 《に》, 《さんち》, 《た》, 《すす》, ...</td>\n",
       "      <td>10</td>\n",
       "      <td>私が先生と知り合いになったのは鎌倉である。その時私はまだ若々しい書生であっ...</td>\n",
       "      <td>430</td>\n",
       "    </tr>\n",
       "    <tr>\n",
       "      <th>2</th>\n",
       "      <td>学校の授業が始まるにはまだ大分《だいぶ》日数《ひかず》があるので鎌倉におっ...</td>\n",
       "      <td>199</td>\n",
       "      <td>[《だいぶ》, 《ひかず》, 《と》, 《むすこ》, 《ひとり》, 《かっこう》]</td>\n",
       "      <td>6</td>\n",
       "      <td>学校の授業が始まるにはまだ大分日数があるので鎌倉におってもよし、帰ってもよ...</td>\n",
       "      <td>170</td>\n",
       "    </tr>\n",
       "    <tr>\n",
       "      <th>3</th>\n",
       "      <td>宿は鎌倉でも辺鄙《へんぴ》な方角にあった。玉突《たまつ》きだのアイスクリー...</td>\n",
       "      <td>155</td>\n",
       "      <td>[《へんぴ》, 《たまつ》, 《なわて》]</td>\n",
       "      <td>3</td>\n",
       "      <td>宿は鎌倉でも辺鄙な方角にあった。玉突きだのアイスクリームだのというハイカラ...</td>\n",
       "      <td>140</td>\n",
       "    </tr>\n",
       "    <tr>\n",
       "      <th>4</th>\n",
       "      <td>私は毎日海へはいりに出掛けた。古い燻《くす》ぶり返った藁葺《わらぶき》の間...</td>\n",
       "      <td>250</td>\n",
       "      <td>[《くす》, 《わらぶき》, 《あいだ》, 《いそ》, 《へん》, 《せんとう》, 《にぎ》...</td>\n",
       "      <td>12</td>\n",
       "      <td>私は毎日海へはいりに出掛けた。古い燻ぶり返った藁葺の間を通り抜けて磯へ下り...</td>\n",
       "      <td>196</td>\n",
       "    </tr>\n",
       "    <tr>\n",
       "      <th>5</th>\n",
       "      <td>私は実に先生をこの雑沓《ざっとう》の間《あいだ》に見付け出したのである。そ...</td>\n",
       "      <td>354</td>\n",
       "      <td>[《ざっとう》, 《あいだ》, 《かけぢゃや》, 《はずみ》, 《な》, 《はせへん》, 《...</td>\n",
       "      <td>17</td>\n",
       "      <td>私は実に先生をこの雑沓の間に見付け出したのである。その時海岸には掛茶屋が二...</td>\n",
       "      <td>272</td>\n",
       "    </tr>\n",
       "  </tbody>\n",
       "</table>\n",
       "</div>"
      ],
      "text/plain": [
       "                                     origin  length  \\\n",
       "0  私《わたくし》はその人を常に先生と呼んでいた。だからここでもただ先生と書く...     171   \n",
       "1  私が先生と知り合いになったのは鎌倉《かまくら》である。その時私はまだ若々し...     474   \n",
       "2  学校の授業が始まるにはまだ大分《だいぶ》日数《ひかず》があるので鎌倉におっ...     199   \n",
       "3  宿は鎌倉でも辺鄙《へんぴ》な方角にあった。玉突《たまつ》きだのアイスクリー...     155   \n",
       "4  私は毎日海へはいりに出掛けた。古い燻《くす》ぶり返った藁葺《わらぶき》の間...     250   \n",
       "5  私は実に先生をこの雑沓《ざっとう》の間《あいだ》に見付け出したのである。そ...     354   \n",
       "\n",
       "                                              rubies  ruby-count  \\\n",
       "0                       [《わたくし》, 《はば》, 《と》, 《かしらもじ》]           4   \n",
       "1  [《かまくら》, 《はがき》, 《くめん》, 《に》, 《さんち》, 《た》, 《すす》, ...          10   \n",
       "2          [《だいぶ》, 《ひかず》, 《と》, 《むすこ》, 《ひとり》, 《かっこう》]           6   \n",
       "3                              [《へんぴ》, 《たまつ》, 《なわて》]           3   \n",
       "4  [《くす》, 《わらぶき》, 《あいだ》, 《いそ》, 《へん》, 《せんとう》, 《にぎ》...          12   \n",
       "5  [《ざっとう》, 《あいだ》, 《かけぢゃや》, 《はずみ》, 《な》, 《はせへん》, 《...          17   \n",
       "\n",
       "                               ignored-text  ignored-length  \n",
       "0  私はその人を常に先生と呼んでいた。だからここでもただ先生と書くだけで本名は...             151  \n",
       "1  私が先生と知り合いになったのは鎌倉である。その時私はまだ若々しい書生であっ...             430  \n",
       "2  学校の授業が始まるにはまだ大分日数があるので鎌倉におってもよし、帰ってもよ...             170  \n",
       "3  宿は鎌倉でも辺鄙な方角にあった。玉突きだのアイスクリームだのというハイカラ...             140  \n",
       "4  私は毎日海へはいりに出掛けた。古い燻ぶり返った藁葺の間を通り抜けて磯へ下り...             196  \n",
       "5  私は実に先生をこの雑沓の間に見付け出したのである。その時海岸には掛茶屋が二...             272  "
      ]
     },
     "execution_count": 11,
     "metadata": {},
     "output_type": "execute_result"
    }
   ],
   "source": [
    "# DataFrame化\n",
    "import pandas as pd\n",
    "\n",
    "df = pd.DataFrame(result)\n",
    "df"
   ]
  }
 ],
 "metadata": {
  "kernelspec": {
   "display_name": "Python 3",
   "language": "python",
   "name": "python3"
  },
  "language_info": {
   "codemirror_mode": {
    "name": "ipython",
    "version": 3
   },
   "file_extension": ".py",
   "mimetype": "text/x-python",
   "name": "python",
   "nbconvert_exporter": "python",
   "pygments_lexer": "ipython3",
   "version": "3.12.4"
  }
 },
 "nbformat": 4,
 "nbformat_minor": 2
}
