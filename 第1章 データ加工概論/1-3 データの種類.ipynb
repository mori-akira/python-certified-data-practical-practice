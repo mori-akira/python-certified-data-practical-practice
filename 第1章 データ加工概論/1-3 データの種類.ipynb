{
 "cells": [
  {
   "cell_type": "markdown",
   "metadata": {},
   "source": [
    "## 整然データ\n",
    "英語で<m-b>tidy data</m-b>という。<br>\n",
    "Pythonでは、pandasの<m-b>DataFrame</m-b>を使う場合に、整然データ化を行うことができる。<br>\n",
    "以下の特徴を持つ。\n",
    "\n",
    "- <m-b>各変数</m-b>が1つの<m-b>列</m-b>で構成されている\n",
    "- <m-b>各観測</m-b>が1つの<m-b>行</m-b>で構成されている\n",
    "- <m-b>各観測単位</m-b>が1つの<m-b>表</m-b>で構成されている"
   ]
  }
 ],
 "metadata": {
  "language_info": {
   "name": "python"
  }
 },
 "nbformat": 4,
 "nbformat_minor": 2
}
