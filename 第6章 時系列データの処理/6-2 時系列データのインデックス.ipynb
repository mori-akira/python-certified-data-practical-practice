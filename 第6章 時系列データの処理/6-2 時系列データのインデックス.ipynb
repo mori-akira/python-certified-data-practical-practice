{
 "cells": [
  {
   "cell_type": "code",
   "execution_count": 2,
   "metadata": {},
   "outputs": [
    {
     "data": {
      "text/plain": [
       "DatetimeIndex(['2025-01-01', '2025-01-02', '2025-01-03'], dtype='datetime64[ns]', freq=None)"
      ]
     },
     "execution_count": 2,
     "metadata": {},
     "output_type": "execute_result"
    }
   ],
   "source": [
    "# DatetimeIndex\n",
    "import pandas as pd\n",
    "\n",
    "pd.DatetimeIndex(\n",
    "    [pd.Timestamp(2025, 1, 1), pd.Timestamp(2025, 1, 2), pd.Timestamp(2025, 1, 3)]\n",
    ")"
   ]
  },
  {
   "cell_type": "code",
   "execution_count": 3,
   "metadata": {},
   "outputs": [
    {
     "data": {
      "text/plain": [
       "DatetimeIndex(['2025-01-01', '2025-01-02', '2025-01-03'], dtype='datetime64[ns]', freq=None)"
      ]
     },
     "execution_count": 3,
     "metadata": {},
     "output_type": "execute_result"
    }
   ],
   "source": [
    "pd.DatetimeIndex([\"2025-01-01\", \"2025-01-02\", \"2025-01-03\"])"
   ]
  },
  {
   "cell_type": "markdown",
   "metadata": {},
   "source": [
    "## date_range()関数\n",
    "\n",
    "<table>\n",
    "    <thead>\n",
    "        <tr>\n",
    "            <th>引数</th>\n",
    "            <th>説明</th>\n",
    "        </tr>\n",
    "    </thead>\n",
    "    <tbody>\n",
    "        <tr>\n",
    "            <td><m-b>start</m-b></td>\n",
    "            <td>開始日時 (文字列、datetime型など)</td>\n",
    "        </tr>\n",
    "        <tr>\n",
    "            <td><m-b>end</m-b></td>\n",
    "            <td>終了日時 (文字列、datetime型など)</td>\n",
    "        </tr>\n",
    "        <tr>\n",
    "            <td><m-b>periods</m-b></td>\n",
    "            <td>期間 (int型)</td>\n",
    "        </tr>\n",
    "        <tr>\n",
    "            <td><m-b>freq</m-b></td>\n",
    "            <td>周期 (文字列、DateOffset型) 、デフォルトは<m-b>1D<m-b></td>\n",
    "        </tr>\n",
    "    </tbody>\n",
    "</table>\n"
   ]
  },
  {
   "cell_type": "code",
   "execution_count": 4,
   "metadata": {},
   "outputs": [
    {
     "data": {
      "text/plain": [
       "DatetimeIndex(['2025-01-01', '2025-01-02', '2025-01-03'], dtype='datetime64[ns]', freq='D')"
      ]
     },
     "execution_count": 4,
     "metadata": {},
     "output_type": "execute_result"
    }
   ],
   "source": [
    "pd.date_range(start=\"2025-01-01\", end=\"2025-01-03\")"
   ]
  },
  {
   "cell_type": "code",
   "execution_count": 5,
   "metadata": {},
   "outputs": [
    {
     "data": {
      "text/plain": [
       "DatetimeIndex(['2025-01-01', '2025-01-02', '2025-01-03'], dtype='datetime64[ns]', freq='D')"
      ]
     },
     "execution_count": 5,
     "metadata": {},
     "output_type": "execute_result"
    }
   ],
   "source": [
    "pd.date_range(start=\"2025-01-01\", periods=3)"
   ]
  },
  {
   "cell_type": "code",
   "execution_count": 9,
   "metadata": {},
   "outputs": [
    {
     "data": {
      "text/plain": [
       "DatetimeIndex(['2025-01-01 09:00:00', '2025-01-01 09:00:01',\n",
       "               '2025-01-01 09:00:02', '2025-01-01 09:00:03',\n",
       "               '2025-01-01 09:00:04', '2025-01-01 09:00:05',\n",
       "               '2025-01-01 09:00:06', '2025-01-01 09:00:07',\n",
       "               '2025-01-01 09:00:08', '2025-01-01 09:00:09',\n",
       "               '2025-01-01 09:00:10', '2025-01-01 09:00:11',\n",
       "               '2025-01-01 09:00:12', '2025-01-01 09:00:13',\n",
       "               '2025-01-01 09:00:14'],\n",
       "              dtype='datetime64[ns]', freq='s')"
      ]
     },
     "execution_count": 9,
     "metadata": {},
     "output_type": "execute_result"
    }
   ],
   "source": [
    "pd.date_range(\n",
    "    \"2025-01-01 09:00:00\",\n",
    "    periods=15,\n",
    "    freq=\"s\",\n",
    ")"
   ]
  },
  {
   "cell_type": "code",
   "execution_count": 10,
   "metadata": {},
   "outputs": [
    {
     "data": {
      "text/plain": [
       "DatetimeIndex(['2025-01-01 09:00:00', '2025-01-01 09:00:03',\n",
       "               '2025-01-01 09:00:06', '2025-01-01 09:00:09',\n",
       "               '2025-01-01 09:00:12', '2025-01-01 09:00:15',\n",
       "               '2025-01-01 09:00:18', '2025-01-01 09:00:21',\n",
       "               '2025-01-01 09:00:24', '2025-01-01 09:00:27',\n",
       "               '2025-01-01 09:00:30', '2025-01-01 09:00:33',\n",
       "               '2025-01-01 09:00:36', '2025-01-01 09:00:39',\n",
       "               '2025-01-01 09:00:42'],\n",
       "              dtype='datetime64[ns]', freq='3s')"
      ]
     },
     "execution_count": 10,
     "metadata": {},
     "output_type": "execute_result"
    }
   ],
   "source": [
    "pd.date_range(\n",
    "    \"2025-01-01 09:00:00\",\n",
    "    periods=15,\n",
    "    freq=\"3s\",\n",
    ")"
   ]
  },
  {
   "cell_type": "code",
   "execution_count": 13,
   "metadata": {},
   "outputs": [
    {
     "data": {
      "text/plain": [
       "DatetimeIndex(['2025-01-01 09:00:00', '2025-01-01 09:00:01',\n",
       "               '2025-01-01 09:00:02', '2025-01-01 09:00:03',\n",
       "               '2025-01-01 09:00:04', '2025-01-01 09:00:05',\n",
       "               '2025-01-01 09:00:06', '2025-01-01 09:00:07',\n",
       "               '2025-01-01 09:00:08', '2025-01-01 09:00:09',\n",
       "               '2025-01-01 09:00:10', '2025-01-01 09:00:11',\n",
       "               '2025-01-01 09:00:12', '2025-01-01 09:00:13',\n",
       "               '2025-01-01 09:00:14'],\n",
       "              dtype='datetime64[ns]', freq='<DateOffset: seconds=1>')"
      ]
     },
     "execution_count": 13,
     "metadata": {},
     "output_type": "execute_result"
    }
   ],
   "source": [
    "from pandas import DateOffset\n",
    "\n",
    "pd.date_range(\n",
    "    \"2025-01-01 09:00:00\",\n",
    "    periods=15,\n",
    "    freq=DateOffset(seconds=1),\n",
    ")"
   ]
  },
  {
   "cell_type": "code",
   "execution_count": 16,
   "metadata": {},
   "outputs": [
    {
     "data": {
      "text/plain": [
       "2025-02-01 00:00:00    0.012573\n",
       "2025-02-01 01:00:00    0.489968\n",
       "2025-02-01 02:00:00    0.870890\n",
       "2025-02-01 03:00:00    0.386759\n",
       "2025-02-01 04:00:00    0.453402\n",
       "                         ...   \n",
       "2025-03-14 11:00:00    0.704279\n",
       "2025-03-14 12:00:00    0.156659\n",
       "2025-03-14 13:00:00    0.378472\n",
       "2025-03-14 14:00:00    0.912201\n",
       "2025-03-14 15:00:00    0.319584\n",
       "Freq: h, Length: 1000, dtype: float64"
      ]
     },
     "execution_count": 16,
     "metadata": {},
     "output_type": "execute_result"
    }
   ],
   "source": [
    "# DateTimeIndexへのアクセス\n",
    "import numpy as np\n",
    "\n",
    "rng = np.random.default_rng()\n",
    "ts_ser = pd.Series(\n",
    "    rng.random(1000),\n",
    "    index=pd.date_range(\n",
    "        \"2025-02-01\",\n",
    "        periods=1000,\n",
    "        freq=\"1h\",\n",
    "    ),\n",
    ")\n",
    "ts_ser"
   ]
  },
  {
   "cell_type": "code",
   "execution_count": 17,
   "metadata": {},
   "outputs": [
    {
     "data": {
      "text/plain": [
       "DatetimeIndex(['2025-02-01 00:00:00', '2025-02-01 01:00:00',\n",
       "               '2025-02-01 02:00:00', '2025-02-01 03:00:00',\n",
       "               '2025-02-01 04:00:00', '2025-02-01 05:00:00',\n",
       "               '2025-02-01 06:00:00', '2025-02-01 07:00:00',\n",
       "               '2025-02-01 08:00:00', '2025-02-01 09:00:00',\n",
       "               ...\n",
       "               '2025-03-14 06:00:00', '2025-03-14 07:00:00',\n",
       "               '2025-03-14 08:00:00', '2025-03-14 09:00:00',\n",
       "               '2025-03-14 10:00:00', '2025-03-14 11:00:00',\n",
       "               '2025-03-14 12:00:00', '2025-03-14 13:00:00',\n",
       "               '2025-03-14 14:00:00', '2025-03-14 15:00:00'],\n",
       "              dtype='datetime64[ns]', length=1000, freq='h')"
      ]
     },
     "execution_count": 17,
     "metadata": {},
     "output_type": "execute_result"
    }
   ],
   "source": [
    "ts_ser.index"
   ]
  },
  {
   "cell_type": "code",
   "execution_count": 18,
   "metadata": {},
   "outputs": [
    {
     "data": {
      "text/plain": [
       "np.float64(0.8708897465224985)"
      ]
     },
     "execution_count": 18,
     "metadata": {},
     "output_type": "execute_result"
    }
   ],
   "source": [
    "ts_ser.loc[pd.Timestamp(\"2025-02-01, 02:00:00\")]"
   ]
  },
  {
   "cell_type": "code",
   "execution_count": 19,
   "metadata": {},
   "outputs": [
    {
     "data": {
      "text/plain": [
       "np.float64(0.8708897465224985)"
      ]
     },
     "execution_count": 19,
     "metadata": {},
     "output_type": "execute_result"
    }
   ],
   "source": [
    "ts_ser.loc[\"2025-02-01, 02:00:00\"]"
   ]
  },
  {
   "cell_type": "code",
   "execution_count": 31,
   "metadata": {},
   "outputs": [
    {
     "data": {
      "text/plain": [
       "2025-02-01 10:00:00    0.782138\n",
       "2025-02-02 10:00:00    0.671703\n",
       "2025-02-03 10:00:00    0.944944\n",
       "2025-02-04 10:00:00    0.187202\n",
       "2025-02-05 10:00:00    0.490829\n",
       "Freq: 24h, dtype: float64"
      ]
     },
     "execution_count": 31,
     "metadata": {},
     "output_type": "execute_result"
    }
   ],
   "source": [
    "from datetime import time\n",
    "\n",
    "ts_ser.loc[time(10)].head()"
   ]
  },
  {
   "cell_type": "code",
   "execution_count": 33,
   "metadata": {},
   "outputs": [
    {
     "data": {
      "text/plain": [
       "2025-02-10 00:00:00    0.418558\n",
       "2025-02-10 01:00:00    0.959384\n",
       "2025-02-10 02:00:00    0.198273\n",
       "2025-02-10 03:00:00    0.627915\n",
       "2025-02-10 04:00:00    0.852665\n",
       "Freq: h, dtype: float64"
      ]
     },
     "execution_count": 33,
     "metadata": {},
     "output_type": "execute_result"
    }
   ],
   "source": [
    "ts_ser.loc[\"2025-02-10\"].head()"
   ]
  },
  {
   "cell_type": "code",
   "execution_count": 34,
   "metadata": {},
   "outputs": [
    {
     "data": {
      "text/plain": [
       "2025-02-03 12:00:00    0.904055\n",
       "2025-02-03 13:00:00    0.803032\n",
       "2025-02-03 14:00:00    0.211997\n",
       "2025-02-03 15:00:00    0.402313\n",
       "2025-02-03 16:00:00    0.955304\n",
       "Freq: h, dtype: float64"
      ]
     },
     "execution_count": 34,
     "metadata": {},
     "output_type": "execute_result"
    }
   ],
   "source": [
    "ts_ser.loc[\"2025-02-03 12:00:00\":\"2025-02-04 09:00:00\"].head()"
   ]
  },
  {
   "cell_type": "code",
   "execution_count": 36,
   "metadata": {},
   "outputs": [
    {
     "data": {
      "text/plain": [
       "2025-02-01 10:00:00    0.782138\n",
       "2025-02-01 11:00:00    0.099431\n",
       "2025-02-01 12:00:00    0.822013\n",
       "2025-02-01 13:00:00    0.091147\n",
       "2025-02-01 14:00:00    0.603537\n",
       "2025-02-01 15:00:00    0.501245\n",
       "2025-02-01 16:00:00    0.276183\n",
       "2025-02-01 17:00:00    0.968390\n",
       "2025-02-02 10:00:00    0.671703\n",
       "2025-02-02 11:00:00    0.734219\n",
       "dtype: float64"
      ]
     },
     "execution_count": 36,
     "metadata": {},
     "output_type": "execute_result"
    }
   ],
   "source": [
    "ts_ser.between_time(\"10:00\", \"17:00\").head(10)"
   ]
  },
  {
   "cell_type": "code",
   "execution_count": 39,
   "metadata": {},
   "outputs": [
    {
     "data": {
      "text/plain": [
       "PeriodIndex(['2025-01', '2025-02', '2025-03'], dtype='period[M]')"
      ]
     },
     "execution_count": 39,
     "metadata": {},
     "output_type": "execute_result"
    }
   ],
   "source": [
    "from datetime import datetime\n",
    "\n",
    "# PeriodIndexクラス\n",
    "pd.PeriodIndex(\n",
    "    [\n",
    "        datetime(2025, 1, 1),\n",
    "        pd.Timestamp(year=2025, month=2, day=2),\n",
    "        \"2025-03-03\",\n",
    "    ],\n",
    "    freq=\"M\",\n",
    ")"
   ]
  },
  {
   "cell_type": "code",
   "execution_count": 41,
   "metadata": {},
   "outputs": [
    {
     "data": {
      "text/plain": [
       "PeriodIndex(['2025-01-01', '2025-01-02', '2025-01-03'], dtype='period[D]')"
      ]
     },
     "execution_count": 41,
     "metadata": {},
     "output_type": "execute_result"
    }
   ],
   "source": [
    "# period_range()関数\n",
    "pd.period_range(start=\"2025-01-01\", end=\"2025-01-03\")"
   ]
  },
  {
   "cell_type": "code",
   "execution_count": 42,
   "metadata": {},
   "outputs": [
    {
     "data": {
      "text/plain": [
       "PeriodIndex(['2025-01-01', '2025-01-02', '2025-01-03'], dtype='period[D]')"
      ]
     },
     "execution_count": 42,
     "metadata": {},
     "output_type": "execute_result"
    }
   ],
   "source": [
    "pd.period_range(start=\"2025-01-01\", periods=3)"
   ]
  },
  {
   "cell_type": "code",
   "execution_count": 45,
   "metadata": {},
   "outputs": [
    {
     "data": {
      "text/plain": [
       "PeriodIndex(['2025-01-01 09:00', '2025-01-01 09:02', '2025-01-01 09:04',\n",
       "             '2025-01-01 09:06', '2025-01-01 09:08'],\n",
       "            dtype='period[2min]')"
      ]
     },
     "execution_count": 45,
     "metadata": {},
     "output_type": "execute_result"
    }
   ],
   "source": [
    "pd.period_range(\n",
    "    \"2025-01-01 09:00:00\",\n",
    "    periods=5,\n",
    "    freq=\"2min\",\n",
    ")"
   ]
  },
  {
   "cell_type": "code",
   "execution_count": 48,
   "metadata": {},
   "outputs": [
    {
     "data": {
      "text/plain": [
       "2025Q1    0.969513\n",
       "2025Q2    0.452489\n",
       "2025Q3    0.780675\n",
       "2025Q4    0.830193\n",
       "2026Q1    0.419056\n",
       "2026Q2    0.531563\n",
       "2026Q3    0.649953\n",
       "2026Q4    0.273968\n",
       "2027Q1    0.266157\n",
       "2027Q2    0.578505\n",
       "Freq: Q-DEC, dtype: float64"
      ]
     },
     "execution_count": 48,
     "metadata": {},
     "output_type": "execute_result"
    }
   ],
   "source": [
    "pd_ser = pd.Series(\n",
    "    rng.random(10),\n",
    "    index=pd.period_range(\n",
    "        \"2025-01-01\",\n",
    "        periods=10,\n",
    "        freq=\"1Q\",\n",
    "    )\n",
    ")\n",
    "pd_ser"
   ]
  },
  {
   "cell_type": "code",
   "execution_count": 49,
   "metadata": {},
   "outputs": [
    {
     "data": {
      "text/plain": [
       "np.float64(0.8301933926396652)"
      ]
     },
     "execution_count": 49,
     "metadata": {},
     "output_type": "execute_result"
    }
   ],
   "source": [
    "pd_ser.loc[datetime(2025, 11, 1)]"
   ]
  },
  {
   "cell_type": "code",
   "execution_count": 53,
   "metadata": {},
   "outputs": [
    {
     "data": {
      "text/plain": [
       "np.float64(0.8301933926396652)"
      ]
     },
     "execution_count": 53,
     "metadata": {},
     "output_type": "execute_result"
    }
   ],
   "source": [
    "pd_ser.loc[datetime(2025, 10, 1)]"
   ]
  },
  {
   "cell_type": "code",
   "execution_count": 52,
   "metadata": {},
   "outputs": [
    {
     "data": {
      "text/plain": [
       "np.float64(0.8301933926396652)"
      ]
     },
     "execution_count": 52,
     "metadata": {},
     "output_type": "execute_result"
    }
   ],
   "source": [
    "pd_ser.loc[datetime(2025, 12, 31)]"
   ]
  },
  {
   "cell_type": "code",
   "execution_count": 55,
   "metadata": {},
   "outputs": [
    {
     "data": {
      "text/plain": [
       "np.float64(0.531562803150413)"
      ]
     },
     "execution_count": 55,
     "metadata": {},
     "output_type": "execute_result"
    }
   ],
   "source": [
    "pd_ser.loc[\"2026Q2\"]"
   ]
  },
  {
   "cell_type": "code",
   "execution_count": 56,
   "metadata": {},
   "outputs": [
    {
     "data": {
      "text/plain": [
       "2026Q1    0.419056\n",
       "2026Q2    0.531563\n",
       "2026Q3    0.649953\n",
       "2026Q4    0.273968\n",
       "Freq: Q-DEC, dtype: float64"
      ]
     },
     "execution_count": 56,
     "metadata": {},
     "output_type": "execute_result"
    }
   ],
   "source": [
    "pd_ser.loc[\"2026\"]"
   ]
  },
  {
   "cell_type": "code",
   "execution_count": 57,
   "metadata": {},
   "outputs": [
    {
     "data": {
      "text/plain": [
       "2026Q3    0.649953\n",
       "2026Q4    0.273968\n",
       "2027Q1    0.266157\n",
       "2027Q2    0.578505\n",
       "Freq: Q-DEC, dtype: float64"
      ]
     },
     "execution_count": 57,
     "metadata": {},
     "output_type": "execute_result"
    }
   ],
   "source": [
    "pd_ser.loc[\"2026Q3\":]"
   ]
  }
 ],
 "metadata": {
  "kernelspec": {
   "display_name": "Python 3",
   "language": "python",
   "name": "python3"
  },
  "language_info": {
   "codemirror_mode": {
    "name": "ipython",
    "version": 3
   },
   "file_extension": ".py",
   "mimetype": "text/x-python",
   "name": "python",
   "nbconvert_exporter": "python",
   "pygments_lexer": "ipython3",
   "version": "3.12.4"
  }
 },
 "nbformat": 4,
 "nbformat_minor": 2
}
