{
 "cells": [
  {
   "cell_type": "markdown",
   "metadata": {},
   "source": [
    "## 時系列関連の pandas の主なデータ型\n",
    "\n",
    "<table>\n",
    "    <thead>\n",
    "        <tr>\n",
    "            <th>データ型</th>\n",
    "            <th>説明</th>\n",
    "        </tr>\n",
    "    </thead>\n",
    "    <tbody>\n",
    "        <tr>\n",
    "            <td><m-b>Timestamp</m-b></td>\n",
    "            <td>タイムゾーン付きの日時データ型</td>\n",
    "        </tr>\n",
    "        <tr>\n",
    "            <td><m-b>Period</m-b></td>\n",
    "            <td>時間の長さ・期間を扱うデータ型</td>\n",
    "        </tr>\n",
    "        <tr>\n",
    "            <td><m-b>Timedelta</m-b></td>\n",
    "            <td>時間差を扱うデータ型</td>\n",
    "        </tr>\n",
    "        <tr>\n",
    "            <td><m-b>DateOffset</m-b></td>\n",
    "            <td>オフセットを扱うデータ型</td>\n",
    "        </tr>\n",
    "    </tbody>\n",
    "</table>\n"
   ]
  },
  {
   "cell_type": "code",
   "execution_count": 22,
   "metadata": {},
   "outputs": [
    {
     "data": {
      "text/plain": [
       "Timestamp('2025-02-01 12:23:34')"
      ]
     },
     "metadata": {},
     "output_type": "display_data"
    },
    {
     "data": {
      "text/plain": [
       "Timestamp('2025-02-01 12:00:00')"
      ]
     },
     "metadata": {},
     "output_type": "display_data"
    },
    {
     "data": {
      "text/plain": [
       "Timestamp('2025-01-01 00:00:00')"
      ]
     },
     "metadata": {},
     "output_type": "display_data"
    },
    {
     "data": {
      "text/plain": [
       "Timestamp('2025-03-01 12:23:34')"
      ]
     },
     "metadata": {},
     "output_type": "display_data"
    },
    {
     "data": {
      "text/plain": [
       "Timestamp('2025-04-30 12:23:00')"
      ]
     },
     "metadata": {},
     "output_type": "display_data"
    },
    {
     "data": {
      "text/plain": [
       "Timestamp('2025-05-01 23:00:00')"
      ]
     },
     "metadata": {},
     "output_type": "display_data"
    },
    {
     "data": {
      "text/plain": [
       "Timestamp('2025-06-27 09:00:00')"
      ]
     },
     "metadata": {},
     "output_type": "display_data"
    },
    {
     "data": {
      "text/plain": [
       "Timestamp('2025-06-27 09:11:19.123456')"
      ]
     },
     "metadata": {},
     "output_type": "display_data"
    }
   ],
   "source": [
    "# Timestamp\n",
    "from IPython.display import display\n",
    "import datetime\n",
    "import pandas as pd\n",
    "\n",
    "display(pd.Timestamp(datetime.datetime(2025, 2, 1, 12, 23, 34)))\n",
    "display(pd.Timestamp(datetime.datetime(2025, 2, 1, 12)))\n",
    "display(pd.Timestamp(datetime.date(2025, 1, 1)))\n",
    "display(pd.Timestamp(\"2025-03-01 12:23:34\"))\n",
    "display(pd.Timestamp(\"2025/04/30T12:23:00\"))\n",
    "display(pd.Timestamp(\"2025/5/1 23\"))\n",
    "display(pd.Timestamp(2025, 6, 27, 9))\n",
    "display(pd.Timestamp(year=2025, month=6, day=27, hour=9, minute=11, second=19, microsecond=123456))"
   ]
  },
  {
   "cell_type": "code",
   "execution_count": 18,
   "metadata": {},
   "outputs": [
    {
     "ename": "DateParseError",
     "evalue": "hour must be in 0..23: 2025/03/01 25",
     "output_type": "error",
     "traceback": [
      "\u001b[1;31m---------------------------------------------------------------------------\u001b[0m",
      "\u001b[1;31mValueError\u001b[0m                                Traceback (most recent call last)",
      "File \u001b[1;32mparsing.pyx:684\u001b[0m, in \u001b[0;36mpandas._libs.tslibs.parsing.dateutil_parse\u001b[1;34m()\u001b[0m\n",
      "\u001b[1;31mValueError\u001b[0m: hour must be in 0..23",
      "\nThe above exception was the direct cause of the following exception:\n",
      "\u001b[1;31mDateParseError\u001b[0m                            Traceback (most recent call last)",
      "Cell \u001b[1;32mIn[18], line 1\u001b[0m\n\u001b[1;32m----> 1\u001b[0m display(\u001b[43mpd\u001b[49m\u001b[38;5;241;43m.\u001b[39;49m\u001b[43mTimestamp\u001b[49m\u001b[43m(\u001b[49m\u001b[38;5;124;43m\"\u001b[39;49m\u001b[38;5;124;43m2025/03/01 25\u001b[39;49m\u001b[38;5;124;43m\"\u001b[39;49m\u001b[43m)\u001b[49m)\n",
      "File \u001b[1;32mtimestamps.pyx:1865\u001b[0m, in \u001b[0;36mpandas._libs.tslibs.timestamps.Timestamp.__new__\u001b[1;34m()\u001b[0m\n",
      "File \u001b[1;32mconversion.pyx:364\u001b[0m, in \u001b[0;36mpandas._libs.tslibs.conversion.convert_to_tsobject\u001b[1;34m()\u001b[0m\n",
      "File \u001b[1;32mconversion.pyx:641\u001b[0m, in \u001b[0;36mpandas._libs.tslibs.conversion.convert_str_to_tsobject\u001b[1;34m()\u001b[0m\n",
      "File \u001b[1;32mparsing.pyx:336\u001b[0m, in \u001b[0;36mpandas._libs.tslibs.parsing.parse_datetime_string\u001b[1;34m()\u001b[0m\n",
      "File \u001b[1;32mparsing.pyx:688\u001b[0m, in \u001b[0;36mpandas._libs.tslibs.parsing.dateutil_parse\u001b[1;34m()\u001b[0m\n",
      "\u001b[1;31mDateParseError\u001b[0m: hour must be in 0..23: 2025/03/01 25"
     ]
    }
   ],
   "source": [
    "display(pd.Timestamp(\"2025/03/01 25\"))"
   ]
  },
  {
   "cell_type": "code",
   "execution_count": 19,
   "metadata": {},
   "outputs": [
    {
     "ename": "DateParseError",
     "evalue": "day is out of range for month: 2025/03/32 23",
     "output_type": "error",
     "traceback": [
      "\u001b[1;31m---------------------------------------------------------------------------\u001b[0m",
      "\u001b[1;31mValueError\u001b[0m                                Traceback (most recent call last)",
      "File \u001b[1;32mparsing.pyx:684\u001b[0m, in \u001b[0;36mpandas._libs.tslibs.parsing.dateutil_parse\u001b[1;34m()\u001b[0m\n",
      "\u001b[1;31mValueError\u001b[0m: day is out of range for month",
      "\nThe above exception was the direct cause of the following exception:\n",
      "\u001b[1;31mDateParseError\u001b[0m                            Traceback (most recent call last)",
      "Cell \u001b[1;32mIn[19], line 1\u001b[0m\n\u001b[1;32m----> 1\u001b[0m display(\u001b[43mpd\u001b[49m\u001b[38;5;241;43m.\u001b[39;49m\u001b[43mTimestamp\u001b[49m\u001b[43m(\u001b[49m\u001b[38;5;124;43m\"\u001b[39;49m\u001b[38;5;124;43m2025/03/32 23\u001b[39;49m\u001b[38;5;124;43m\"\u001b[39;49m\u001b[43m)\u001b[49m)\n",
      "File \u001b[1;32mtimestamps.pyx:1865\u001b[0m, in \u001b[0;36mpandas._libs.tslibs.timestamps.Timestamp.__new__\u001b[1;34m()\u001b[0m\n",
      "File \u001b[1;32mconversion.pyx:364\u001b[0m, in \u001b[0;36mpandas._libs.tslibs.conversion.convert_to_tsobject\u001b[1;34m()\u001b[0m\n",
      "File \u001b[1;32mconversion.pyx:641\u001b[0m, in \u001b[0;36mpandas._libs.tslibs.conversion.convert_str_to_tsobject\u001b[1;34m()\u001b[0m\n",
      "File \u001b[1;32mparsing.pyx:336\u001b[0m, in \u001b[0;36mpandas._libs.tslibs.parsing.parse_datetime_string\u001b[1;34m()\u001b[0m\n",
      "File \u001b[1;32mparsing.pyx:688\u001b[0m, in \u001b[0;36mpandas._libs.tslibs.parsing.dateutil_parse\u001b[1;34m()\u001b[0m\n",
      "\u001b[1;31mDateParseError\u001b[0m: day is out of range for month: 2025/03/32 23"
     ]
    }
   ],
   "source": [
    "display(pd.Timestamp(\"2025/03/32 23\"))"
   ]
  },
  {
   "cell_type": "code",
   "execution_count": 24,
   "metadata": {},
   "outputs": [
    {
     "data": {
      "text/plain": [
       "Period('2025Q3', 'Q-DEC')"
      ]
     },
     "execution_count": 24,
     "metadata": {},
     "output_type": "execute_result"
    }
   ],
   "source": [
    "# Period\n",
    "period = pd.Period(\"3Q2025\")\n",
    "period"
   ]
  },
  {
   "cell_type": "code",
   "execution_count": 25,
   "metadata": {},
   "outputs": [
    {
     "data": {
      "text/plain": [
       "(Timestamp('2025-07-01 00:00:00'), Timestamp('2025-09-30 23:59:59.999999999'))"
      ]
     },
     "execution_count": 25,
     "metadata": {},
     "output_type": "execute_result"
    }
   ],
   "source": [
    "period.start_time, period.end_time"
   ]
  },
  {
   "cell_type": "code",
   "execution_count": 28,
   "metadata": {},
   "outputs": [
    {
     "data": {
      "text/plain": [
       "(2025, 9, 30)"
      ]
     },
     "execution_count": 28,
     "metadata": {},
     "output_type": "execute_result"
    }
   ],
   "source": [
    "period.year, period.month, period.day"
   ]
  },
  {
   "cell_type": "code",
   "execution_count": 29,
   "metadata": {},
   "outputs": [
    {
     "data": {
      "text/plain": [
       "Timestamp('2025-07-01 00:00:00')"
      ]
     },
     "execution_count": 29,
     "metadata": {},
     "output_type": "execute_result"
    }
   ],
   "source": [
    "period.to_timestamp()"
   ]
  },
  {
   "cell_type": "code",
   "execution_count": 30,
   "metadata": {},
   "outputs": [
    {
     "data": {
      "text/plain": [
       "Timestamp('2025-09-30 23:59:59.999999999')"
      ]
     },
     "execution_count": 30,
     "metadata": {},
     "output_type": "execute_result"
    }
   ],
   "source": [
    "period.to_timestamp(how=\"end\")"
   ]
  },
  {
   "cell_type": "code",
   "execution_count": 33,
   "metadata": {},
   "outputs": [
    {
     "data": {
      "text/plain": [
       "Period('2025Q4', 'Q-DEC')"
      ]
     },
     "execution_count": 33,
     "metadata": {},
     "output_type": "execute_result"
    }
   ],
   "source": [
    "pd.Timestamp(2025, 11, 11).to_period(freq=\"Q\")"
   ]
  },
  {
   "cell_type": "code",
   "execution_count": 34,
   "metadata": {},
   "outputs": [
    {
     "data": {
      "text/plain": [
       "Period('2025', 'Y-DEC')"
      ]
     },
     "execution_count": 34,
     "metadata": {},
     "output_type": "execute_result"
    }
   ],
   "source": [
    "pd.Timestamp(2025, 11, 11).to_period(freq=\"Y\")"
   ]
  },
  {
   "cell_type": "code",
   "execution_count": 35,
   "metadata": {},
   "outputs": [
    {
     "data": {
      "text/plain": [
       "Period('2025-11', 'M')"
      ]
     },
     "execution_count": 35,
     "metadata": {},
     "output_type": "execute_result"
    }
   ],
   "source": [
    "pd.Timestamp(2025, 11, 11).to_period(freq=\"M\")"
   ]
  },
  {
   "cell_type": "code",
   "execution_count": 36,
   "metadata": {},
   "outputs": [
    {
     "data": {
      "text/plain": [
       "Period('2025-11-11', 'D')"
      ]
     },
     "execution_count": 36,
     "metadata": {},
     "output_type": "execute_result"
    }
   ],
   "source": [
    "pd.Timestamp(2025, 11, 11).to_period(freq=\"D\")"
   ]
  },
  {
   "cell_type": "code",
   "execution_count": 39,
   "metadata": {},
   "outputs": [
    {
     "data": {
      "text/plain": [
       "Period('2025-11-10/2025-11-16', 'W-SUN')"
      ]
     },
     "execution_count": 39,
     "metadata": {},
     "output_type": "execute_result"
    }
   ],
   "source": [
    "pd.Timestamp(2025, 11, 11).to_period(freq=\"W\")"
   ]
  },
  {
   "cell_type": "code",
   "execution_count": 40,
   "metadata": {},
   "outputs": [
    {
     "data": {
      "text/plain": [
       "Timestamp('2025-01-15 00:00:00')"
      ]
     },
     "execution_count": 40,
     "metadata": {},
     "output_type": "execute_result"
    }
   ],
   "source": [
    "# DataOffset\n",
    "pd.Timestamp(\"2025-01-01\") + pd.DateOffset(weeks=2)"
   ]
  },
  {
   "cell_type": "code",
   "execution_count": 42,
   "metadata": {},
   "outputs": [
    {
     "data": {
      "text/plain": [
       "Timestamp('2025-01-01 00:00:00')"
      ]
     },
     "execution_count": 42,
     "metadata": {},
     "output_type": "execute_result"
    }
   ],
   "source": [
    "pd.Timestamp(2024, 7, 12) + pd.tseries.offsets.YearBegin()"
   ]
  },
  {
   "cell_type": "code",
   "execution_count": 43,
   "metadata": {},
   "outputs": [
    {
     "data": {
      "text/plain": [
       "Timestamp('2024-12-31 00:00:00')"
      ]
     },
     "execution_count": 43,
     "metadata": {},
     "output_type": "execute_result"
    }
   ],
   "source": [
    "pd.Timestamp(2024, 7, 12) + pd.tseries.offsets.YearEnd()"
   ]
  },
  {
   "cell_type": "code",
   "execution_count": 47,
   "metadata": {},
   "outputs": [
    {
     "data": {
      "text/plain": [
       "DatetimeIndex(['2025-01-31', '2025-02-28', '2025-03-31', '2025-04-30',\n",
       "               '2025-05-31', '2025-06-30', '2025-07-31', '2025-08-31',\n",
       "               '2025-09-30', '2025-10-31', '2025-11-30', '2025-12-31'],\n",
       "              dtype='datetime64[ns]', freq='ME')"
      ]
     },
     "execution_count": 47,
     "metadata": {},
     "output_type": "execute_result"
    }
   ],
   "source": [
    "pd.date_range(\n",
    "    \"2025-01-01\",\n",
    "    periods=12,\n",
    "    freq=pd.tseries.offsets.MonthEnd(),\n",
    ")"
   ]
  },
  {
   "cell_type": "code",
   "execution_count": 46,
   "metadata": {},
   "outputs": [
    {
     "data": {
      "text/plain": [
       "DatetimeIndex(['2025-01-31', '2025-02-28', '2025-03-31', '2025-04-30',\n",
       "               '2025-05-30', '2025-06-30', '2025-07-31', '2025-08-29',\n",
       "               '2025-09-30', '2025-10-31', '2025-11-28', '2025-12-31'],\n",
       "              dtype='datetime64[ns]', freq='BME')"
      ]
     },
     "execution_count": 46,
     "metadata": {},
     "output_type": "execute_result"
    }
   ],
   "source": [
    "pd.date_range(\n",
    "    \"2025-01-01\",\n",
    "    periods=12,\n",
    "    freq=pd.tseries.offsets.BusinessMonthEnd(),\n",
    ")"
   ]
  },
  {
   "cell_type": "code",
   "execution_count": 56,
   "metadata": {},
   "outputs": [
    {
     "data": {
      "text/plain": [
       "DatetimeIndex(['2025-01-01', '2025-01-02', '2025-01-03', '2025-01-06',\n",
       "               '2025-01-07', '2025-01-08', '2025-01-09', '2025-01-10',\n",
       "               '2025-01-13', '2025-01-14', '2025-01-15', '2025-01-16',\n",
       "               '2025-01-17', '2025-01-20', '2025-01-21', '2025-01-22',\n",
       "               '2025-01-23', '2025-01-24', '2025-01-27', '2025-01-28'],\n",
       "              dtype='datetime64[ns]', freq='B')"
      ]
     },
     "execution_count": 56,
     "metadata": {},
     "output_type": "execute_result"
    }
   ],
   "source": [
    "pd.date_range(\n",
    "    \"2025-01-01\",\n",
    "    periods=20,\n",
    "    freq=\"B\",\n",
    ")"
   ]
  },
  {
   "cell_type": "markdown",
   "metadata": {},
   "source": [
    "## 主要なDateOffset\n",
    "<table>\n",
    "    <thead>\n",
    "        <tr>\n",
    "            <th>DateOffset</th>\n",
    "            <th>エイリアス</th>\n",
    "            <th>概要</th>\n",
    "        </tr>\n",
    "    </thead>\n",
    "    <tbody>\n",
    "        <tr>\n",
    "            <td><m-b>BDay</m-b>、<m-b>businessDay</m-b></td>\n",
    "            <td><m-b>B</m-b></td>\n",
    "            <td>営業日(月-金)</td>\n",
    "        </tr>\n",
    "        <tr>\n",
    "            <td><m-b>Week</m-b></td>\n",
    "            <td><m-b>W</m-b></td>\n",
    "            <td>週(月曜日が初週)</td>\n",
    "        </tr>\n",
    "        <tr>\n",
    "            <td><m-b>MonthEnd</m-b></td>\n",
    "            <td><m-b>M</m-b></td>\n",
    "            <td>月末</td>\n",
    "        </tr>\n",
    "        <tr>\n",
    "            <td><m-b>MonthBegin</m-b></td>\n",
    "            <td><m-b>MS</m-b></td>\n",
    "            <td>月初</td>\n",
    "        </tr>\n",
    "        <tr>\n",
    "            <td><m-b>YearEnd</m-b></td>\n",
    "            <td><m-b>A</m-b></td>\n",
    "            <td>年末</td>\n",
    "        </tr>\n",
    "        <tr>\n",
    "            <td><m-b>YearBegin</m-b></td>\n",
    "            <td><m-b>AS</m-b>、<m-b>BYS</td>\n",
    "            <td>年初</td>\n",
    "        </tr>\n",
    "        <tr>\n",
    "            <td><m-b>Day</m-b></td>\n",
    "            <td><m-b>D</m-b></td>\n",
    "            <td>日</td>\n",
    "        </tr>\n",
    "        <tr>\n",
    "            <td><m-b>Hour</m-b></td>\n",
    "            <td><m-b>H</m-b></td>\n",
    "            <td>時</td>\n",
    "        </tr>\n",
    "    </tbody>\n",
    "</table>"
   ]
  },
  {
   "cell_type": "code",
   "execution_count": 54,
   "metadata": {},
   "outputs": [
    {
     "name": "stdout",
     "output_type": "stream",
     "text": [
      "<BaseOffset>\n",
      "B\n",
      "W\n",
      "ME\n",
      "MS\n",
      "YE-DEC\n",
      "YS-JAN\n",
      "D\n",
      "h\n",
      "min\n",
      "s\n",
      "ms\n",
      "BYS-JAN\n",
      "BQS-MAR\n",
      "RE-N-JAN-MON\n"
     ]
    }
   ],
   "source": [
    "offsets = pd.tseries.offsets\n",
    "\n",
    "for e in [\n",
    "    offsets.BaseOffset,\n",
    "    offsets.BusinessDay,\n",
    "    offsets.Week,\n",
    "    offsets.MonthEnd,\n",
    "    offsets.MonthBegin,\n",
    "    offsets.YearEnd,\n",
    "    offsets.YearBegin,\n",
    "    offsets.Day,\n",
    "    offsets.Hour,\n",
    "    offsets.Minute,\n",
    "    offsets.Second,\n",
    "    offsets.Milli,\n",
    "    offsets.BYearBegin,\n",
    "    offsets.BQuarterBegin,\n",
    "    offsets.FY5253,\n",
    "]:\n",
    "    print(e().freqstr)"
   ]
  }
 ],
 "metadata": {
  "kernelspec": {
   "display_name": "Python 3",
   "language": "python",
   "name": "python3"
  },
  "language_info": {
   "codemirror_mode": {
    "name": "ipython",
    "version": 3
   },
   "file_extension": ".py",
   "mimetype": "text/x-python",
   "name": "python",
   "nbconvert_exporter": "python",
   "pygments_lexer": "ipython3",
   "version": "3.12.4"
  }
 },
 "nbformat": 4,
 "nbformat_minor": 2
}
