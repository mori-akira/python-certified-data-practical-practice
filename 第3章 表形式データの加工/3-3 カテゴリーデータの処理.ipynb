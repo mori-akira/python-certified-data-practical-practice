{
 "cells": [
  {
   "cell_type": "markdown",
   "metadata": {
    "vscode": {
     "languageId": "plaintext"
    }
   },
   "source": [
    "## データの分類\n",
    "<table>\n",
    "    <thead>\n",
    "        <tr>\n",
    "            <th>分類</th>\n",
    "            <th colspan=\"2\">説明</th>\n",
    "        </tr>\n",
    "    </thead>\n",
    "    <tbody>\n",
    "        <tr>\n",
    "            <td rowspan=\"3\"><m-b>質的変数</m-b></td>\n",
    "            <td colspan=\"2\">離散的な値をとり、数値では表現できない変数</td>\n",
    "        </tr>\n",
    "        <tr>\n",
    "            <td><m-b>名義尺度</m-b></td>\n",
    "            <td>血液型や性別など、和や差、比率に意味がなく、比較できない尺度</td>\n",
    "        </tr>\n",
    "        <tr>\n",
    "            <td><m-b>順序尺度</m-b></td>\n",
    "            <td>震度や企業格付けなど、比較はできるが和や差、比率に意味がない尺度</td>\n",
    "        </tr>\n",
    "        <tr>\n",
    "            <td rowspan=\"3\"><m-b>量的変数</m-b></td>\n",
    "            <td colspan=\"2\">数や量で測れる変数</td>\n",
    "        </tr>\n",
    "        <tr>\n",
    "            <td><m-b>間隔尺度</m-b></td>\n",
    "            <td>気温や暦年など、和や差に意味があるが、比率に意味がない尺度</td>\n",
    "        </tr>\n",
    "        <tr>\n",
    "            <td><m-b>比例尺度</m-b></td>\n",
    "            <td>身長や重さなど、和や差、比率に意味がある尺度</td>\n",
    "        </tr>\n",
    "    </tbody>\n",
    "</table>"
   ]
  },
  {
   "cell_type": "code",
   "execution_count": 9,
   "metadata": {},
   "outputs": [
    {
     "data": {
      "text/plain": [
       "0       満足\n",
       "1       普通\n",
       "2       普通\n",
       "3    非常に不満\n",
       "4       不満\n",
       "dtype: object"
      ]
     },
     "execution_count": 9,
     "metadata": {},
     "output_type": "execute_result"
    }
   ],
   "source": [
    "# カテゴリデータの生成\n",
    "import pandas as pd\n",
    "\n",
    "survey_data = [\"満足\", \"普通\", \"普通\", \"非常に不満\", \"不満\"]\n",
    "ser = pd.Series(survey_data)\n",
    "ser"
   ]
  },
  {
   "cell_type": "code",
   "execution_count": 10,
   "metadata": {},
   "outputs": [
    {
     "data": {
      "text/plain": [
       "dtype('O')"
      ]
     },
     "execution_count": 10,
     "metadata": {},
     "output_type": "execute_result"
    }
   ],
   "source": [
    "ser.dtypes"
   ]
  },
  {
   "cell_type": "code",
   "execution_count": 17,
   "metadata": {},
   "outputs": [
    {
     "data": {
      "text/plain": [
       "0       満足\n",
       "1       普通\n",
       "2       普通\n",
       "3    非常に不満\n",
       "4       不満\n",
       "dtype: category\n",
       "Categories (4, object): ['不満', '普通', '満足', '非常に不満']"
      ]
     },
     "execution_count": 17,
     "metadata": {},
     "output_type": "execute_result"
    }
   ],
   "source": [
    "ser = pd.Series(survey_data, dtype=\"category\")\n",
    "ser"
   ]
  },
  {
   "cell_type": "code",
   "execution_count": 12,
   "metadata": {},
   "outputs": [
    {
     "data": {
      "text/plain": [
       "CategoricalDtype(categories=['不満', '普通', '満足', '非常に不満'], ordered=False, categories_dtype=object)"
      ]
     },
     "execution_count": 12,
     "metadata": {},
     "output_type": "execute_result"
    }
   ],
   "source": [
    "ser.dtypes"
   ]
  },
  {
   "cell_type": "code",
   "execution_count": 14,
   "metadata": {},
   "outputs": [
    {
     "data": {
      "text/plain": [
       "CategoricalDtype(categories=['不満', '普通', '満足', '非常に不満'], ordered=False, categories_dtype=object)"
      ]
     },
     "execution_count": 14,
     "metadata": {},
     "output_type": "execute_result"
    }
   ],
   "source": [
    "pd.Series(survey_data).astype(\"category\").dtype"
   ]
  },
  {
   "cell_type": "code",
   "execution_count": 15,
   "metadata": {},
   "outputs": [
    {
     "data": {
      "text/plain": [
       "dtype('O')"
      ]
     },
     "execution_count": 15,
     "metadata": {},
     "output_type": "execute_result"
    }
   ],
   "source": [
    "pd.Series(survey_data).astype(\"object\").dtype"
   ]
  },
  {
   "cell_type": "code",
   "execution_count": 18,
   "metadata": {},
   "outputs": [
    {
     "data": {
      "text/plain": [
       "4       不満\n",
       "1       普通\n",
       "2       普通\n",
       "0       満足\n",
       "3    非常に不満\n",
       "dtype: category\n",
       "Categories (4, object): ['不満', '普通', '満足', '非常に不満']"
      ]
     },
     "execution_count": 18,
     "metadata": {},
     "output_type": "execute_result"
    }
   ],
   "source": [
    "ser.sort_values()"
   ]
  },
  {
   "cell_type": "code",
   "execution_count": 19,
   "metadata": {},
   "outputs": [
    {
     "data": {
      "text/plain": [
       "4       不満\n",
       "1       普通\n",
       "2       普通\n",
       "0       満足\n",
       "3    非常に不満\n",
       "dtype: object"
      ]
     },
     "execution_count": 19,
     "metadata": {},
     "output_type": "execute_result"
    }
   ],
   "source": [
    "pd.Series(survey_data).astype(\"object\").sort_values()"
   ]
  },
  {
   "cell_type": "code",
   "execution_count": 20,
   "metadata": {},
   "outputs": [
    {
     "data": {
      "text/plain": [
       "普通       2\n",
       "不満       1\n",
       "満足       1\n",
       "非常に不満    1\n",
       "Name: count, dtype: int64"
      ]
     },
     "execution_count": 20,
     "metadata": {},
     "output_type": "execute_result"
    }
   ],
   "source": [
    "ser.value_counts()"
   ]
  },
  {
   "cell_type": "code",
   "execution_count": 21,
   "metadata": {},
   "outputs": [
    {
     "data": {
      "text/plain": [
       "CategoricalDtype(categories=['非常に不満', '不満', '普通', '満足', '非常に満足'], ordered=True, categories_dtype=object)"
      ]
     },
     "execution_count": 21,
     "metadata": {},
     "output_type": "execute_result"
    }
   ],
   "source": [
    "# 事前定義\n",
    "rating = pd.CategoricalDtype(\n",
    "    [\"非常に不満\", \"不満\", \"普通\", \"満足\", \"非常に満足\"],\n",
    "    ordered=True,\n",
    ")\n",
    "rating"
   ]
  },
  {
   "cell_type": "code",
   "execution_count": 22,
   "metadata": {},
   "outputs": [
    {
     "data": {
      "text/plain": [
       "0       満足\n",
       "1       普通\n",
       "2       普通\n",
       "3    非常に不満\n",
       "4       不満\n",
       "dtype: category\n",
       "Categories (5, object): ['非常に不満' < '不満' < '普通' < '満足' < '非常に満足']"
      ]
     },
     "execution_count": 22,
     "metadata": {},
     "output_type": "execute_result"
    }
   ],
   "source": [
    "new_survey_ser = pd.Series(survey_data, dtype=rating)\n",
    "new_survey_ser"
   ]
  },
  {
   "cell_type": "code",
   "execution_count": 23,
   "metadata": {},
   "outputs": [
    {
     "data": {
      "text/plain": [
       "CategoricalDtype(categories=['非常に不満', '不満', '普通', '満足', '非常に満足'], ordered=True, categories_dtype=object)"
      ]
     },
     "execution_count": 23,
     "metadata": {},
     "output_type": "execute_result"
    }
   ],
   "source": [
    "new_survey_ser.dtypes"
   ]
  },
  {
   "cell_type": "code",
   "execution_count": 24,
   "metadata": {},
   "outputs": [
    {
     "data": {
      "text/plain": [
       "RangeIndex(start=0, stop=5, step=1)"
      ]
     },
     "execution_count": 24,
     "metadata": {},
     "output_type": "execute_result"
    }
   ],
   "source": [
    "new_survey_ser.index"
   ]
  },
  {
   "cell_type": "code",
   "execution_count": 25,
   "metadata": {},
   "outputs": [
    {
     "data": {
      "text/plain": [
       "<pandas.core.arrays.categorical.CategoricalAccessor object at 0x0000023983EDDC70>"
      ]
     },
     "execution_count": 25,
     "metadata": {},
     "output_type": "execute_result"
    }
   ],
   "source": [
    "new_survey_ser.cat"
   ]
  },
  {
   "cell_type": "code",
   "execution_count": 26,
   "metadata": {},
   "outputs": [
    {
     "data": {
      "text/plain": [
       "True"
      ]
     },
     "execution_count": 26,
     "metadata": {},
     "output_type": "execute_result"
    }
   ],
   "source": [
    "new_survey_ser.cat.ordered"
   ]
  },
  {
   "cell_type": "code",
   "execution_count": 29,
   "metadata": {},
   "outputs": [
    {
     "data": {
      "text/plain": [
       "3    非常に不満\n",
       "4       不満\n",
       "1       普通\n",
       "2       普通\n",
       "0       満足\n",
       "dtype: category\n",
       "Categories (5, object): ['非常に不満' < '不満' < '普通' < '満足' < '非常に満足']"
      ]
     },
     "execution_count": 29,
     "metadata": {},
     "output_type": "execute_result"
    }
   ],
   "source": [
    "new_survey_ser.sort_values()"
   ]
  },
  {
   "cell_type": "code",
   "execution_count": 30,
   "metadata": {},
   "outputs": [
    {
     "data": {
      "text/plain": [
       "'非常に不満'"
      ]
     },
     "execution_count": 30,
     "metadata": {},
     "output_type": "execute_result"
    }
   ],
   "source": [
    "new_survey_ser.min()"
   ]
  },
  {
   "cell_type": "code",
   "execution_count": 31,
   "metadata": {},
   "outputs": [
    {
     "data": {
      "text/plain": [
       "'満足'"
      ]
     },
     "execution_count": 31,
     "metadata": {},
     "output_type": "execute_result"
    }
   ],
   "source": [
    "new_survey_ser.max()"
   ]
  },
  {
   "cell_type": "code",
   "execution_count": 32,
   "metadata": {},
   "outputs": [
    {
     "data": {
      "text/plain": [
       "普通       2\n",
       "非常に不満    1\n",
       "不満       1\n",
       "満足       1\n",
       "非常に満足    0\n",
       "Name: count, dtype: int64"
      ]
     },
     "execution_count": 32,
     "metadata": {},
     "output_type": "execute_result"
    }
   ],
   "source": [
    "new_survey_ser.value_counts()"
   ]
  },
  {
   "cell_type": "code",
   "execution_count": 33,
   "metadata": {},
   "outputs": [
    {
     "data": {
      "text/plain": [
       "count      5\n",
       "unique     4\n",
       "top       普通\n",
       "freq       2\n",
       "dtype: object"
      ]
     },
     "execution_count": 33,
     "metadata": {},
     "output_type": "execute_result"
    }
   ],
   "source": [
    "new_survey_ser.describe()"
   ]
  },
  {
   "cell_type": "code",
   "execution_count": 34,
   "metadata": {},
   "outputs": [
    {
     "data": {
      "text/plain": [
       "0    3\n",
       "1    2\n",
       "2    2\n",
       "3    0\n",
       "4    1\n",
       "dtype: int8"
      ]
     },
     "execution_count": 34,
     "metadata": {},
     "output_type": "execute_result"
    }
   ],
   "source": [
    "new_survey_ser.cat.codes"
   ]
  },
  {
   "cell_type": "code",
   "execution_count": 35,
   "metadata": {},
   "outputs": [
    {
     "data": {
      "text/plain": [
       "0       満足\n",
       "1       普通\n",
       "2       普通\n",
       "3    非常に不満\n",
       "4       不満\n",
       "5      NaN\n",
       "6      NaN\n",
       "dtype: category\n",
       "Categories (5, object): ['非常に不満' < '不満' < '普通' < '満足' < '非常に満足']"
      ]
     },
     "execution_count": 35,
     "metadata": {},
     "output_type": "execute_result"
    }
   ],
   "source": [
    "import numpy as np\n",
    "\n",
    "survey_data.append(None)\n",
    "survey_data.append(np.nan)\n",
    "migging_servey_ser = pd.Series(survey_data, dtype=rating)\n",
    "migging_servey_ser"
   ]
  },
  {
   "cell_type": "code",
   "execution_count": 36,
   "metadata": {},
   "outputs": [
    {
     "data": {
      "text/plain": [
       "0    3\n",
       "1    2\n",
       "2    2\n",
       "3    0\n",
       "4    1\n",
       "5   -1\n",
       "6   -1\n",
       "dtype: int8"
      ]
     },
     "execution_count": 36,
     "metadata": {},
     "output_type": "execute_result"
    }
   ],
   "source": [
    "migging_servey_ser.cat.codes"
   ]
  },
  {
   "cell_type": "code",
   "execution_count": 78,
   "metadata": {},
   "outputs": [
    {
     "data": {
      "text/plain": [
       "['非常に満足', '不満', '非常に不満', '不満', '普通', '非常に満足', '普通', '非常に不満', '不満', '満足']\n",
       "Categories (5, object): ['非常に不満' < '不満' < '普通' < '満足' < '非常に満足']"
      ]
     },
     "execution_count": 78,
     "metadata": {},
     "output_type": "execute_result"
    }
   ],
   "source": [
    "# データの離散化によるカテゴリデータ\n",
    "rng = np.random.default_rng(2)\n",
    "score = rng.integers(low=0, high=100, size=10)\n",
    "satisfaction = pd.cut(\n",
    "    score,\n",
    "    bins=[0, 20, 40, 60, 80, 101],\n",
    "    right=False,\n",
    "    labels=[\"非常に不満\", \"不満\", \"普通\", \"満足\", \"非常に満足\"],\n",
    ")\n",
    "satisfaction"
   ]
  },
  {
   "cell_type": "code",
   "execution_count": 79,
   "metadata": {},
   "outputs": [
    {
     "data": {
      "text/plain": [
       "['非常に満足', '不満', '非常に不満', '不満', '普通', '非常に満足', '普通', '非常に不満', '不満', '普通']\n",
       "Categories (5, object): ['非常に不満' < '不満' < '普通' < '満足' < '非常に満足']"
      ]
     },
     "execution_count": 79,
     "metadata": {},
     "output_type": "execute_result"
    }
   ],
   "source": [
    "satisfaction = pd.cut(\n",
    "    score,\n",
    "    bins=[0, 20, 40, 60, 80, 101],\n",
    "    right=True,\n",
    "    labels=[\"非常に不満\", \"不満\", \"普通\", \"満足\", \"非常に満足\"],\n",
    ")\n",
    "satisfaction"
   ]
  },
  {
   "cell_type": "code",
   "execution_count": 80,
   "metadata": {},
   "outputs": [
    {
     "data": {
      "text/html": [
       "<div>\n",
       "<style scoped>\n",
       "    .dataframe tbody tr th:only-of-type {\n",
       "        vertical-align: middle;\n",
       "    }\n",
       "\n",
       "    .dataframe tbody tr th {\n",
       "        vertical-align: top;\n",
       "    }\n",
       "\n",
       "    .dataframe thead th {\n",
       "        text-align: right;\n",
       "    }\n",
       "</style>\n",
       "<table border=\"1\" class=\"dataframe\">\n",
       "  <thead>\n",
       "    <tr style=\"text-align: right;\">\n",
       "      <th></th>\n",
       "      <th>satisfaction</th>\n",
       "      <th>score</th>\n",
       "    </tr>\n",
       "  </thead>\n",
       "  <tbody>\n",
       "    <tr>\n",
       "      <th>0</th>\n",
       "      <td>非常に満足</td>\n",
       "      <td>83</td>\n",
       "    </tr>\n",
       "    <tr>\n",
       "      <th>1</th>\n",
       "      <td>不満</td>\n",
       "      <td>26</td>\n",
       "    </tr>\n",
       "    <tr>\n",
       "      <th>2</th>\n",
       "      <td>非常に不満</td>\n",
       "      <td>10</td>\n",
       "    </tr>\n",
       "    <tr>\n",
       "      <th>3</th>\n",
       "      <td>不満</td>\n",
       "      <td>29</td>\n",
       "    </tr>\n",
       "    <tr>\n",
       "      <th>4</th>\n",
       "      <td>普通</td>\n",
       "      <td>41</td>\n",
       "    </tr>\n",
       "    <tr>\n",
       "      <th>5</th>\n",
       "      <td>非常に満足</td>\n",
       "      <td>81</td>\n",
       "    </tr>\n",
       "    <tr>\n",
       "      <th>6</th>\n",
       "      <td>普通</td>\n",
       "      <td>45</td>\n",
       "    </tr>\n",
       "    <tr>\n",
       "      <th>7</th>\n",
       "      <td>非常に不満</td>\n",
       "      <td>9</td>\n",
       "    </tr>\n",
       "    <tr>\n",
       "      <th>8</th>\n",
       "      <td>不満</td>\n",
       "      <td>33</td>\n",
       "    </tr>\n",
       "    <tr>\n",
       "      <th>9</th>\n",
       "      <td>普通</td>\n",
       "      <td>60</td>\n",
       "    </tr>\n",
       "  </tbody>\n",
       "</table>\n",
       "</div>"
      ],
      "text/plain": [
       "  satisfaction  score\n",
       "0        非常に満足     83\n",
       "1           不満     26\n",
       "2        非常に不満     10\n",
       "3           不満     29\n",
       "4           普通     41\n",
       "5        非常に満足     81\n",
       "6           普通     45\n",
       "7        非常に不満      9\n",
       "8           不満     33\n",
       "9           普通     60"
      ]
     },
     "execution_count": 80,
     "metadata": {},
     "output_type": "execute_result"
    }
   ],
   "source": [
    "survey_df = pd.DataFrame({\"satisfaction\": satisfaction, \"score\": score})\n",
    "survey_df"
   ]
  },
  {
   "cell_type": "code",
   "execution_count": 81,
   "metadata": {},
   "outputs": [
    {
     "data": {
      "text/html": [
       "<div>\n",
       "<style scoped>\n",
       "    .dataframe tbody tr th:only-of-type {\n",
       "        vertical-align: middle;\n",
       "    }\n",
       "\n",
       "    .dataframe tbody tr th {\n",
       "        vertical-align: top;\n",
       "    }\n",
       "\n",
       "    .dataframe thead th {\n",
       "        text-align: right;\n",
       "    }\n",
       "</style>\n",
       "<table border=\"1\" class=\"dataframe\">\n",
       "  <thead>\n",
       "    <tr style=\"text-align: right;\">\n",
       "      <th></th>\n",
       "      <th>score</th>\n",
       "    </tr>\n",
       "    <tr>\n",
       "      <th>satisfaction</th>\n",
       "      <th></th>\n",
       "    </tr>\n",
       "  </thead>\n",
       "  <tbody>\n",
       "    <tr>\n",
       "      <th>非常に不満</th>\n",
       "      <td>9.500000</td>\n",
       "    </tr>\n",
       "    <tr>\n",
       "      <th>不満</th>\n",
       "      <td>29.333333</td>\n",
       "    </tr>\n",
       "    <tr>\n",
       "      <th>普通</th>\n",
       "      <td>48.666667</td>\n",
       "    </tr>\n",
       "    <tr>\n",
       "      <th>満足</th>\n",
       "      <td>NaN</td>\n",
       "    </tr>\n",
       "    <tr>\n",
       "      <th>非常に満足</th>\n",
       "      <td>82.000000</td>\n",
       "    </tr>\n",
       "  </tbody>\n",
       "</table>\n",
       "</div>"
      ],
      "text/plain": [
       "                  score\n",
       "satisfaction           \n",
       "非常に不満          9.500000\n",
       "不満            29.333333\n",
       "普通            48.666667\n",
       "満足                  NaN\n",
       "非常に満足         82.000000"
      ]
     },
     "execution_count": 81,
     "metadata": {},
     "output_type": "execute_result"
    }
   ],
   "source": [
    "survey_df.groupby(\"satisfaction\", observed=False).mean()"
   ]
  },
  {
   "cell_type": "code",
   "execution_count": 82,
   "metadata": {},
   "outputs": [
    {
     "data": {
      "text/plain": [
       "0    非常に満足\n",
       "1       不満\n",
       "2    非常に不満\n",
       "3       不満\n",
       "4       普通\n",
       "5    非常に満足\n",
       "6       普通\n",
       "7    非常に不満\n",
       "8       不満\n",
       "9       普通\n",
       "Name: satisfaction, dtype: category\n",
       "Categories (5, object): ['非常に不満', '不満', '普通', '満足', '非常に満足']"
      ]
     },
     "execution_count": 82,
     "metadata": {},
     "output_type": "execute_result"
    }
   ],
   "source": [
    "# .catアクセサ\n",
    "unordered_satisfaction = survey_df.loc[:, \"satisfaction\"].cat.as_unordered()\n",
    "unordered_satisfaction"
   ]
  },
  {
   "cell_type": "code",
   "execution_count": 83,
   "metadata": {},
   "outputs": [
    {
     "data": {
      "text/plain": [
       "0    非常に満足\n",
       "1       不満\n",
       "2    非常に不満\n",
       "3       不満\n",
       "4       普通\n",
       "5    非常に満足\n",
       "6       普通\n",
       "7    非常に不満\n",
       "8       不満\n",
       "9       普通\n",
       "Name: satisfaction, dtype: category\n",
       "Categories (5, object): ['非常に不満' < '不満' < '普通' < '満足' < '非常に満足']"
      ]
     },
     "execution_count": 83,
     "metadata": {},
     "output_type": "execute_result"
    }
   ],
   "source": [
    "unordered_satisfaction.cat.as_ordered()"
   ]
  },
  {
   "cell_type": "code",
   "execution_count": 84,
   "metadata": {},
   "outputs": [
    {
     "data": {
      "text/plain": [
       "0    非常に満足\n",
       "1       不満\n",
       "2    非常に不満\n",
       "3       不満\n",
       "4       普通\n",
       "5    非常に満足\n",
       "6       普通\n",
       "7    非常に不満\n",
       "8       不満\n",
       "9       普通\n",
       "Name: satisfaction, dtype: category\n",
       "Categories (5, object): ['非常に満足' < '満足' < '普通' < '不満' < '非常に不満']"
      ]
     },
     "execution_count": 84,
     "metadata": {},
     "output_type": "execute_result"
    }
   ],
   "source": [
    "unordered_satisfaction.cat.reorder_categories(\n",
    "    [\"非常に満足\", \"満足\", \"普通\", \"不満\", \"非常に不満\"],\n",
    "    ordered=True\n",
    ")"
   ]
  },
  {
   "cell_type": "code",
   "execution_count": 85,
   "metadata": {},
   "outputs": [
    {
     "data": {
      "text/plain": [
       "0    非常に満足\n",
       "5    非常に満足\n",
       "4       普通\n",
       "6       普通\n",
       "9       普通\n",
       "1       不満\n",
       "3       不満\n",
       "8       不満\n",
       "2    非常に不満\n",
       "7    非常に不満\n",
       "Name: satisfaction, dtype: category\n",
       "Categories (5, object): ['非常に満足' < '満足' < '普通' < '不満' < '非常に不満']"
      ]
     },
     "execution_count": 85,
     "metadata": {},
     "output_type": "execute_result"
    }
   ],
   "source": [
    "unordered_satisfaction.cat.reorder_categories(\n",
    "    [\"非常に満足\", \"満足\", \"普通\", \"不満\", \"非常に不満\"],\n",
    "    ordered=True\n",
    ").sort_values()"
   ]
  },
  {
   "cell_type": "code",
   "execution_count": 86,
   "metadata": {},
   "outputs": [
    {
     "data": {
      "text/plain": [
       "0    非常に満足\n",
       "1       不満\n",
       "2    非常に不満\n",
       "3       不満\n",
       "4       普通\n",
       "5    非常に満足\n",
       "6       普通\n",
       "7    非常に不満\n",
       "8       不満\n",
       "9       普通\n",
       "Name: satisfaction, dtype: category\n",
       "Categories (7, object): ['非常に不満' < '不満' < 'やや不満' < '普通' < 'やや満足' < '満足' < '非常に満足']"
      ]
     },
     "execution_count": 86,
     "metadata": {},
     "output_type": "execute_result"
    }
   ],
   "source": [
    "unordered_satisfaction.cat.set_categories(\n",
    "    [\"非常に不満\", \"不満\", \"やや不満\", \"普通\", \"やや満足\", \"満足\", \"非常に満足\"],\n",
    "    ordered=True,\n",
    ")"
   ]
  },
  {
   "cell_type": "code",
   "execution_count": 87,
   "metadata": {},
   "outputs": [
    {
     "data": {
      "text/plain": [
       "2    非常に不満\n",
       "7    非常に不満\n",
       "1       不満\n",
       "3       不満\n",
       "8       不満\n",
       "4       普通\n",
       "6       普通\n",
       "9       普通\n",
       "0    非常に満足\n",
       "5    非常に満足\n",
       "Name: satisfaction, dtype: category\n",
       "Categories (7, object): ['非常に不満' < '不満' < 'やや不満' < '普通' < 'やや満足' < '満足' < '非常に満足']"
      ]
     },
     "execution_count": 87,
     "metadata": {},
     "output_type": "execute_result"
    }
   ],
   "source": [
    "unordered_satisfaction.cat.set_categories(\n",
    "    [\"非常に不満\", \"不満\", \"やや不満\", \"普通\", \"やや満足\", \"満足\", \"非常に満足\"],\n",
    "    ordered=True,\n",
    ").sort_values()"
   ]
  },
  {
   "cell_type": "code",
   "execution_count": 89,
   "metadata": {},
   "outputs": [
    {
     "data": {
      "text/html": [
       "<div>\n",
       "<style scoped>\n",
       "    .dataframe tbody tr th:only-of-type {\n",
       "        vertical-align: middle;\n",
       "    }\n",
       "\n",
       "    .dataframe tbody tr th {\n",
       "        vertical-align: top;\n",
       "    }\n",
       "\n",
       "    .dataframe thead th {\n",
       "        text-align: right;\n",
       "    }\n",
       "</style>\n",
       "<table border=\"1\" class=\"dataframe\">\n",
       "  <thead>\n",
       "    <tr style=\"text-align: right;\">\n",
       "      <th></th>\n",
       "      <th>score</th>\n",
       "    </tr>\n",
       "    <tr>\n",
       "      <th>satisfaction</th>\n",
       "      <th></th>\n",
       "    </tr>\n",
       "  </thead>\n",
       "  <tbody>\n",
       "    <tr>\n",
       "      <th>非常に満足</th>\n",
       "      <td>83</td>\n",
       "    </tr>\n",
       "    <tr>\n",
       "      <th>不満</th>\n",
       "      <td>26</td>\n",
       "    </tr>\n",
       "    <tr>\n",
       "      <th>非常に不満</th>\n",
       "      <td>10</td>\n",
       "    </tr>\n",
       "    <tr>\n",
       "      <th>不満</th>\n",
       "      <td>29</td>\n",
       "    </tr>\n",
       "    <tr>\n",
       "      <th>普通</th>\n",
       "      <td>41</td>\n",
       "    </tr>\n",
       "    <tr>\n",
       "      <th>非常に満足</th>\n",
       "      <td>81</td>\n",
       "    </tr>\n",
       "    <tr>\n",
       "      <th>普通</th>\n",
       "      <td>45</td>\n",
       "    </tr>\n",
       "    <tr>\n",
       "      <th>非常に不満</th>\n",
       "      <td>9</td>\n",
       "    </tr>\n",
       "    <tr>\n",
       "      <th>不満</th>\n",
       "      <td>33</td>\n",
       "    </tr>\n",
       "    <tr>\n",
       "      <th>普通</th>\n",
       "      <td>60</td>\n",
       "    </tr>\n",
       "  </tbody>\n",
       "</table>\n",
       "</div>"
      ],
      "text/plain": [
       "              score\n",
       "satisfaction       \n",
       "非常に満足            83\n",
       "不満               26\n",
       "非常に不満            10\n",
       "不満               29\n",
       "普通               41\n",
       "非常に満足            81\n",
       "普通               45\n",
       "非常に不満             9\n",
       "不満               33\n",
       "普通               60"
      ]
     },
     "execution_count": 89,
     "metadata": {},
     "output_type": "execute_result"
    }
   ],
   "source": [
    "# CategoricalIndex\n",
    "new_survey_df = survey_df.set_index(\"satisfaction\")\n",
    "new_survey_df"
   ]
  },
  {
   "cell_type": "code",
   "execution_count": 90,
   "metadata": {},
   "outputs": [
    {
     "data": {
      "text/plain": [
       "CategoricalIndex(['非常に満足', '不満', '非常に不満', '不満', '普通', '非常に満足', '普通', '非常に不満',\n",
       "                  '不満', '普通'],\n",
       "                 categories=['非常に不満', '不満', '普通', '満足', '非常に満足'], ordered=True, dtype='category', name='satisfaction')"
      ]
     },
     "execution_count": 90,
     "metadata": {},
     "output_type": "execute_result"
    }
   ],
   "source": [
    "new_survey_df.index"
   ]
  },
  {
   "cell_type": "code",
   "execution_count": 91,
   "metadata": {},
   "outputs": [
    {
     "data": {
      "text/html": [
       "<div>\n",
       "<style scoped>\n",
       "    .dataframe tbody tr th:only-of-type {\n",
       "        vertical-align: middle;\n",
       "    }\n",
       "\n",
       "    .dataframe tbody tr th {\n",
       "        vertical-align: top;\n",
       "    }\n",
       "\n",
       "    .dataframe thead th {\n",
       "        text-align: right;\n",
       "    }\n",
       "</style>\n",
       "<table border=\"1\" class=\"dataframe\">\n",
       "  <thead>\n",
       "    <tr style=\"text-align: right;\">\n",
       "      <th></th>\n",
       "      <th>score</th>\n",
       "    </tr>\n",
       "    <tr>\n",
       "      <th>satisfaction</th>\n",
       "      <th></th>\n",
       "    </tr>\n",
       "  </thead>\n",
       "  <tbody>\n",
       "    <tr>\n",
       "      <th>非常に満足</th>\n",
       "      <td>83</td>\n",
       "    </tr>\n",
       "    <tr>\n",
       "      <th>非常に満足</th>\n",
       "      <td>81</td>\n",
       "    </tr>\n",
       "  </tbody>\n",
       "</table>\n",
       "</div>"
      ],
      "text/plain": [
       "              score\n",
       "satisfaction       \n",
       "非常に満足            83\n",
       "非常に満足            81"
      ]
     },
     "execution_count": 91,
     "metadata": {},
     "output_type": "execute_result"
    }
   ],
   "source": [
    "new_survey_df.loc[\"非常に満足\", :]"
   ]
  },
  {
   "cell_type": "code",
   "execution_count": 95,
   "metadata": {},
   "outputs": [
    {
     "data": {
      "text/html": [
       "<div>\n",
       "<style scoped>\n",
       "    .dataframe tbody tr th:only-of-type {\n",
       "        vertical-align: middle;\n",
       "    }\n",
       "\n",
       "    .dataframe tbody tr th {\n",
       "        vertical-align: top;\n",
       "    }\n",
       "\n",
       "    .dataframe thead th {\n",
       "        text-align: right;\n",
       "    }\n",
       "</style>\n",
       "<table border=\"1\" class=\"dataframe\">\n",
       "  <thead>\n",
       "    <tr style=\"text-align: right;\">\n",
       "      <th></th>\n",
       "      <th>score</th>\n",
       "    </tr>\n",
       "    <tr>\n",
       "      <th>satisfaction</th>\n",
       "      <th></th>\n",
       "    </tr>\n",
       "  </thead>\n",
       "  <tbody>\n",
       "    <tr>\n",
       "      <th>非常に不満</th>\n",
       "      <td>10</td>\n",
       "    </tr>\n",
       "    <tr>\n",
       "      <th>非常に不満</th>\n",
       "      <td>9</td>\n",
       "    </tr>\n",
       "    <tr>\n",
       "      <th>不満</th>\n",
       "      <td>26</td>\n",
       "    </tr>\n",
       "    <tr>\n",
       "      <th>不満</th>\n",
       "      <td>29</td>\n",
       "    </tr>\n",
       "    <tr>\n",
       "      <th>不満</th>\n",
       "      <td>33</td>\n",
       "    </tr>\n",
       "    <tr>\n",
       "      <th>普通</th>\n",
       "      <td>41</td>\n",
       "    </tr>\n",
       "    <tr>\n",
       "      <th>普通</th>\n",
       "      <td>45</td>\n",
       "    </tr>\n",
       "    <tr>\n",
       "      <th>普通</th>\n",
       "      <td>60</td>\n",
       "    </tr>\n",
       "    <tr>\n",
       "      <th>非常に満足</th>\n",
       "      <td>83</td>\n",
       "    </tr>\n",
       "    <tr>\n",
       "      <th>非常に満足</th>\n",
       "      <td>81</td>\n",
       "    </tr>\n",
       "  </tbody>\n",
       "</table>\n",
       "</div>"
      ],
      "text/plain": [
       "              score\n",
       "satisfaction       \n",
       "非常に不満            10\n",
       "非常に不満             9\n",
       "不満               26\n",
       "不満               29\n",
       "不満               33\n",
       "普通               41\n",
       "普通               45\n",
       "普通               60\n",
       "非常に満足            83\n",
       "非常に満足            81"
      ]
     },
     "execution_count": 95,
     "metadata": {},
     "output_type": "execute_result"
    }
   ],
   "source": [
    "new_survey_df.sort_index()"
   ]
  },
  {
   "cell_type": "code",
   "execution_count": 97,
   "metadata": {},
   "outputs": [
    {
     "data": {
      "text/plain": [
       "['満足', '非常に満足', '普通', '非常に不満', '普通', '不満']\n",
       "Categories (5, object): ['普通', '満足', '非常に満足', '不満', '非常に不満']"
      ]
     },
     "execution_count": 97,
     "metadata": {},
     "output_type": "execute_result"
    }
   ],
   "source": [
    "# カテゴリデータの結合\n",
    "from pandas.api.types import union_categoricals\n",
    "\n",
    "cat1 = pd.Categorical([\"満足\", \"非常に満足\", \"普通\"])\n",
    "cat2 = pd.Categorical([\"非常に不満\", \"普通\", \"不満\"])\n",
    "union_categoricals([cat1, cat2])"
   ]
  },
  {
   "cell_type": "code",
   "execution_count": 98,
   "metadata": {},
   "outputs": [
    {
     "data": {
      "text/plain": [
       "['非常に不満', '普通', '不満', '満足', '非常に満足', '普通']\n",
       "Categories (5, object): ['不満', '普通', '非常に不満', '満足', '非常に満足']"
      ]
     },
     "execution_count": 98,
     "metadata": {},
     "output_type": "execute_result"
    }
   ],
   "source": [
    "union_categoricals([cat2, cat1])"
   ]
  },
  {
   "cell_type": "code",
   "execution_count": 99,
   "metadata": {},
   "outputs": [
    {
     "ename": "TypeError",
     "evalue": "to union ordered Categoricals, all categories must be the same",
     "output_type": "error",
     "traceback": [
      "\u001b[1;31m---------------------------------------------------------------------------\u001b[0m",
      "\u001b[1;31mTypeError\u001b[0m                                 Traceback (most recent call last)",
      "Cell \u001b[1;32mIn[99], line 3\u001b[0m\n\u001b[0;32m      1\u001b[0m cat1 \u001b[38;5;241m=\u001b[39m pd\u001b[38;5;241m.\u001b[39mCategorical([\u001b[38;5;124m\"\u001b[39m\u001b[38;5;124m満足\u001b[39m\u001b[38;5;124m\"\u001b[39m, \u001b[38;5;124m\"\u001b[39m\u001b[38;5;124m非常に満足\u001b[39m\u001b[38;5;124m\"\u001b[39m, \u001b[38;5;124m\"\u001b[39m\u001b[38;5;124m普通\u001b[39m\u001b[38;5;124m\"\u001b[39m], ordered\u001b[38;5;241m=\u001b[39m\u001b[38;5;28;01mTrue\u001b[39;00m)\n\u001b[0;32m      2\u001b[0m cat2 \u001b[38;5;241m=\u001b[39m pd\u001b[38;5;241m.\u001b[39mCategorical([\u001b[38;5;124m\"\u001b[39m\u001b[38;5;124m非常に不満\u001b[39m\u001b[38;5;124m\"\u001b[39m, \u001b[38;5;124m\"\u001b[39m\u001b[38;5;124m普通\u001b[39m\u001b[38;5;124m\"\u001b[39m, \u001b[38;5;124m\"\u001b[39m\u001b[38;5;124m不満\u001b[39m\u001b[38;5;124m\"\u001b[39m], ordered\u001b[38;5;241m=\u001b[39m\u001b[38;5;28;01mTrue\u001b[39;00m)\n\u001b[1;32m----> 3\u001b[0m \u001b[43munion_categoricals\u001b[49m\u001b[43m(\u001b[49m\u001b[43m[\u001b[49m\u001b[43mcat1\u001b[49m\u001b[43m,\u001b[49m\u001b[43m \u001b[49m\u001b[43mcat2\u001b[49m\u001b[43m]\u001b[49m\u001b[43m)\u001b[49m\n",
      "File \u001b[1;32m~\\AppData\\Roaming\\Python\\Python312\\site-packages\\pandas\\core\\dtypes\\concat.py:341\u001b[0m, in \u001b[0;36munion_categoricals\u001b[1;34m(to_union, sort_categories, ignore_order)\u001b[0m\n\u001b[0;32m    339\u001b[0m     \u001b[38;5;28;01mif\u001b[39;00m \u001b[38;5;28mall\u001b[39m(c\u001b[38;5;241m.\u001b[39mordered \u001b[38;5;28;01mfor\u001b[39;00m c \u001b[38;5;129;01min\u001b[39;00m to_union):\n\u001b[0;32m    340\u001b[0m         msg \u001b[38;5;241m=\u001b[39m \u001b[38;5;124m\"\u001b[39m\u001b[38;5;124mto union ordered Categoricals, all categories must be the same\u001b[39m\u001b[38;5;124m\"\u001b[39m\n\u001b[1;32m--> 341\u001b[0m         \u001b[38;5;28;01mraise\u001b[39;00m \u001b[38;5;167;01mTypeError\u001b[39;00m(msg)\n\u001b[0;32m    342\u001b[0m     \u001b[38;5;28;01mraise\u001b[39;00m \u001b[38;5;167;01mTypeError\u001b[39;00m(\u001b[38;5;124m\"\u001b[39m\u001b[38;5;124mCategorical.ordered must be the same\u001b[39m\u001b[38;5;124m\"\u001b[39m)\n\u001b[0;32m    344\u001b[0m \u001b[38;5;28;01mif\u001b[39;00m ignore_order:\n",
      "\u001b[1;31mTypeError\u001b[0m: to union ordered Categoricals, all categories must be the same"
     ]
    }
   ],
   "source": [
    "cat1 = pd.Categorical([\"満足\", \"非常に満足\", \"普通\"], ordered=True)\n",
    "cat2 = pd.Categorical([\"非常に不満\", \"普通\", \"不満\"], ordered=True)\n",
    "union_categoricals([cat1, cat2])"
   ]
  },
  {
   "cell_type": "code",
   "execution_count": 100,
   "metadata": {},
   "outputs": [
    {
     "ename": "TypeError",
     "evalue": "to union ordered Categoricals, all categories must be the same",
     "output_type": "error",
     "traceback": [
      "\u001b[1;31m---------------------------------------------------------------------------\u001b[0m",
      "\u001b[1;31mTypeError\u001b[0m                                 Traceback (most recent call last)",
      "Cell \u001b[1;32mIn[100], line 3\u001b[0m\n\u001b[0;32m      1\u001b[0m cat1 \u001b[38;5;241m=\u001b[39m pd\u001b[38;5;241m.\u001b[39mCategorical([\u001b[38;5;124m\"\u001b[39m\u001b[38;5;124m非常に不満\u001b[39m\u001b[38;5;124m\"\u001b[39m, \u001b[38;5;124m\"\u001b[39m\u001b[38;5;124m不満\u001b[39m\u001b[38;5;124m\"\u001b[39m], ordered\u001b[38;5;241m=\u001b[39m\u001b[38;5;28;01mTrue\u001b[39;00m)\n\u001b[0;32m      2\u001b[0m cat2 \u001b[38;5;241m=\u001b[39m pd\u001b[38;5;241m.\u001b[39mCategorical([\u001b[38;5;124m\"\u001b[39m\u001b[38;5;124m普通\u001b[39m\u001b[38;5;124m\"\u001b[39m, \u001b[38;5;124m\"\u001b[39m\u001b[38;5;124m満足\u001b[39m\u001b[38;5;124m\"\u001b[39m, \u001b[38;5;124m\"\u001b[39m\u001b[38;5;124m非常に満足\u001b[39m\u001b[38;5;124m\"\u001b[39m], ordered\u001b[38;5;241m=\u001b[39m\u001b[38;5;28;01mTrue\u001b[39;00m)\n\u001b[1;32m----> 3\u001b[0m \u001b[43munion_categoricals\u001b[49m\u001b[43m(\u001b[49m\u001b[43m[\u001b[49m\u001b[43mcat1\u001b[49m\u001b[43m,\u001b[49m\u001b[43m \u001b[49m\u001b[43mcat2\u001b[49m\u001b[43m]\u001b[49m\u001b[43m)\u001b[49m\n",
      "File \u001b[1;32m~\\AppData\\Roaming\\Python\\Python312\\site-packages\\pandas\\core\\dtypes\\concat.py:341\u001b[0m, in \u001b[0;36munion_categoricals\u001b[1;34m(to_union, sort_categories, ignore_order)\u001b[0m\n\u001b[0;32m    339\u001b[0m     \u001b[38;5;28;01mif\u001b[39;00m \u001b[38;5;28mall\u001b[39m(c\u001b[38;5;241m.\u001b[39mordered \u001b[38;5;28;01mfor\u001b[39;00m c \u001b[38;5;129;01min\u001b[39;00m to_union):\n\u001b[0;32m    340\u001b[0m         msg \u001b[38;5;241m=\u001b[39m \u001b[38;5;124m\"\u001b[39m\u001b[38;5;124mto union ordered Categoricals, all categories must be the same\u001b[39m\u001b[38;5;124m\"\u001b[39m\n\u001b[1;32m--> 341\u001b[0m         \u001b[38;5;28;01mraise\u001b[39;00m \u001b[38;5;167;01mTypeError\u001b[39;00m(msg)\n\u001b[0;32m    342\u001b[0m     \u001b[38;5;28;01mraise\u001b[39;00m \u001b[38;5;167;01mTypeError\u001b[39;00m(\u001b[38;5;124m\"\u001b[39m\u001b[38;5;124mCategorical.ordered must be the same\u001b[39m\u001b[38;5;124m\"\u001b[39m)\n\u001b[0;32m    344\u001b[0m \u001b[38;5;28;01mif\u001b[39;00m ignore_order:\n",
      "\u001b[1;31mTypeError\u001b[0m: to union ordered Categoricals, all categories must be the same"
     ]
    }
   ],
   "source": [
    "cat1 = pd.Categorical([\"非常に不満\", \"不満\"], ordered=True)\n",
    "cat2 = pd.Categorical([\"普通\", \"満足\", \"非常に満足\"], ordered=True)\n",
    "union_categoricals([cat1, cat2])"
   ]
  },
  {
   "cell_type": "code",
   "execution_count": 102,
   "metadata": {},
   "outputs": [
    {
     "data": {
      "text/plain": [
       "['非常に満足', '満足', '普通', '普通', '満足', '非常に満足']\n",
       "Categories (3, object): ['普通' < '満足' < '非常に満足']"
      ]
     },
     "execution_count": 102,
     "metadata": {},
     "output_type": "execute_result"
    }
   ],
   "source": [
    "cat1 = pd.Categorical([\"非常に満足\", \"満足\", \"普通\"], ordered=True)\n",
    "cat2 = pd.Categorical([\"普通\", \"満足\", \"非常に満足\"], ordered=True)\n",
    "union_categoricals([cat1, cat2])"
   ]
  },
  {
   "cell_type": "code",
   "execution_count": 103,
   "metadata": {},
   "outputs": [
    {
     "data": {
      "text/plain": [
       "['非常に不満', '不満', '普通', '満足', '非常に満足']\n",
       "Categories (5, object): ['不満', '非常に不満', '普通', '満足', '非常に満足']"
      ]
     },
     "execution_count": 103,
     "metadata": {},
     "output_type": "execute_result"
    }
   ],
   "source": [
    "cat1 = pd.Categorical([\"非常に不満\", \"不満\"], ordered=True)\n",
    "cat2 = pd.Categorical([\"普通\", \"満足\", \"非常に満足\"], ordered=True)\n",
    "union_categoricals([cat1, cat2], ignore_order=True)"
   ]
  }
 ],
 "metadata": {
  "kernelspec": {
   "display_name": "Python 3",
   "language": "python",
   "name": "python3"
  },
  "language_info": {
   "codemirror_mode": {
    "name": "ipython",
    "version": 3
   },
   "file_extension": ".py",
   "mimetype": "text/x-python",
   "name": "python",
   "nbconvert_exporter": "python",
   "pygments_lexer": "ipython3",
   "version": "3.12.4"
  }
 },
 "nbformat": 4,
 "nbformat_minor": 2
}
