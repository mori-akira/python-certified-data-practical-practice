{
 "cells": [
  {
   "cell_type": "markdown",
   "metadata": {
    "vscode": {
     "languageId": "plaintext"
    }
   },
   "source": [
    "## データの分類\n",
    "<table>\n",
    "    <thead>\n",
    "        <tr>\n",
    "            <th>分類</th>\n",
    "            <th colspan=\"2\">説明</th>\n",
    "        </tr>\n",
    "    </thead>\n",
    "    <tbody>\n",
    "        <tr>\n",
    "            <td rowspan=\"3\"><m-b>質的変数</m-b></td>\n",
    "            <td colspan=\"2\">離散的な値をとり、数値では表現できない変数</td>\n",
    "        </tr>\n",
    "        <tr>\n",
    "            <td><m-b>名義尺度</m-b></td>\n",
    "            <td>血液型や性別など、和や差、比率に意味がなく、比較できない尺度</td>\n",
    "        </tr>\n",
    "        <tr>\n",
    "            <td><m-b>順序尺度</m-b></td>\n",
    "            <td>震度や企業格付けなど、比較はできるが和や差、比率に意味がない尺度</td>\n",
    "        </tr>\n",
    "        <tr>\n",
    "            <td rowspan=\"3\"><m-b>量的変数</m-b></td>\n",
    "            <td colspan=\"2\">数や量で測れる変数</td>\n",
    "        </tr>\n",
    "        <tr>\n",
    "            <td><m-b>間隔尺度</m-b></td>\n",
    "            <td>気温や暦年など、和や差に意味があるが、比率に意味がない尺度</td>\n",
    "        </tr>\n",
    "        <tr>\n",
    "            <td><m-b>比例尺度</m-b></td>\n",
    "            <td>身長や重さなど、和や差、比率に意味がある尺度</td>\n",
    "        </tr>\n",
    "    </tbody>\n",
    "</table>"
   ]
  }
 ],
 "metadata": {
  "language_info": {
   "name": "python"
  }
 },
 "nbformat": 4,
 "nbformat_minor": 2
}
