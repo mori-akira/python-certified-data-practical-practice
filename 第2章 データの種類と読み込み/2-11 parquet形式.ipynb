{
 "cells": [
  {
   "cell_type": "markdown",
   "metadata": {},
   "source": [
    "## parquet形式とは\n",
    "Apache Parquetプロジェクトで開発された、<m-b>表形式</m-b>のデータを効率よく扱うためのデータフォーマット。\n",
    "高い<m-b>圧縮率</m-b>で扱うことができる。\n",
    "pandasでは、<m-b>pyarrow</m-b>パッケージを組み合わせることで利用できる。"
   ]
  },
  {
   "cell_type": "code",
   "execution_count": 2,
   "metadata": {},
   "outputs": [
    {
     "data": {
      "text/html": [
       "<div>\n",
       "<style scoped>\n",
       "    .dataframe tbody tr th:only-of-type {\n",
       "        vertical-align: middle;\n",
       "    }\n",
       "\n",
       "    .dataframe tbody tr th {\n",
       "        vertical-align: top;\n",
       "    }\n",
       "\n",
       "    .dataframe thead th {\n",
       "        text-align: right;\n",
       "    }\n",
       "</style>\n",
       "<table border=\"1\" class=\"dataframe\">\n",
       "  <thead>\n",
       "    <tr style=\"text-align: right;\">\n",
       "      <th></th>\n",
       "      <th>表章項目</th>\n",
       "      <th>人口</th>\n",
       "      <th>概算値</th>\n",
       "      <th>全国</th>\n",
       "      <th>時間軸（年月日現在）</th>\n",
       "      <th>年齢5歳階級</th>\n",
       "      <th>/男女別</th>\n",
       "      <th>男女計</th>\n",
       "      <th>男</th>\n",
       "      <th>女</th>\n",
       "    </tr>\n",
       "  </thead>\n",
       "  <tbody>\n",
       "    <tr>\n",
       "      <th>0</th>\n",
       "      <td>人口【万人】</td>\n",
       "      <td>総人口</td>\n",
       "      <td>概算値</td>\n",
       "      <td>全国</td>\n",
       "      <td>2021-12-01</td>\n",
       "      <td>総数</td>\n",
       "      <td>NaN</td>\n",
       "      <td>12547</td>\n",
       "      <td>6099</td>\n",
       "      <td>6448</td>\n",
       "    </tr>\n",
       "    <tr>\n",
       "      <th>1</th>\n",
       "      <td>人口【万人】</td>\n",
       "      <td>総人口</td>\n",
       "      <td>概算値</td>\n",
       "      <td>全国</td>\n",
       "      <td>2021-12-01</td>\n",
       "      <td>0～4歳</td>\n",
       "      <td>NaN</td>\n",
       "      <td>437</td>\n",
       "      <td>224</td>\n",
       "      <td>214</td>\n",
       "    </tr>\n",
       "    <tr>\n",
       "      <th>2</th>\n",
       "      <td>人口【万人】</td>\n",
       "      <td>総人口</td>\n",
       "      <td>概算値</td>\n",
       "      <td>全国</td>\n",
       "      <td>2021-12-01</td>\n",
       "      <td>5～9歳</td>\n",
       "      <td>NaN</td>\n",
       "      <td>503</td>\n",
       "      <td>258</td>\n",
       "      <td>245</td>\n",
       "    </tr>\n",
       "    <tr>\n",
       "      <th>3</th>\n",
       "      <td>人口【万人】</td>\n",
       "      <td>総人口</td>\n",
       "      <td>概算値</td>\n",
       "      <td>全国</td>\n",
       "      <td>2021-12-01</td>\n",
       "      <td>10～14歳</td>\n",
       "      <td>NaN</td>\n",
       "      <td>535</td>\n",
       "      <td>274</td>\n",
       "      <td>261</td>\n",
       "    </tr>\n",
       "    <tr>\n",
       "      <th>4</th>\n",
       "      <td>人口【万人】</td>\n",
       "      <td>総人口</td>\n",
       "      <td>概算値</td>\n",
       "      <td>全国</td>\n",
       "      <td>2021-12-01</td>\n",
       "      <td>15～19歳</td>\n",
       "      <td>NaN</td>\n",
       "      <td>559</td>\n",
       "      <td>287</td>\n",
       "      <td>272</td>\n",
       "    </tr>\n",
       "  </tbody>\n",
       "</table>\n",
       "</div>"
      ],
      "text/plain": [
       "     表章項目   人口  概算値  全国 時間軸（年月日現在）  年齢5歳階級  /男女別    男女計     男     女\n",
       "0  人口【万人】  総人口  概算値  全国 2021-12-01      総数   NaN  12547  6099  6448\n",
       "1  人口【万人】  総人口  概算値  全国 2021-12-01    0～4歳   NaN    437   224   214\n",
       "2  人口【万人】  総人口  概算値  全国 2021-12-01    5～9歳   NaN    503   258   245\n",
       "3  人口【万人】  総人口  概算値  全国 2021-12-01  10～14歳   NaN    535   274   261\n",
       "4  人口【万人】  総人口  概算値  全国 2021-12-01  15～19歳   NaN    559   287   272"
      ]
     },
     "execution_count": 2,
     "metadata": {},
     "output_type": "execute_result"
    }
   ],
   "source": [
    "import pandas as pd\n",
    "\n",
    "df = pd.read_csv(\n",
    "    \"../data/人口推計.csv\",\n",
    "    parse_dates=[\"時間軸（年月日現在）\"],\n",
    "    date_format=\"%Y年%m月\",\n",
    "    thousands=\",\",\n",
    ")\n",
    "df.head()"
   ]
  },
  {
   "cell_type": "code",
   "execution_count": 7,
   "metadata": {},
   "outputs": [
    {
     "data": {
      "text/html": [
       "<div>\n",
       "<style scoped>\n",
       "    .dataframe tbody tr th:only-of-type {\n",
       "        vertical-align: middle;\n",
       "    }\n",
       "\n",
       "    .dataframe tbody tr th {\n",
       "        vertical-align: top;\n",
       "    }\n",
       "\n",
       "    .dataframe thead th {\n",
       "        text-align: right;\n",
       "    }\n",
       "</style>\n",
       "<table border=\"1\" class=\"dataframe\">\n",
       "  <thead>\n",
       "    <tr style=\"text-align: right;\">\n",
       "      <th></th>\n",
       "      <th>表章項目</th>\n",
       "      <th>人口</th>\n",
       "      <th>概算値</th>\n",
       "      <th>全国</th>\n",
       "      <th>時間軸（年月日現在）</th>\n",
       "      <th>年齢5歳階級</th>\n",
       "      <th>/男女別</th>\n",
       "      <th>男女計</th>\n",
       "      <th>男</th>\n",
       "      <th>女</th>\n",
       "    </tr>\n",
       "  </thead>\n",
       "  <tbody>\n",
       "    <tr>\n",
       "      <th>0</th>\n",
       "      <td>人口【万人】</td>\n",
       "      <td>総人口</td>\n",
       "      <td>概算値</td>\n",
       "      <td>全国</td>\n",
       "      <td>2021-12-01</td>\n",
       "      <td>総数</td>\n",
       "      <td>NaN</td>\n",
       "      <td>12547</td>\n",
       "      <td>6099</td>\n",
       "      <td>6448</td>\n",
       "    </tr>\n",
       "    <tr>\n",
       "      <th>1</th>\n",
       "      <td>人口【万人】</td>\n",
       "      <td>総人口</td>\n",
       "      <td>概算値</td>\n",
       "      <td>全国</td>\n",
       "      <td>2021-12-01</td>\n",
       "      <td>0～4歳</td>\n",
       "      <td>NaN</td>\n",
       "      <td>437</td>\n",
       "      <td>224</td>\n",
       "      <td>214</td>\n",
       "    </tr>\n",
       "    <tr>\n",
       "      <th>2</th>\n",
       "      <td>人口【万人】</td>\n",
       "      <td>総人口</td>\n",
       "      <td>概算値</td>\n",
       "      <td>全国</td>\n",
       "      <td>2021-12-01</td>\n",
       "      <td>5～9歳</td>\n",
       "      <td>NaN</td>\n",
       "      <td>503</td>\n",
       "      <td>258</td>\n",
       "      <td>245</td>\n",
       "    </tr>\n",
       "    <tr>\n",
       "      <th>3</th>\n",
       "      <td>人口【万人】</td>\n",
       "      <td>総人口</td>\n",
       "      <td>概算値</td>\n",
       "      <td>全国</td>\n",
       "      <td>2021-12-01</td>\n",
       "      <td>10～14歳</td>\n",
       "      <td>NaN</td>\n",
       "      <td>535</td>\n",
       "      <td>274</td>\n",
       "      <td>261</td>\n",
       "    </tr>\n",
       "    <tr>\n",
       "      <th>4</th>\n",
       "      <td>人口【万人】</td>\n",
       "      <td>総人口</td>\n",
       "      <td>概算値</td>\n",
       "      <td>全国</td>\n",
       "      <td>2021-12-01</td>\n",
       "      <td>15～19歳</td>\n",
       "      <td>NaN</td>\n",
       "      <td>559</td>\n",
       "      <td>287</td>\n",
       "      <td>272</td>\n",
       "    </tr>\n",
       "  </tbody>\n",
       "</table>\n",
       "</div>"
      ],
      "text/plain": [
       "     表章項目   人口  概算値  全国 時間軸（年月日現在）  年齢5歳階級  /男女別    男女計     男     女\n",
       "0  人口【万人】  総人口  概算値  全国 2021-12-01      総数   NaN  12547  6099  6448\n",
       "1  人口【万人】  総人口  概算値  全国 2021-12-01    0～4歳   NaN    437   224   214\n",
       "2  人口【万人】  総人口  概算値  全国 2021-12-01    5～9歳   NaN    503   258   245\n",
       "3  人口【万人】  総人口  概算値  全国 2021-12-01  10～14歳   NaN    535   274   261\n",
       "4  人口【万人】  総人口  概算値  全国 2021-12-01  15～19歳   NaN    559   287   272"
      ]
     },
     "execution_count": 7,
     "metadata": {},
     "output_type": "execute_result"
    }
   ],
   "source": [
    "df.to_parquet(\"../result/人口推計_2-11-2.parquet\")\n",
    "df_loaded = pd.read_parquet(\"../result/人口推計_2-11-2.parquet\")\n",
    "df_loaded.head()"
   ]
  },
  {
   "cell_type": "code",
   "execution_count": 8,
   "metadata": {},
   "outputs": [
    {
     "data": {
      "text/plain": [
       "表章項目                  object\n",
       "人口                    object\n",
       "概算値                   object\n",
       "全国                    object\n",
       "時間軸（年月日現在）    datetime64[ns]\n",
       "年齢5歳階級                object\n",
       "/男女別                 float64\n",
       "男女計                    int64\n",
       "男                      int64\n",
       "女                      int64\n",
       "dtype: object"
      ]
     },
     "execution_count": 8,
     "metadata": {},
     "output_type": "execute_result"
    }
   ],
   "source": [
    "df_loaded.dtypes"
   ]
  },
  {
   "cell_type": "code",
   "execution_count": 9,
   "metadata": {},
   "outputs": [
    {
     "data": {
      "text/plain": [
       "True"
      ]
     },
     "execution_count": 9,
     "metadata": {},
     "output_type": "execute_result"
    }
   ],
   "source": [
    "df.equals(df_loaded)"
   ]
  },
  {
   "cell_type": "code",
   "execution_count": 10,
   "metadata": {},
   "outputs": [
    {
     "name": "stdout",
     "output_type": "stream",
     "text": [
      "53032\n",
      "17017\n"
     ]
    }
   ],
   "source": [
    "import os\n",
    "\n",
    "print(os.path.getsize(\"../result/人口推計_2-10-2.pickle\"))\n",
    "print(os.path.getsize(\"../result/人口推計_2-11-2.parquet\"))"
   ]
  }
 ],
 "metadata": {
  "kernelspec": {
   "display_name": "Python 3",
   "language": "python",
   "name": "python3"
  },
  "language_info": {
   "codemirror_mode": {
    "name": "ipython",
    "version": 3
   },
   "file_extension": ".py",
   "mimetype": "text/x-python",
   "name": "python",
   "nbconvert_exporter": "python",
   "pygments_lexer": "ipython3",
   "version": "3.12.4"
  }
 },
 "nbformat": 4,
 "nbformat_minor": 2
}
