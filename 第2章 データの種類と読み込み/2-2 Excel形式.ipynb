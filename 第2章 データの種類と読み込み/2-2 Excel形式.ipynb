{
 "cells": [
  {
   "cell_type": "code",
   "execution_count": 6,
   "metadata": {},
   "outputs": [
    {
     "data": {
      "text/html": [
       "<div>\n",
       "<style scoped>\n",
       "    .dataframe tbody tr th:only-of-type {\n",
       "        vertical-align: middle;\n",
       "    }\n",
       "\n",
       "    .dataframe tbody tr th {\n",
       "        vertical-align: top;\n",
       "    }\n",
       "\n",
       "    .dataframe thead th {\n",
       "        text-align: right;\n",
       "    }\n",
       "</style>\n",
       "<table border=\"1\" class=\"dataframe\">\n",
       "  <thead>\n",
       "    <tr style=\"text-align: right;\">\n",
       "      <th></th>\n",
       "      <th>年齢5歳階級 コード</th>\n",
       "      <th>年齢5歳階級 補助コード</th>\n",
       "      <th>年齢5歳階級</th>\n",
       "      <th>/男女別</th>\n",
       "      <th>男女計</th>\n",
       "      <th>男</th>\n",
       "      <th>女</th>\n",
       "    </tr>\n",
       "  </thead>\n",
       "  <tbody>\n",
       "    <tr>\n",
       "      <th>0</th>\n",
       "      <td>1000</td>\n",
       "      <td>NaN</td>\n",
       "      <td>総数</td>\n",
       "      <td>NaN</td>\n",
       "      <td>12,547</td>\n",
       "      <td>6,099</td>\n",
       "      <td>6,448</td>\n",
       "    </tr>\n",
       "    <tr>\n",
       "      <th>1</th>\n",
       "      <td>1001</td>\n",
       "      <td>NaN</td>\n",
       "      <td>0～4歳</td>\n",
       "      <td>NaN</td>\n",
       "      <td>437</td>\n",
       "      <td>224</td>\n",
       "      <td>214</td>\n",
       "    </tr>\n",
       "    <tr>\n",
       "      <th>2</th>\n",
       "      <td>1002</td>\n",
       "      <td>NaN</td>\n",
       "      <td>5～9歳</td>\n",
       "      <td>NaN</td>\n",
       "      <td>503</td>\n",
       "      <td>258</td>\n",
       "      <td>245</td>\n",
       "    </tr>\n",
       "    <tr>\n",
       "      <th>3</th>\n",
       "      <td>1003</td>\n",
       "      <td>NaN</td>\n",
       "      <td>10～14歳</td>\n",
       "      <td>NaN</td>\n",
       "      <td>535</td>\n",
       "      <td>274</td>\n",
       "      <td>261</td>\n",
       "    </tr>\n",
       "    <tr>\n",
       "      <th>4</th>\n",
       "      <td>1004</td>\n",
       "      <td>NaN</td>\n",
       "      <td>15～19歳</td>\n",
       "      <td>NaN</td>\n",
       "      <td>559</td>\n",
       "      <td>287</td>\n",
       "      <td>272</td>\n",
       "    </tr>\n",
       "  </tbody>\n",
       "</table>\n",
       "</div>"
      ],
      "text/plain": [
       "   年齢5歳階級 コード  年齢5歳階級 補助コード  年齢5歳階級  /男女別     男女計      男      女\n",
       "0        1000           NaN      総数   NaN  12,547  6,099  6,448\n",
       "1        1001           NaN    0～4歳   NaN     437    224    214\n",
       "2        1002           NaN    5～9歳   NaN     503    258    245\n",
       "3        1003           NaN  10～14歳   NaN     535    274    261\n",
       "4        1004           NaN  15～19歳   NaN     559    287    272"
      ]
     },
     "execution_count": 6,
     "metadata": {},
     "output_type": "execute_result"
    }
   ],
   "source": [
    "import pandas as pd\n",
    "\n",
    "# excel読み込み\n",
    "df = pd.read_excel(\n",
    "    \"../data/人口推計.xlsx\",\n",
    "    header=13,\n",
    "    nrows=27,\n",
    ")\n",
    "\n",
    "df.head()"
   ]
  },
  {
   "cell_type": "code",
   "execution_count": 7,
   "metadata": {},
   "outputs": [
    {
     "data": {
      "text/plain": [
       "(27, 7)"
      ]
     },
     "execution_count": 7,
     "metadata": {},
     "output_type": "execute_result"
    }
   ],
   "source": [
    "# データの形状\n",
    "df.shape"
   ]
  },
  {
   "cell_type": "code",
   "execution_count": 8,
   "metadata": {},
   "outputs": [
    {
     "data": {
      "text/plain": [
       "np.True_"
      ]
     },
     "execution_count": 8,
     "metadata": {},
     "output_type": "execute_result"
    }
   ],
   "source": [
    "# 欠損値\n",
    "df.loc[:, \"/男女別\"].isna().all()"
   ]
  },
  {
   "cell_type": "code",
   "execution_count": 13,
   "metadata": {},
   "outputs": [
    {
     "data": {
      "text/plain": [
       "False"
      ]
     },
     "execution_count": 13,
     "metadata": {},
     "output_type": "execute_result"
    }
   ],
   "source": [
    "# 欠損値\n",
    "bool(df.loc[:, \"/男女別\"].notna().any())"
   ]
  },
  {
   "cell_type": "code",
   "execution_count": 15,
   "metadata": {},
   "outputs": [
    {
     "data": {
      "text/html": [
       "<div>\n",
       "<style scoped>\n",
       "    .dataframe tbody tr th:only-of-type {\n",
       "        vertical-align: middle;\n",
       "    }\n",
       "\n",
       "    .dataframe tbody tr th {\n",
       "        vertical-align: top;\n",
       "    }\n",
       "\n",
       "    .dataframe thead th {\n",
       "        text-align: right;\n",
       "    }\n",
       "</style>\n",
       "<table border=\"1\" class=\"dataframe\">\n",
       "  <thead>\n",
       "    <tr style=\"text-align: right;\">\n",
       "      <th></th>\n",
       "      <th>年齢5歳階級 コード</th>\n",
       "      <th>年齢5歳階級</th>\n",
       "      <th>男女計</th>\n",
       "      <th>男</th>\n",
       "      <th>女</th>\n",
       "    </tr>\n",
       "  </thead>\n",
       "  <tbody>\n",
       "    <tr>\n",
       "      <th>0</th>\n",
       "      <td>1000</td>\n",
       "      <td>総数</td>\n",
       "      <td>12547</td>\n",
       "      <td>6099</td>\n",
       "      <td>6448</td>\n",
       "    </tr>\n",
       "    <tr>\n",
       "      <th>1</th>\n",
       "      <td>1001</td>\n",
       "      <td>0～4歳</td>\n",
       "      <td>437</td>\n",
       "      <td>224</td>\n",
       "      <td>214</td>\n",
       "    </tr>\n",
       "    <tr>\n",
       "      <th>2</th>\n",
       "      <td>1002</td>\n",
       "      <td>5～9歳</td>\n",
       "      <td>503</td>\n",
       "      <td>258</td>\n",
       "      <td>245</td>\n",
       "    </tr>\n",
       "    <tr>\n",
       "      <th>3</th>\n",
       "      <td>1003</td>\n",
       "      <td>10～14歳</td>\n",
       "      <td>535</td>\n",
       "      <td>274</td>\n",
       "      <td>261</td>\n",
       "    </tr>\n",
       "    <tr>\n",
       "      <th>4</th>\n",
       "      <td>1004</td>\n",
       "      <td>15～19歳</td>\n",
       "      <td>559</td>\n",
       "      <td>287</td>\n",
       "      <td>272</td>\n",
       "    </tr>\n",
       "  </tbody>\n",
       "</table>\n",
       "</div>"
      ],
      "text/plain": [
       "   年齢5歳階級 コード  年齢5歳階級    男女計     男     女\n",
       "0        1000      総数  12547  6099  6448\n",
       "1        1001    0～4歳    437   224   214\n",
       "2        1002    5～9歳    503   258   245\n",
       "3        1003  10～14歳    535   274   261\n",
       "4        1004  15～19歳    559   287   272"
      ]
     },
     "execution_count": 15,
     "metadata": {},
     "output_type": "execute_result"
    }
   ],
   "source": [
    "# データ加工\n",
    "cleaned_df = pd.concat(\n",
    "    [\n",
    "        df.loc[:, [\"年齢5歳階級 コード\", \"年齢5歳階級\"]],\n",
    "        df.loc[:, [\"男女計\", \"男\", \"女\"]]\n",
    "            .map(lambda e: e.replace(\",\", \"\"))\n",
    "            .astype(\"int\"),\n",
    "    ],\n",
    "    axis=1,\n",
    ")\n",
    "cleaned_df.head()"
   ]
  },
  {
   "cell_type": "code",
   "execution_count": 16,
   "metadata": {},
   "outputs": [
    {
     "data": {
      "text/plain": [
       "年齢5歳階級 コード     int64\n",
       "年齢5歳階級        object\n",
       "男女計            int64\n",
       "男              int64\n",
       "女              int64\n",
       "dtype: object"
      ]
     },
     "execution_count": 16,
     "metadata": {},
     "output_type": "execute_result"
    }
   ],
   "source": [
    "# データ型\n",
    "cleaned_df.dtypes"
   ]
  },
  {
   "cell_type": "code",
   "execution_count": 17,
   "metadata": {},
   "outputs": [
    {
     "data": {
      "text/html": [
       "<div>\n",
       "<style scoped>\n",
       "    .dataframe tbody tr th:only-of-type {\n",
       "        vertical-align: middle;\n",
       "    }\n",
       "\n",
       "    .dataframe tbody tr th {\n",
       "        vertical-align: top;\n",
       "    }\n",
       "\n",
       "    .dataframe thead th {\n",
       "        text-align: right;\n",
       "    }\n",
       "</style>\n",
       "<table border=\"1\" class=\"dataframe\">\n",
       "  <thead>\n",
       "    <tr style=\"text-align: right;\">\n",
       "      <th></th>\n",
       "      <th>年齢5歳階級 コード</th>\n",
       "      <th>年齢5歳階級</th>\n",
       "      <th>男女計</th>\n",
       "      <th>男</th>\n",
       "      <th>女</th>\n",
       "      <th>女性比率</th>\n",
       "    </tr>\n",
       "  </thead>\n",
       "  <tbody>\n",
       "    <tr>\n",
       "      <th>22</th>\n",
       "      <td>2000</td>\n",
       "      <td>（再掲）15歳未満</td>\n",
       "      <td>1475</td>\n",
       "      <td>756</td>\n",
       "      <td>719</td>\n",
       "      <td>0.487458</td>\n",
       "    </tr>\n",
       "    <tr>\n",
       "      <th>23</th>\n",
       "      <td>1023</td>\n",
       "      <td>（再掲）15～64歳</td>\n",
       "      <td>7449</td>\n",
       "      <td>3771</td>\n",
       "      <td>3678</td>\n",
       "      <td>0.493758</td>\n",
       "    </tr>\n",
       "    <tr>\n",
       "      <th>24</th>\n",
       "      <td>1024</td>\n",
       "      <td>（再掲）65歳以上</td>\n",
       "      <td>3624</td>\n",
       "      <td>1573</td>\n",
       "      <td>2051</td>\n",
       "      <td>0.565949</td>\n",
       "    </tr>\n",
       "    <tr>\n",
       "      <th>25</th>\n",
       "      <td>1026</td>\n",
       "      <td>（再掲）うち75歳以上</td>\n",
       "      <td>1878</td>\n",
       "      <td>738</td>\n",
       "      <td>1140</td>\n",
       "      <td>0.607029</td>\n",
       "    </tr>\n",
       "    <tr>\n",
       "      <th>26</th>\n",
       "      <td>1027</td>\n",
       "      <td>（再掲）うち85歳以上</td>\n",
       "      <td>644</td>\n",
       "      <td>205</td>\n",
       "      <td>439</td>\n",
       "      <td>0.681677</td>\n",
       "    </tr>\n",
       "  </tbody>\n",
       "</table>\n",
       "</div>"
      ],
      "text/plain": [
       "    年齢5歳階級 コード       年齢5歳階級   男女計     男     女      女性比率\n",
       "22        2000    （再掲）15歳未満  1475   756   719  0.487458\n",
       "23        1023   （再掲）15～64歳  7449  3771  3678  0.493758\n",
       "24        1024    （再掲）65歳以上  3624  1573  2051  0.565949\n",
       "25        1026  （再掲）うち75歳以上  1878   738  1140  0.607029\n",
       "26        1027  （再掲）うち85歳以上   644   205   439  0.681677"
      ]
     },
     "execution_count": 17,
     "metadata": {},
     "output_type": "execute_result"
    }
   ],
   "source": [
    "# 列追加\n",
    "processed_df = cleaned_df.assign(\n",
    "    女性比率=cleaned_df.loc[:, \"女\"] / cleaned_df.loc[:, \"男女計\"],\n",
    ")\n",
    "processed_df.tail()"
   ]
  },
  {
   "cell_type": "code",
   "execution_count": 21,
   "metadata": {},
   "outputs": [
    {
     "data": {
      "text/html": [
       "<div>\n",
       "<style scoped>\n",
       "    .dataframe tbody tr th:only-of-type {\n",
       "        vertical-align: middle;\n",
       "    }\n",
       "\n",
       "    .dataframe tbody tr th {\n",
       "        vertical-align: top;\n",
       "    }\n",
       "\n",
       "    .dataframe thead th {\n",
       "        text-align: right;\n",
       "    }\n",
       "</style>\n",
       "<table border=\"1\" class=\"dataframe\">\n",
       "  <thead>\n",
       "    <tr style=\"text-align: right;\">\n",
       "      <th></th>\n",
       "      <th>Unnamed: 0</th>\n",
       "      <th>年齢5歳階級 コード</th>\n",
       "      <th>年齢5歳階級</th>\n",
       "      <th>男女計</th>\n",
       "      <th>男</th>\n",
       "      <th>女</th>\n",
       "      <th>女性比率</th>\n",
       "    </tr>\n",
       "  </thead>\n",
       "  <tbody>\n",
       "    <tr>\n",
       "      <th>0</th>\n",
       "      <td>0</td>\n",
       "      <td>1000</td>\n",
       "      <td>総数</td>\n",
       "      <td>12547</td>\n",
       "      <td>6099</td>\n",
       "      <td>6448</td>\n",
       "      <td>0.513908</td>\n",
       "    </tr>\n",
       "    <tr>\n",
       "      <th>1</th>\n",
       "      <td>1</td>\n",
       "      <td>1001</td>\n",
       "      <td>0～4歳</td>\n",
       "      <td>437</td>\n",
       "      <td>224</td>\n",
       "      <td>214</td>\n",
       "      <td>0.489703</td>\n",
       "    </tr>\n",
       "    <tr>\n",
       "      <th>2</th>\n",
       "      <td>2</td>\n",
       "      <td>1002</td>\n",
       "      <td>5～9歳</td>\n",
       "      <td>503</td>\n",
       "      <td>258</td>\n",
       "      <td>245</td>\n",
       "      <td>0.487078</td>\n",
       "    </tr>\n",
       "    <tr>\n",
       "      <th>3</th>\n",
       "      <td>3</td>\n",
       "      <td>1003</td>\n",
       "      <td>10～14歳</td>\n",
       "      <td>535</td>\n",
       "      <td>274</td>\n",
       "      <td>261</td>\n",
       "      <td>0.487850</td>\n",
       "    </tr>\n",
       "    <tr>\n",
       "      <th>4</th>\n",
       "      <td>4</td>\n",
       "      <td>1004</td>\n",
       "      <td>15～19歳</td>\n",
       "      <td>559</td>\n",
       "      <td>287</td>\n",
       "      <td>272</td>\n",
       "      <td>0.486583</td>\n",
       "    </tr>\n",
       "  </tbody>\n",
       "</table>\n",
       "</div>"
      ],
      "text/plain": [
       "   Unnamed: 0  年齢5歳階級 コード  年齢5歳階級    男女計     男     女      女性比率\n",
       "0           0        1000      総数  12547  6099  6448  0.513908\n",
       "1           1        1001    0～4歳    437   224   214  0.489703\n",
       "2           2        1002    5～9歳    503   258   245  0.487078\n",
       "3           3        1003  10～14歳    535   274   261  0.487850\n",
       "4           4        1004  15～19歳    559   287   272  0.486583"
      ]
     },
     "execution_count": 21,
     "metadata": {},
     "output_type": "execute_result"
    }
   ],
   "source": [
    "import os\n",
    "\n",
    "# ファイル出力\n",
    "os.makedirs(\"../result\", exist_ok=True)\n",
    "processed_df.to_excel(\"../result/人口推計_2-2-4.xlsx\")\n",
    "read_df = pd.read_excel(\"../result/人口推計_2-2-4.xlsx\")\n",
    "read_df.head()"
   ]
  },
  {
   "cell_type": "code",
   "execution_count": 22,
   "metadata": {},
   "outputs": [
    {
     "data": {
      "text/plain": [
       "'人口推計 各月1日現在人口 概算値'"
      ]
     },
     "execution_count": 22,
     "metadata": {},
     "output_type": "execute_result"
    }
   ],
   "source": [
    "# openpyxlモジュール\n",
    "import openpyxl\n",
    "\n",
    "wb = openpyxl.load_workbook(\"../data/人口推計.xlsx\")\n",
    "sheet = wb.worksheets[0]\n",
    "sheet[\"B1\"].value"
   ]
  },
  {
   "cell_type": "code",
   "execution_count": 24,
   "metadata": {},
   "outputs": [
    {
     "data": {
      "text/plain": [
       "[<Worksheet \"1\">]"
      ]
     },
     "execution_count": 24,
     "metadata": {},
     "output_type": "execute_result"
    }
   ],
   "source": [
    "wb.worksheets"
   ]
  },
  {
   "cell_type": "code",
   "execution_count": 27,
   "metadata": {},
   "outputs": [
    {
     "name": "stdout",
     "output_type": "stream",
     "text": [
      "年齢5歳階級 コード 年齢5歳階級 補助コード 年齢5歳階級 /男女別 男女計 男 女 \n",
      "01000 None 総数 None 12,547 6,099 6,448 \n",
      "01001 None 0～4歳 None 437 224 214 \n",
      "01002 None 5～9歳 None 503 258 245 \n",
      "01003 None 10～14歳 None 535 274 261 \n",
      "01004 None 15～19歳 None 559 287 272 \n",
      "01005 None 20～24歳 None 626 320 306 \n"
     ]
    }
   ],
   "source": [
    "for row in sheet.iter_rows(min_row=14, max_row=20):\n",
    "    for cell in row:\n",
    "        print(cell.value, end=\" \")\n",
    "    print()"
   ]
  }
 ],
 "metadata": {
  "kernelspec": {
   "display_name": "Python 3",
   "language": "python",
   "name": "python3"
  },
  "language_info": {
   "codemirror_mode": {
    "name": "ipython",
    "version": 3
   },
   "file_extension": ".py",
   "mimetype": "text/x-python",
   "name": "python",
   "nbconvert_exporter": "python",
   "pygments_lexer": "ipython3",
   "version": "3.12.4"
  }
 },
 "nbformat": 4,
 "nbformat_minor": 2
}
