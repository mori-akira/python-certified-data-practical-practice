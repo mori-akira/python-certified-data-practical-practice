{
 "cells": [
  {
   "cell_type": "code",
   "execution_count": 24,
   "metadata": {},
   "outputs": [
    {
     "data": {
      "text/plain": [
       "<thead>\n",
       "<tr class=\"row-odd\"><th class=\"head\"></th>\n",
       "<th class=\"head\">PEP</th>\n",
       "<th class=\"head\">Title</th>\n",
       "<th class=\"head\">Authors</th>\n",
       "<th class=\"head\"></th>\n",
       "</tr>\n",
       "</thead>"
      ]
     },
     "execution_count": 24,
     "metadata": {},
     "output_type": "execute_result"
    }
   ],
   "source": [
    "from urllib.request import urlopen\n",
    "from bs4 import BeautifulSoup\n",
    "\n",
    "with urlopen(\"https://peps.python.org/\") as web:\n",
    "    html = web.read()\n",
    "soup = BeautifulSoup(html, \"html.parser\")\n",
    "table = soup.find(id=\"historical-meta-peps-and-informational-peps\").table\n",
    "table.find(\"thead\")"
   ]
  },
  {
   "cell_type": "code",
   "execution_count": 27,
   "metadata": {},
   "outputs": [
    {
     "data": {
      "text/plain": [
       "<tr class=\"row-even\"><td><abbr title=\"Process, Superseded\">PS</abbr></td>\n",
       "<td><a class=\"pep reference internal\" href=\"pep-0005/\" title=\"PEP 5 – Guidelines for Language Evolution\">5</a></td>\n",
       "<td><a class=\"pep reference internal\" href=\"pep-0005/\" title=\"PEP 5 – Guidelines for Language Evolution\">Guidelines for Language Evolution</a></td>\n",
       "<td>Paul Prescod</td>\n",
       "<td></td>\n",
       "</tr>"
      ]
     },
     "execution_count": 27,
     "metadata": {},
     "output_type": "execute_result"
    }
   ],
   "source": [
    "table.find(\"tbody\").find(\"tr\")"
   ]
  },
  {
   "cell_type": "code",
   "execution_count": 28,
   "metadata": {},
   "outputs": [
    {
     "data": {
      "text/plain": [
       "[<td><abbr title=\"Process, Superseded\">PS</abbr></td>,\n",
       " <td><a class=\"pep reference internal\" href=\"pep-0005/\" title=\"PEP 5 – Guidelines for Language Evolution\">5</a></td>,\n",
       " <td><a class=\"pep reference internal\" href=\"pep-0005/\" title=\"PEP 5 – Guidelines for Language Evolution\">Guidelines for Language Evolution</a></td>,\n",
       " <td>Paul Prescod</td>,\n",
       " <td></td>]"
      ]
     },
     "execution_count": 28,
     "metadata": {},
     "output_type": "execute_result"
    }
   ],
   "source": [
    "table.find(\"tbody\").find(\"tr\").findAll(\"td\")"
   ]
  },
  {
   "cell_type": "code",
   "execution_count": 16,
   "metadata": {},
   "outputs": [
    {
     "data": {
      "text/plain": [
       "11"
      ]
     },
     "execution_count": 16,
     "metadata": {},
     "output_type": "execute_result"
    }
   ],
   "source": [
    "import pandas as pd\n",
    "\n",
    "tables = pd.read_html(\"https://peps.python.org/\")\n",
    "len(tables)"
   ]
  },
  {
   "cell_type": "code",
   "execution_count": 30,
   "metadata": {},
   "outputs": [
    {
     "data": {
      "text/html": [
       "<div>\n",
       "<style scoped>\n",
       "    .dataframe tbody tr th:only-of-type {\n",
       "        vertical-align: middle;\n",
       "    }\n",
       "\n",
       "    .dataframe tbody tr th {\n",
       "        vertical-align: top;\n",
       "    }\n",
       "\n",
       "    .dataframe thead th {\n",
       "        text-align: right;\n",
       "    }\n",
       "</style>\n",
       "<table border=\"1\" class=\"dataframe\">\n",
       "  <thead>\n",
       "    <tr style=\"text-align: right;\">\n",
       "      <th></th>\n",
       "      <th>Unnamed: 0</th>\n",
       "      <th>PEP</th>\n",
       "      <th>Title</th>\n",
       "      <th>Authors</th>\n",
       "      <th>Unnamed: 4</th>\n",
       "    </tr>\n",
       "  </thead>\n",
       "  <tbody>\n",
       "    <tr>\n",
       "      <th>0</th>\n",
       "      <td>PA</td>\n",
       "      <td>1</td>\n",
       "      <td>PEP Purpose and Guidelines</td>\n",
       "      <td>Barry Warsaw, Jeremy Hylton, David Goodger, Al...</td>\n",
       "      <td>NaN</td>\n",
       "    </tr>\n",
       "    <tr>\n",
       "      <th>1</th>\n",
       "      <td>PA</td>\n",
       "      <td>2</td>\n",
       "      <td>Procedure for Adding New Modules</td>\n",
       "      <td>Brett Cannon, Martijn Faassen</td>\n",
       "      <td>NaN</td>\n",
       "    </tr>\n",
       "    <tr>\n",
       "      <th>2</th>\n",
       "      <td>PA</td>\n",
       "      <td>4</td>\n",
       "      <td>Deprecation of Standard Modules</td>\n",
       "      <td>Brett Cannon, Martin von Löwis</td>\n",
       "      <td>NaN</td>\n",
       "    </tr>\n",
       "    <tr>\n",
       "      <th>3</th>\n",
       "      <td>PA</td>\n",
       "      <td>7</td>\n",
       "      <td>Style Guide for C Code</td>\n",
       "      <td>Guido van Rossum, Barry Warsaw</td>\n",
       "      <td>NaN</td>\n",
       "    </tr>\n",
       "    <tr>\n",
       "      <th>4</th>\n",
       "      <td>PA</td>\n",
       "      <td>8</td>\n",
       "      <td>Style Guide for Python Code</td>\n",
       "      <td>Guido van Rossum, Barry Warsaw, Alyssa Coghlan</td>\n",
       "      <td>NaN</td>\n",
       "    </tr>\n",
       "  </tbody>\n",
       "</table>\n",
       "</div>"
      ],
      "text/plain": [
       "  Unnamed: 0  PEP                             Title  \\\n",
       "0         PA    1        PEP Purpose and Guidelines   \n",
       "1         PA    2  Procedure for Adding New Modules   \n",
       "2         PA    4   Deprecation of Standard Modules   \n",
       "3         PA    7            Style Guide for C Code   \n",
       "4         PA    8       Style Guide for Python Code   \n",
       "\n",
       "                                             Authors  Unnamed: 4  \n",
       "0  Barry Warsaw, Jeremy Hylton, David Goodger, Al...         NaN  \n",
       "1                      Brett Cannon, Martijn Faassen         NaN  \n",
       "2                     Brett Cannon, Martin von Löwis         NaN  \n",
       "3                     Guido van Rossum, Barry Warsaw         NaN  \n",
       "4     Guido van Rossum, Barry Warsaw, Alyssa Coghlan         NaN  "
      ]
     },
     "execution_count": 30,
     "metadata": {},
     "output_type": "execute_result"
    }
   ],
   "source": [
    "tables[0].head()"
   ]
  },
  {
   "cell_type": "code",
   "execution_count": 32,
   "metadata": {},
   "outputs": [
    {
     "data": {
      "text/plain": [
       "(47, 5)"
      ]
     },
     "execution_count": 32,
     "metadata": {},
     "output_type": "execute_result"
    }
   ],
   "source": [
    "tables[1].shape"
   ]
  },
  {
   "cell_type": "code",
   "execution_count": 36,
   "metadata": {},
   "outputs": [
    {
     "data": {
      "text/html": [
       "<div>\n",
       "<style scoped>\n",
       "    .dataframe tbody tr th:only-of-type {\n",
       "        vertical-align: middle;\n",
       "    }\n",
       "\n",
       "    .dataframe tbody tr th {\n",
       "        vertical-align: top;\n",
       "    }\n",
       "\n",
       "    .dataframe thead th {\n",
       "        text-align: right;\n",
       "    }\n",
       "</style>\n",
       "<table border=\"1\" class=\"dataframe\">\n",
       "  <thead>\n",
       "    <tr style=\"text-align: right;\">\n",
       "      <th></th>\n",
       "      <th>type-status</th>\n",
       "      <th>number</th>\n",
       "      <th>title</th>\n",
       "      <th>authors</th>\n",
       "      <th></th>\n",
       "    </tr>\n",
       "  </thead>\n",
       "  <tbody>\n",
       "    <tr>\n",
       "      <th>0</th>\n",
       "      <td>SA</td>\n",
       "      <td>458</td>\n",
       "      <td>Secure PyPI downloads with signed repository m...</td>\n",
       "      <td>Trishank Karthik Kuppusamy, Vladimir Diaz, Mar...</td>\n",
       "      <td>NaN</td>\n",
       "    </tr>\n",
       "    <tr>\n",
       "      <th>1</th>\n",
       "      <td>SA</td>\n",
       "      <td>563</td>\n",
       "      <td>Postponed Evaluation of Annotations</td>\n",
       "      <td>Łukasz Langa</td>\n",
       "      <td>3.70</td>\n",
       "    </tr>\n",
       "    <tr>\n",
       "      <th>2</th>\n",
       "      <td>SA</td>\n",
       "      <td>590</td>\n",
       "      <td>Vectorcall: a fast calling protocol for CPython</td>\n",
       "      <td>Mark Shannon, Jeroen Demeyer</td>\n",
       "      <td>3.80</td>\n",
       "    </tr>\n",
       "    <tr>\n",
       "      <th>3</th>\n",
       "      <td>SA</td>\n",
       "      <td>625</td>\n",
       "      <td>Filename of a Source Distribution</td>\n",
       "      <td>Tzu-ping Chung, Paul Moore</td>\n",
       "      <td>NaN</td>\n",
       "    </tr>\n",
       "    <tr>\n",
       "      <th>4</th>\n",
       "      <td>SA</td>\n",
       "      <td>649</td>\n",
       "      <td>Deferred Evaluation Of Annotations Using Descr...</td>\n",
       "      <td>Larry Hastings</td>\n",
       "      <td>3.14</td>\n",
       "    </tr>\n",
       "  </tbody>\n",
       "</table>\n",
       "</div>"
      ],
      "text/plain": [
       "  type-status  number                                              title  \\\n",
       "0          SA     458  Secure PyPI downloads with signed repository m...   \n",
       "1          SA     563                Postponed Evaluation of Annotations   \n",
       "2          SA     590    Vectorcall: a fast calling protocol for CPython   \n",
       "3          SA     625                  Filename of a Source Distribution   \n",
       "4          SA     649  Deferred Evaluation Of Annotations Using Descr...   \n",
       "\n",
       "                                             authors        \n",
       "0  Trishank Karthik Kuppusamy, Vladimir Diaz, Mar...   NaN  \n",
       "1                                       Łukasz Langa  3.70  \n",
       "2                       Mark Shannon, Jeroen Demeyer  3.80  \n",
       "3                         Tzu-ping Chung, Paul Moore   NaN  \n",
       "4                                     Larry Hastings  3.14  "
      ]
     },
     "execution_count": 36,
     "metadata": {},
     "output_type": "execute_result"
    }
   ],
   "source": [
    "tables[3].columns = (\"type-status\", \"number\", \"title\", \"authors\", \"\")\n",
    "tables[3].head()"
   ]
  }
 ],
 "metadata": {
  "kernelspec": {
   "display_name": "Python 3",
   "language": "python",
   "name": "python3"
  },
  "language_info": {
   "codemirror_mode": {
    "name": "ipython",
    "version": 3
   },
   "file_extension": ".py",
   "mimetype": "text/x-python",
   "name": "python",
   "nbconvert_exporter": "python",
   "pygments_lexer": "ipython3",
   "version": "3.12.4"
  }
 },
 "nbformat": 4,
 "nbformat_minor": 2
}
