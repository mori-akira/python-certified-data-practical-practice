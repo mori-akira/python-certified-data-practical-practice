{
 "cells": [
  {
   "cell_type": "markdown",
   "metadata": {},
   "source": [
    "## GISで利用する主なライブラリ\n",
    "<table>\n",
    "    <thead>\n",
    "        <tr>\n",
    "            <th>ライブラリ</th>\n",
    "            <th>説明</th>\n",
    "        </tr>\n",
    "    </thead>\n",
    "    <tbody>\n",
    "        <tr>\n",
    "            <td><m-b>GDAL</m-b></td>\n",
    "            <td>多数のファイル形式に対応したベクターデータとラスターデータを変換する</td>\n",
    "        </tr>\n",
    "        <tr>\n",
    "            <td><m-b>Fiona</m-b></td>\n",
    "            <td>ベクターデータの読み込み/書き込みに対応</td>\n",
    "        </tr>\n",
    "        <tr>\n",
    "            <td><m-b>GeoPandas</m-b></td>\n",
    "            <td>地理空間データをpandasで操作できる</td>\n",
    "        </tr>\n",
    "        <tr>\n",
    "            <td><m-b>Rasterio</m-b></td>\n",
    "            <td>ラスターデータの読み込み/書き込みに対応</td>\n",
    "        </tr>\n",
    "        <tr>\n",
    "            <td><m-b>Shapely</m-b></td>\n",
    "            <td>地理空間データを操作/解析する</td>\n",
    "        </tr>\n",
    "        <tr>\n",
    "            <td><m-b>pyproj</m-b></td>\n",
    "            <td>座標参照系を別の座標に変換する</td>\n",
    "        </tr>\n",
    "        <tr>\n",
    "            <td><m-b>Geopy</m-b></td>\n",
    "            <td>ジオコーディングを行う</td>\n",
    "        </tr>\n",
    "        <tr>\n",
    "            <td><m-b>Folium</m-b></td>\n",
    "            <td>地理空間データを地図に投影し可視化する</td>\n",
    "        </tr>\n",
    "    </tbody>\n",
    "</table>"
   ]
  }
 ],
 "metadata": {
  "language_info": {
   "name": "python"
  }
 },
 "nbformat": 4,
 "nbformat_minor": 2
}
