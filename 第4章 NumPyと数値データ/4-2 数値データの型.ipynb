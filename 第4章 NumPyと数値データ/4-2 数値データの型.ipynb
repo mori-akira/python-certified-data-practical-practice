{
 "cells": [
  {
   "cell_type": "code",
   "execution_count": 2,
   "metadata": {},
   "outputs": [
    {
     "data": {
      "text/plain": [
       "array([1, 2, 3], dtype=int8)"
      ]
     },
     "execution_count": 2,
     "metadata": {},
     "output_type": "execute_result"
    }
   ],
   "source": [
    "# 数値型の指定\n",
    "import numpy as np\n",
    "\n",
    "np.array([1, 2, 3], dtype=np.byte)"
   ]
  },
  {
   "cell_type": "code",
   "execution_count": 7,
   "metadata": {},
   "outputs": [
    {
     "name": "stdout",
     "output_type": "stream",
     "text": [
      "int8\n",
      "int8\n",
      "int8\n",
      "int8\n"
     ]
    }
   ],
   "source": [
    "print(np.array([1, 2, 3], dtype=np.int8).dtype)\n",
    "print(np.array([1, 2, 3], dtype=\"byte\").dtype)\n",
    "print(np.array([1, 2, 3], dtype=\"int8\").dtype)\n",
    "print(np.array([1, 2, 3], dtype=\"b\").dtype)"
   ]
  },
  {
   "cell_type": "markdown",
   "metadata": {},
   "source": [
    "## NumPyに用意された符号付き整数の型\n",
    "<table>\n",
    "    <thead>\n",
    "        <tr>\n",
    "            <th>データ型</th>\n",
    "            <th>エイリアス</th>\n",
    "            <th>文字列指定</th>\n",
    "            <th>説明</th>\n",
    "        </tr>\n",
    "    </thead>\n",
    "    <tbody>\n",
    "        <tr>\n",
    "            <td><m-b>numpy.byte</m-b></td>\n",
    "            <td><m-b>int8</m-b></td>\n",
    "            <td>\n",
    "                <ul>\n",
    "                    <li><m-b>\"byte\"</m-b></li>\n",
    "                    <li><m-b>\"int8\"</m-b></li>\n",
    "                </ul>\n",
    "            </td>\n",
    "            <td>8ビット符号付き整数</td>\n",
    "        </tr>\n",
    "        <tr>\n",
    "            <td><m-b>numpy.short</m-b></td>\n",
    "            <td><m-b>int16</m-b></td>\n",
    "            <td>\n",
    "                <ul>\n",
    "                    <li><m-b>\"short\"</m-b></li>\n",
    "                    <li><m-b>\"int16\"</m-b></li>\n",
    "                </ul>\n",
    "            </td>\n",
    "            <td>16ビット符号付き整数</td>\n",
    "        </tr>\n",
    "        <tr>\n",
    "            <td><m-b>numpy.intc</m-b></td>\n",
    "            <td><m-b>int32</m-b></td>\n",
    "            <td>\n",
    "                <ul>\n",
    "                    <li><m-b>\"intc\"</m-b></li>\n",
    "                    <li><m-b>\"int32\"</m-b></li>\n",
    "                </ul>\n",
    "            </td>\n",
    "            <td>32ビット符号付き整数</td>\n",
    "        </tr>\n",
    "        <tr>\n",
    "            <td><m-b>numpy.int_</m-b></td>\n",
    "            <td>\n",
    "                <ul>\n",
    "                    <li><m-b>int64</m-b></li>\n",
    "                    <li><m-b>intp</m-b></li>\n",
    "                </ul>\n",
    "            </td>\n",
    "            <td>\n",
    "                <ul>\n",
    "                    <li><m-b>\"int_\"</m-b></li>\n",
    "                    <li><m-b>\"int64\"</m-b></li>\n",
    "                </ul>\n",
    "            </td>\n",
    "            <td>64ビット符号付き整数</td>\n",
    "        </tr>\n",
    "    </tbody>\n",
    "</table>"
   ]
  },
  {
   "cell_type": "markdown",
   "metadata": {},
   "source": [
    "## NumPyに用意された符号なし整数の型\n",
    "<table>\n",
    "    <thead>\n",
    "        <tr>\n",
    "            <th>データ型</th>\n",
    "            <th>エイリアス</th>\n",
    "            <th>文字列指定</th>\n",
    "            <th>説明</th>\n",
    "        </tr>\n",
    "    </thead>\n",
    "    <tbody>\n",
    "        <tr>\n",
    "            <td><m-b>numpy.ubyte</m-b></td>\n",
    "            <td><m-b>uint8</m-b></td>\n",
    "            <td>\n",
    "                <ul>\n",
    "                    <li><m-b>\"ubyte\"</m-b></li>\n",
    "                    <li><m-b>\"uint8\"</m-b></li>\n",
    "                </ul>\n",
    "            </td>\n",
    "            <td>8ビット符号なし整数</td>\n",
    "        </tr>\n",
    "        <tr>\n",
    "            <td><m-b>numpy.ushort</m-b></td>\n",
    "            <td><m-b>uint16</m-b></td>\n",
    "            <td>\n",
    "                <ul>\n",
    "                    <li><m-b>\"ushort\"</m-b></li>\n",
    "                    <li><m-b>\"uint16\"</m-b></li>\n",
    "                </ul>\n",
    "            </td>\n",
    "            <td>16ビット符号なし整数</td>\n",
    "        </tr>\n",
    "        <tr>\n",
    "            <td><m-b>numpy.uintc</m-b></td>\n",
    "            <td><m-b>uint32</m-b></td>\n",
    "            <td>\n",
    "                <ul>\n",
    "                    <li><m-b>\"uintc\"</m-b></li>\n",
    "                    <li><m-b>\"uint32\"</m-b></li>\n",
    "                </ul>\n",
    "            </td>\n",
    "            <td>32ビット符号なし整数</td>\n",
    "        </tr>\n",
    "        <tr>\n",
    "            <td><m-b>numpy.uint</m-b></td>\n",
    "            <td>\n",
    "                <ul>\n",
    "                    <li><m-b>uint64</m-b></li>\n",
    "                    <li><m-b>uintp</m-b></li>\n",
    "                </ul>\n",
    "            </td>\n",
    "            <td>\n",
    "                <ul>\n",
    "                    <li><m-b>\"uint_\"</m-b></li>\n",
    "                    <li><m-b>\"uint64\"</m-b></li>\n",
    "                    <li><m-b>\"uintp\"</m-b></li>\n",
    "                </ul>\n",
    "            </td>\n",
    "            <td>64ビット符号なし整数</td>\n",
    "        </tr>\n",
    "    </tbody>\n",
    "</table>"
   ]
  },
  {
   "cell_type": "markdown",
   "metadata": {},
   "source": [
    "## NumPyに用意された浮動小数型\n",
    "<table>\n",
    "    <thead>\n",
    "        <tr>\n",
    "            <th>データ型</th>\n",
    "            <th>エイリアス</th>\n",
    "            <th>文字列指定</th>\n",
    "            <th>説明</th>\n",
    "        </tr>\n",
    "    </thead>\n",
    "    <tbody>\n",
    "        <tr>\n",
    "            <td><m-b>numpy.half</m-b></td>\n",
    "            <td><m-b>float16</m-b></td>\n",
    "            <td>\n",
    "                <ul>\n",
    "                    <li><m-b>\"half\"</m-b></li>\n",
    "                    <li><m-b>\"float16\"</m-b></li>\n",
    "                </ul>\n",
    "            </td>\n",
    "            <td>16ビット(半精度)浮動小数点数</td>\n",
    "        </tr>\n",
    "        <tr>\n",
    "            <td><m-b>numpy.single</m-b></td>\n",
    "            <td><m-b>float32</m-b></td>\n",
    "            <td>\n",
    "                <ul>\n",
    "                    <li><m-b>\"single\"</m-b></li>\n",
    "                    <li><m-b>\"float32\"</m-b></li>\n",
    "                </ul>\n",
    "            </td>\n",
    "            <td>32ビット(単精度)浮動小数点数</td>\n",
    "        </tr>\n",
    "        <tr>\n",
    "            <td><m-b>numpy.double</m-b></td>\n",
    "            <td>\n",
    "                <ul>\n",
    "                    <li><m-b>float64</m-b></li>\n",
    "                    <li><m-b>float_</m-b></li>\n",
    "                </ul>\n",
    "            </td>\n",
    "            <td>\n",
    "                <ul>\n",
    "                    <li><m-b>\"double\"</m-b></li>\n",
    "                    <li><m-b>\"flaot64\"</m-b></li>\n",
    "                </ul>\n",
    "            </td>\n",
    "            <td>64ビット(倍精度)浮動小数点数</td>\n",
    "        </tr>\n",
    "        <tr>\n",
    "            <td><m-b>numpy.longdouble</m-b></td>\n",
    "            <td>\n",
    "                <ul>\n",
    "                    <li><m-b>float128</m-b></li>\n",
    "                    <li><m-b>longfloat</m-b></li>\n",
    "                </ul>\n",
    "            </td>\n",
    "            <td>\n",
    "                <ul>\n",
    "                    <li><m-b>\"longdouble\"</m-b></li>\n",
    "                    <li><m-b>\"float128\"</m-b></li>\n",
    "                    <li><m-b>\"longfloat\"</m-b></li>\n",
    "                </ul>\n",
    "            </td>\n",
    "            <td>128ビット(拡張倍精度)浮動小数点数</td>\n",
    "        </tr>\n",
    "    </tbody>\n",
    "</table>"
   ]
  },
  {
   "cell_type": "markdown",
   "metadata": {},
   "source": [
    "<table>\n",
    "    <thead>\n",
    "        <tr>\n",
    "            <th>データ型</th>\n",
    "            <th>エイリアス</th>\n",
    "            <th>文字列指定</th>\n",
    "            <th>説明</th>\n",
    "        </tr>\n",
    "    </thead>\n",
    "    <tbody>\n",
    "        <tr>\n",
    "            <td><m-b>numpy.csingle</m-b></td>\n",
    "            <td>\n",
    "                <ul>\n",
    "                    <li><m-b>singlecomplex</m-b></li>\n",
    "                    <li><m-b>complex64</m-b></li>\n",
    "                </ul>\n",
    "            </td>\n",
    "            <td>\n",
    "                <ul>\n",
    "                    <li><m-b>\"csingle\"</m-b></li>\n",
    "                    <li><m-b>\"singlecomplex\"</m-b></li>\n",
    "                    <li><m-b>\"complex64\"</m-b></li>\n",
    "                </ul>\n",
    "            </td>\n",
    "            <td>実部、虚部にそれぞれ32ビット浮動小数点数を使う複素数</td>\n",
    "        </tr>\n",
    "        <tr>\n",
    "            <td><m-b>numpy.cdouble</m-b></td>\n",
    "            <td>\n",
    "                <ul>\n",
    "                    <li><m-b>cfloat</m-b></li>\n",
    "                    <li><m-b>complex_</m-b></li>\n",
    "                    <li><m-b>complex128</m-b></li>\n",
    "                </ul>\n",
    "            </td>\n",
    "            <td>\n",
    "                <ul>\n",
    "                    <li><m-b>\"cdouble\"</m-b></li>\n",
    "                    <li><m-b>\"cfloat\"</m-b></li>\n",
    "                    <li><m-b>\"complex128\"</m-b></li>\n",
    "                </ul>\n",
    "            </td>\n",
    "            <td>実部、虚部にそれぞれ64ビット浮動小数点数を使う複素数</td>\n",
    "        </tr>\n",
    "        <tr>\n",
    "            <td><m-b>numpy.clongdouble</m-b></td>\n",
    "            <td>\n",
    "                <ul>\n",
    "                    <li><m-b>clongfloat</m-b></li>\n",
    "                    <li><m-b>longcomplex</m-b></li>\n",
    "                    <li><m-b>complex256</m-b></li>\n",
    "                </ul>\n",
    "            </td>\n",
    "            <td>\n",
    "                <ul>\n",
    "                    <li><m-b>\"clongdouble\"</m-b></li>\n",
    "                    <li><m-b>\"clongfloat\"</m-b></li>\n",
    "                    <li><m-b>\"complex256\"</m-b></li>\n",
    "                </ul>\n",
    "            </td>\n",
    "            <td>実部、虚部にそれぞれ128ビット浮動小数点数を使う複素数</td>\n",
    "        </tr>\n",
    "    </tbody>\n",
    "</table>\n"
   ]
  },
  {
   "cell_type": "code",
   "execution_count": 8,
   "metadata": {},
   "outputs": [
    {
     "name": "stdout",
     "output_type": "stream",
     "text": [
      "128\n",
      "<class 'numpy.uint8'>\n",
      "uint8\n"
     ]
    }
   ],
   "source": [
    "i = np.uint8(128)\n",
    "print(i)\n",
    "print(type(i))\n",
    "print(i.dtype)"
   ]
  },
  {
   "cell_type": "code",
   "execution_count": 9,
   "metadata": {},
   "outputs": [
    {
     "name": "stdout",
     "output_type": "stream",
     "text": [
      "0.125\n",
      "<class 'numpy.float32'>\n",
      "float32\n"
     ]
    }
   ],
   "source": [
    "f = np.single(\"0.125\")\n",
    "print(f)\n",
    "print(type(f))\n",
    "print(f.dtype)"
   ]
  },
  {
   "cell_type": "code",
   "execution_count": 14,
   "metadata": {},
   "outputs": [
    {
     "name": "stdout",
     "output_type": "stream",
     "text": [
      "0.001\n",
      "<class 'numpy.float32'>\n",
      "float32\n"
     ]
    }
   ],
   "source": [
    "f = np.single(0.001)\n",
    "print(f)\n",
    "print(type(f))\n",
    "print(f.dtype)"
   ]
  },
  {
   "cell_type": "code",
   "execution_count": 16,
   "metadata": {},
   "outputs": [
    {
     "data": {
      "text/plain": [
       "iinfo(min=-2147483648, max=2147483647, dtype=int32)"
      ]
     },
     "execution_count": 16,
     "metadata": {},
     "output_type": "execute_result"
    }
   ],
   "source": [
    "np.iinfo(np.intc)"
   ]
  },
  {
   "cell_type": "code",
   "execution_count": 18,
   "metadata": {},
   "outputs": [
    {
     "data": {
      "text/plain": [
       "iinfo(min=-9223372036854775808, max=9223372036854775807, dtype=int64)"
      ]
     },
     "execution_count": 18,
     "metadata": {},
     "output_type": "execute_result"
    }
   ],
   "source": [
    "np.iinfo(1)"
   ]
  },
  {
   "cell_type": "code",
   "execution_count": 20,
   "metadata": {},
   "outputs": [
    {
     "data": {
      "text/plain": [
       "finfo(resolution=1e-15, min=-1.7976931348623157e+308, max=1.7976931348623157e+308, dtype=float64)"
      ]
     },
     "execution_count": 20,
     "metadata": {},
     "output_type": "execute_result"
    }
   ],
   "source": [
    "np.finfo(np.double)"
   ]
  },
  {
   "cell_type": "code",
   "execution_count": 22,
   "metadata": {},
   "outputs": [
    {
     "ename": "ValueError",
     "evalue": "Invalid integer data type 'c'.",
     "output_type": "error",
     "traceback": [
      "\u001b[1;31m---------------------------------------------------------------------------\u001b[0m",
      "\u001b[1;31mValueError\u001b[0m                                Traceback (most recent call last)",
      "Cell \u001b[1;32mIn[22], line 1\u001b[0m\n\u001b[1;32m----> 1\u001b[0m \u001b[43mnp\u001b[49m\u001b[38;5;241;43m.\u001b[39;49m\u001b[43miinfo\u001b[49m\u001b[43m(\u001b[49m\u001b[43mnp\u001b[49m\u001b[38;5;241;43m.\u001b[39;49m\u001b[43mcomplex64\u001b[49m\u001b[43m)\u001b[49m\n",
      "File \u001b[1;32m~\\AppData\\Roaming\\Python\\Python312\\site-packages\\numpy\\_core\\getlimits.py:706\u001b[0m, in \u001b[0;36miinfo.__init__\u001b[1;34m(self, int_type)\u001b[0m\n\u001b[0;32m    704\u001b[0m \u001b[38;5;28mself\u001b[39m\u001b[38;5;241m.\u001b[39mkey \u001b[38;5;241m=\u001b[39m \u001b[38;5;124m\"\u001b[39m\u001b[38;5;132;01m%s\u001b[39;00m\u001b[38;5;132;01m%d\u001b[39;00m\u001b[38;5;124m\"\u001b[39m \u001b[38;5;241m%\u001b[39m (\u001b[38;5;28mself\u001b[39m\u001b[38;5;241m.\u001b[39mkind, \u001b[38;5;28mself\u001b[39m\u001b[38;5;241m.\u001b[39mbits)\n\u001b[0;32m    705\u001b[0m \u001b[38;5;28;01mif\u001b[39;00m \u001b[38;5;28mself\u001b[39m\u001b[38;5;241m.\u001b[39mkind \u001b[38;5;129;01mnot\u001b[39;00m \u001b[38;5;129;01min\u001b[39;00m \u001b[38;5;124m'\u001b[39m\u001b[38;5;124miu\u001b[39m\u001b[38;5;124m'\u001b[39m:\n\u001b[1;32m--> 706\u001b[0m     \u001b[38;5;28;01mraise\u001b[39;00m \u001b[38;5;167;01mValueError\u001b[39;00m(\u001b[38;5;124m\"\u001b[39m\u001b[38;5;124mInvalid integer data type \u001b[39m\u001b[38;5;132;01m%r\u001b[39;00m\u001b[38;5;124m.\u001b[39m\u001b[38;5;124m\"\u001b[39m \u001b[38;5;241m%\u001b[39m (\u001b[38;5;28mself\u001b[39m\u001b[38;5;241m.\u001b[39mkind,))\n",
      "\u001b[1;31mValueError\u001b[0m: Invalid integer data type 'c'."
     ]
    }
   ],
   "source": [
    "np.iinfo(np.complex64)"
   ]
  },
  {
   "cell_type": "code",
   "execution_count": 24,
   "metadata": {},
   "outputs": [
    {
     "data": {
      "text/plain": [
       "finfo(resolution=1e-06, min=-3.4028235e+38, max=3.4028235e+38, dtype=float32)"
      ]
     },
     "execution_count": 24,
     "metadata": {},
     "output_type": "execute_result"
    }
   ],
   "source": [
    "np.finfo(np.csingle)"
   ]
  },
  {
   "cell_type": "code",
   "execution_count": null,
   "metadata": {},
   "outputs": [
    {
     "data": {
      "text/plain": [
       "dtype('int64')"
      ]
     },
     "execution_count": 26,
     "metadata": {},
     "output_type": "execute_result"
    }
   ],
   "source": [
    "# Pythonの組み込みの数値型に対する暗黙の型変換\n",
    "np.array([1]).dtype"
   ]
  },
  {
   "cell_type": "code",
   "execution_count": 27,
   "metadata": {},
   "outputs": [
    {
     "data": {
      "text/plain": [
       "dtype('float64')"
      ]
     },
     "execution_count": 27,
     "metadata": {},
     "output_type": "execute_result"
    }
   ],
   "source": [
    "np.array([0.1]).dtype"
   ]
  },
  {
   "cell_type": "code",
   "execution_count": 29,
   "metadata": {},
   "outputs": [
    {
     "data": {
      "text/plain": [
       "dtype('complex128')"
      ]
     },
     "execution_count": 29,
     "metadata": {},
     "output_type": "execute_result"
    }
   ],
   "source": [
    "np.array([1 - 2j]).dtype"
   ]
  },
  {
   "cell_type": "code",
   "execution_count": null,
   "metadata": {},
   "outputs": [
    {
     "data": {
      "text/plain": [
       "array([1], dtype=int8)"
      ]
     },
     "execution_count": 30,
     "metadata": {},
     "output_type": "execute_result"
    }
   ],
   "source": [
    "# 明示的な型変換\n",
    "np.array([1]).astype(np.byte)"
   ]
  },
  {
   "cell_type": "code",
   "execution_count": 31,
   "metadata": {},
   "outputs": [
    {
     "data": {
      "text/plain": [
       "array([  0,  -4, 123], dtype=int32)"
      ]
     },
     "execution_count": 31,
     "metadata": {},
     "output_type": "execute_result"
    }
   ],
   "source": [
    "np.array([0.3, -4.9, 123.456]).astype(np.intc)"
   ]
  },
  {
   "cell_type": "code",
   "execution_count": 33,
   "metadata": {},
   "outputs": [
    {
     "name": "stderr",
     "output_type": "stream",
     "text": [
      "C:\\Users\\kgrmr\\AppData\\Local\\Temp\\ipykernel_28300\\3836418833.py:4: RuntimeWarning: overflow encountered in scalar subtract\n",
      "  a - b\n"
     ]
    },
    {
     "data": {
      "text/plain": [
       "np.uint8(255)"
      ]
     },
     "execution_count": 33,
     "metadata": {},
     "output_type": "execute_result"
    }
   ],
   "source": [
    "# オーバーフロー\n",
    "a = np.uint8(0)\n",
    "b = np.uint8(1)\n",
    "a - b"
   ]
  },
  {
   "cell_type": "code",
   "execution_count": 34,
   "metadata": {},
   "outputs": [
    {
     "name": "stderr",
     "output_type": "stream",
     "text": [
      "C:\\Users\\kgrmr\\AppData\\Local\\Temp\\ipykernel_28300\\3252698734.py:3: RuntimeWarning: overflow encountered in scalar add\n",
      "  a + b\n"
     ]
    },
    {
     "data": {
      "text/plain": [
       "np.uint8(0)"
      ]
     },
     "execution_count": 34,
     "metadata": {},
     "output_type": "execute_result"
    }
   ],
   "source": [
    "a = np.uint8(255)\n",
    "b = np.uint8(1)\n",
    "a + b"
   ]
  },
  {
   "cell_type": "code",
   "execution_count": 36,
   "metadata": {},
   "outputs": [
    {
     "data": {
      "text/plain": [
       "100000000000000000000"
      ]
     },
     "execution_count": 36,
     "metadata": {},
     "output_type": "execute_result"
    }
   ],
   "source": [
    "10 ** 20"
   ]
  },
  {
   "cell_type": "code",
   "execution_count": 39,
   "metadata": {},
   "outputs": [
    {
     "data": {
      "text/plain": [
       "np.int64(7766279631452241920)"
      ]
     },
     "execution_count": 39,
     "metadata": {},
     "output_type": "execute_result"
    }
   ],
   "source": [
    "np.power(10, 20, dtype=np.int64)"
   ]
  },
  {
   "cell_type": "code",
   "execution_count": 48,
   "metadata": {},
   "outputs": [
    {
     "name": "stdout",
     "output_type": "stream",
     "text": [
      "True\n",
      "False\n"
     ]
    }
   ],
   "source": [
    "print(np.equal(10**10, np.power(10, 10, dtype=np.int64)))\n",
    "print(np.equal(10**20, np.power(10, 20, dtype=np.int64)))"
   ]
  },
  {
   "cell_type": "code",
   "execution_count": 38,
   "metadata": {},
   "outputs": [
    {
     "data": {
      "text/plain": [
       "np.float32(1e+20)"
      ]
     },
     "execution_count": 38,
     "metadata": {},
     "output_type": "execute_result"
    }
   ],
   "source": [
    "np.power(10, 20, dtype=np.float32)"
   ]
  },
  {
   "cell_type": "code",
   "execution_count": 40,
   "metadata": {},
   "outputs": [
    {
     "name": "stderr",
     "output_type": "stream",
     "text": [
      "C:\\Users\\kgrmr\\AppData\\Local\\Temp\\ipykernel_28300\\1215880753.py:1: RuntimeWarning: overflow encountered in power\n",
      "  np.power(10, 100, dtype=np.float32)\n"
     ]
    },
    {
     "data": {
      "text/plain": [
       "np.float32(inf)"
      ]
     },
     "execution_count": 40,
     "metadata": {},
     "output_type": "execute_result"
    }
   ],
   "source": [
    "np.power(10, 100, dtype=np.float32)"
   ]
  },
  {
   "cell_type": "code",
   "execution_count": 42,
   "metadata": {},
   "outputs": [
    {
     "name": "stderr",
     "output_type": "stream",
     "text": [
      "C:\\Users\\kgrmr\\AppData\\Local\\Temp\\ipykernel_28300\\3650871706.py:1: RuntimeWarning: invalid value encountered in divide\n",
      "  np.divide(np.inf, np.inf)\n"
     ]
    },
    {
     "data": {
      "text/plain": [
       "np.float64(nan)"
      ]
     },
     "execution_count": 42,
     "metadata": {},
     "output_type": "execute_result"
    }
   ],
   "source": [
    "np.divide(np.inf, np.inf)"
   ]
  },
  {
   "cell_type": "code",
   "execution_count": 35,
   "metadata": {},
   "outputs": [
    {
     "data": {
      "text/plain": [
       "array([ 10.77,  27.5 , -33.8 ])"
      ]
     },
     "execution_count": 35,
     "metadata": {},
     "output_type": "execute_result"
    }
   ],
   "source": [
    "# 暗黙の型変換\n",
    "a = np.array([12, 23, 34], dtype=np.uint8)\n",
    "b = np.array([-1.23, 4.5, -67.8], dtype=np.double)\n",
    "a + b"
   ]
  }
 ],
 "metadata": {
  "kernelspec": {
   "display_name": "Python 3",
   "language": "python",
   "name": "python3"
  },
  "language_info": {
   "codemirror_mode": {
    "name": "ipython",
    "version": 3
   },
   "file_extension": ".py",
   "mimetype": "text/x-python",
   "name": "python",
   "nbconvert_exporter": "python",
   "pygments_lexer": "ipython3",
   "version": "3.12.4"
  }
 },
 "nbformat": 4,
 "nbformat_minor": 2
}
